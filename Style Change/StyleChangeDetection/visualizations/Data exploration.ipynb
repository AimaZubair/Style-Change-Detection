{
 "cells": [
  {
   "cell_type": "code",
   "execution_count": 1,
   "metadata": {},
   "outputs": [],
   "source": [
    "import os\n",
    "import json\n",
    "\n",
    "def get_data(folder_name):\n",
    "    x = []\n",
    "    y = []\n",
    "    positions = []\n",
    "    file_names = []\n",
    "\n",
    "    for file in os.listdir(folder_name):\n",
    "        if file.endswith(\".txt\"):\n",
    "            file_name = os.path.join(folder_name, file[:-4])\n",
    "\n",
    "            file_text = open(file_name + '.txt', encoding='utf8')\n",
    "            try:\n",
    "                file_truth = open(file_name + '.truth', encoding='utf8')\n",
    "\n",
    "                try:\n",
    "                    text = file_text.read()\n",
    "                    truth = json.load(file_truth)\n",
    "                    truth_changes = truth['changes']\n",
    "                    truth_positions = truth['positions']\n",
    "\n",
    "                    x.append(text)\n",
    "                    y.append(truth_changes)\n",
    "                    positions.append(truth_positions)\n",
    "                    file_names.append(file[:-4])\n",
    "                finally:\n",
    "                    file_truth.close()\n",
    "            finally:\n",
    "                file_text.close()\n",
    "\n",
    "    return x, y, positions, file_names"
   ]
  },
  {
   "cell_type": "code",
   "execution_count": 2,
   "metadata": {},
   "outputs": [],
   "source": [
    "def custom_sent_tokenize(text):\n",
    "    sentences = []\n",
    "    paragraphs = [p for p in text.split('\\n') if p]\n",
    "    for paragraph in paragraphs:\n",
    "        paragraph = paragraph + '\\n'\n",
    "        sentences.extend(sent_tokenize(paragraph))\n",
    "        \n",
    "    return sentences"
   ]
  },
  {
   "cell_type": "code",
   "execution_count": 3,
   "metadata": {},
   "outputs": [],
   "source": [
    "import pandas as pd\n",
    "from nltk.tokenize import sent_tokenize, word_tokenize\n",
    "\n",
    "TRAINING_DIR = '../data/training'\n",
    "VALIDATION_DIR = '../data/validation'\n",
    "\n",
    "dirs = [TRAINING_DIR, VALIDATION_DIR]\n",
    "dfs = {}\n",
    "\n",
    "for dir in dirs:\n",
    "    X, y, positions, file_names = get_data(\n",
    "        dir)\n",
    "    name = dir.split('/')[-1]\n",
    "    dfs[name] = pd.DataFrame(data={'text': X, 'label': y, 'filename': file_names, 'pos':positions})\n",
    "    dfs[name]['num_sent'] = [len(sent_tokenize(d)) for d in dfs[name].text]\n",
    "    dfs[name]['num_sent_custom'] = [len(custom_sent_tokenize(d)) for d in dfs[name].text]\n",
    "    dfs[name]['num_splits'] = [len(x) for x in dfs[name].pos]\n",
    "    dfs[name]['num_words'] = [len(word_tokenize(x)) for x in dfs[name].text]\n",
    "    dfs[name]['num_parag'] = [x.count('\\n') for x in dfs[name].text]\n",
    "    dfs[name]['num_char'] = [len(x) for x in dfs[name].text]"
   ]
  },
  {
   "cell_type": "code",
   "execution_count": 4,
   "metadata": {},
   "outputs": [
    {
     "name": "stdout",
     "output_type": "stream",
     "text": [
      "training (1786,)\n",
      "validation (1492,)\n"
     ]
    }
   ],
   "source": [
    "for key, df in dfs.items():\n",
    "    print(key, df.text.shape)"
   ]
  },
  {
   "cell_type": "code",
   "execution_count": 5,
   "metadata": {},
   "outputs": [
    {
     "name": "stderr",
     "output_type": "stream",
     "text": [
      "<__array_function__ internals>:5: RuntimeWarning: Converting input from bool to <class 'numpy.uint8'> for compatibility.\n"
     ]
    },
    {
     "ename": "TypeError",
     "evalue": "numpy boolean subtract, the `-` operator, is not supported, use the bitwise_xor, the `^` operator, or the logical_xor function instead.",
     "output_type": "error",
     "traceback": [
      "\u001b[1;31m---------------------------------------------------------------------------\u001b[0m",
      "\u001b[1;31mKeyError\u001b[0m                                  Traceback (most recent call last)",
      "\u001b[1;32m~\\anaconda3\\envs\\env\\lib\\site-packages\\numpy\\lib\\histograms.py\u001b[0m in \u001b[0;36m_unsigned_subtract\u001b[1;34m(a, b)\u001b[0m\n\u001b[0;32m    350\u001b[0m     \u001b[1;32mtry\u001b[0m\u001b[1;33m:\u001b[0m\u001b[1;33m\u001b[0m\u001b[1;33m\u001b[0m\u001b[0m\n\u001b[1;32m--> 351\u001b[1;33m         \u001b[0mdt\u001b[0m \u001b[1;33m=\u001b[0m \u001b[0msigned_to_unsigned\u001b[0m\u001b[1;33m[\u001b[0m\u001b[0mdt\u001b[0m\u001b[1;33m.\u001b[0m\u001b[0mtype\u001b[0m\u001b[1;33m]\u001b[0m\u001b[1;33m\u001b[0m\u001b[1;33m\u001b[0m\u001b[0m\n\u001b[0m\u001b[0;32m    352\u001b[0m     \u001b[1;32mexcept\u001b[0m \u001b[0mKeyError\u001b[0m\u001b[1;33m:\u001b[0m\u001b[1;33m\u001b[0m\u001b[1;33m\u001b[0m\u001b[0m\n",
      "\u001b[1;31mKeyError\u001b[0m: <class 'numpy.bool_'>",
      "\nDuring handling of the above exception, another exception occurred:\n",
      "\u001b[1;31mTypeError\u001b[0m                                 Traceback (most recent call last)",
      "\u001b[1;32m<ipython-input-5-d1fd2623e59a>\u001b[0m in \u001b[0;36m<module>\u001b[1;34m\u001b[0m\n\u001b[0;32m      5\u001b[0m     \u001b[0mplt\u001b[0m\u001b[1;33m.\u001b[0m\u001b[0mfigure\u001b[0m\u001b[1;33m(\u001b[0m\u001b[1;33m)\u001b[0m\u001b[1;33m\u001b[0m\u001b[1;33m\u001b[0m\u001b[0m\n\u001b[0;32m      6\u001b[0m     \u001b[0mplt\u001b[0m\u001b[1;33m.\u001b[0m\u001b[0mtitle\u001b[0m\u001b[1;33m(\u001b[0m\u001b[0mkey\u001b[0m\u001b[1;33m)\u001b[0m\u001b[1;33m\u001b[0m\u001b[1;33m\u001b[0m\u001b[0m\n\u001b[1;32m----> 7\u001b[1;33m     \u001b[0mprint\u001b[0m\u001b[1;33m(\u001b[0m\u001b[0mdf\u001b[0m\u001b[1;33m.\u001b[0m\u001b[0mlabel\u001b[0m\u001b[1;33m.\u001b[0m\u001b[0mhist\u001b[0m\u001b[1;33m(\u001b[0m\u001b[1;33m)\u001b[0m\u001b[1;33m)\u001b[0m\u001b[1;33m\u001b[0m\u001b[1;33m\u001b[0m\u001b[0m\n\u001b[0m",
      "\u001b[1;32m~\\anaconda3\\envs\\env\\lib\\site-packages\\pandas\\plotting\\_core.py\u001b[0m in \u001b[0;36mhist_series\u001b[1;34m(self, by, ax, grid, xlabelsize, xrot, ylabelsize, yrot, figsize, bins, backend, legend, **kwargs)\u001b[0m\n\u001b[0;32m     83\u001b[0m     \"\"\"\n\u001b[0;32m     84\u001b[0m     \u001b[0mplot_backend\u001b[0m \u001b[1;33m=\u001b[0m \u001b[0m_get_plot_backend\u001b[0m\u001b[1;33m(\u001b[0m\u001b[0mbackend\u001b[0m\u001b[1;33m)\u001b[0m\u001b[1;33m\u001b[0m\u001b[1;33m\u001b[0m\u001b[0m\n\u001b[1;32m---> 85\u001b[1;33m     return plot_backend.hist_series(\n\u001b[0m\u001b[0;32m     86\u001b[0m         \u001b[0mself\u001b[0m\u001b[1;33m,\u001b[0m\u001b[1;33m\u001b[0m\u001b[1;33m\u001b[0m\u001b[0m\n\u001b[0;32m     87\u001b[0m         \u001b[0mby\u001b[0m\u001b[1;33m=\u001b[0m\u001b[0mby\u001b[0m\u001b[1;33m,\u001b[0m\u001b[1;33m\u001b[0m\u001b[1;33m\u001b[0m\u001b[0m\n",
      "\u001b[1;32m~\\anaconda3\\envs\\env\\lib\\site-packages\\pandas\\plotting\\_matplotlib\\hist.py\u001b[0m in \u001b[0;36mhist_series\u001b[1;34m(self, by, ax, grid, xlabelsize, xrot, ylabelsize, yrot, figsize, bins, legend, **kwds)\u001b[0m\n\u001b[0;32m    336\u001b[0m         \u001b[1;32mif\u001b[0m \u001b[0mlegend\u001b[0m\u001b[1;33m:\u001b[0m\u001b[1;33m\u001b[0m\u001b[1;33m\u001b[0m\u001b[0m\n\u001b[0;32m    337\u001b[0m             \u001b[0mkwds\u001b[0m\u001b[1;33m[\u001b[0m\u001b[1;34m\"label\"\u001b[0m\u001b[1;33m]\u001b[0m \u001b[1;33m=\u001b[0m \u001b[0mself\u001b[0m\u001b[1;33m.\u001b[0m\u001b[0mname\u001b[0m\u001b[1;33m\u001b[0m\u001b[1;33m\u001b[0m\u001b[0m\n\u001b[1;32m--> 338\u001b[1;33m         \u001b[0max\u001b[0m\u001b[1;33m.\u001b[0m\u001b[0mhist\u001b[0m\u001b[1;33m(\u001b[0m\u001b[0mvalues\u001b[0m\u001b[1;33m,\u001b[0m \u001b[0mbins\u001b[0m\u001b[1;33m=\u001b[0m\u001b[0mbins\u001b[0m\u001b[1;33m,\u001b[0m \u001b[1;33m**\u001b[0m\u001b[0mkwds\u001b[0m\u001b[1;33m)\u001b[0m\u001b[1;33m\u001b[0m\u001b[1;33m\u001b[0m\u001b[0m\n\u001b[0m\u001b[0;32m    339\u001b[0m         \u001b[1;32mif\u001b[0m \u001b[0mlegend\u001b[0m\u001b[1;33m:\u001b[0m\u001b[1;33m\u001b[0m\u001b[1;33m\u001b[0m\u001b[0m\n\u001b[0;32m    340\u001b[0m             \u001b[0max\u001b[0m\u001b[1;33m.\u001b[0m\u001b[0mlegend\u001b[0m\u001b[1;33m(\u001b[0m\u001b[1;33m)\u001b[0m\u001b[1;33m\u001b[0m\u001b[1;33m\u001b[0m\u001b[0m\n",
      "\u001b[1;32m~\\anaconda3\\envs\\env\\lib\\site-packages\\matplotlib\\__init__.py\u001b[0m in \u001b[0;36minner\u001b[1;34m(ax, data, *args, **kwargs)\u001b[0m\n\u001b[0;32m   1445\u001b[0m     \u001b[1;32mdef\u001b[0m \u001b[0minner\u001b[0m\u001b[1;33m(\u001b[0m\u001b[0max\u001b[0m\u001b[1;33m,\u001b[0m \u001b[1;33m*\u001b[0m\u001b[0margs\u001b[0m\u001b[1;33m,\u001b[0m \u001b[0mdata\u001b[0m\u001b[1;33m=\u001b[0m\u001b[1;32mNone\u001b[0m\u001b[1;33m,\u001b[0m \u001b[1;33m**\u001b[0m\u001b[0mkwargs\u001b[0m\u001b[1;33m)\u001b[0m\u001b[1;33m:\u001b[0m\u001b[1;33m\u001b[0m\u001b[1;33m\u001b[0m\u001b[0m\n\u001b[0;32m   1446\u001b[0m         \u001b[1;32mif\u001b[0m \u001b[0mdata\u001b[0m \u001b[1;32mis\u001b[0m \u001b[1;32mNone\u001b[0m\u001b[1;33m:\u001b[0m\u001b[1;33m\u001b[0m\u001b[1;33m\u001b[0m\u001b[0m\n\u001b[1;32m-> 1447\u001b[1;33m             \u001b[1;32mreturn\u001b[0m \u001b[0mfunc\u001b[0m\u001b[1;33m(\u001b[0m\u001b[0max\u001b[0m\u001b[1;33m,\u001b[0m \u001b[1;33m*\u001b[0m\u001b[0mmap\u001b[0m\u001b[1;33m(\u001b[0m\u001b[0msanitize_sequence\u001b[0m\u001b[1;33m,\u001b[0m \u001b[0margs\u001b[0m\u001b[1;33m)\u001b[0m\u001b[1;33m,\u001b[0m \u001b[1;33m**\u001b[0m\u001b[0mkwargs\u001b[0m\u001b[1;33m)\u001b[0m\u001b[1;33m\u001b[0m\u001b[1;33m\u001b[0m\u001b[0m\n\u001b[0m\u001b[0;32m   1448\u001b[0m \u001b[1;33m\u001b[0m\u001b[0m\n\u001b[0;32m   1449\u001b[0m         \u001b[0mbound\u001b[0m \u001b[1;33m=\u001b[0m \u001b[0mnew_sig\u001b[0m\u001b[1;33m.\u001b[0m\u001b[0mbind\u001b[0m\u001b[1;33m(\u001b[0m\u001b[0max\u001b[0m\u001b[1;33m,\u001b[0m \u001b[1;33m*\u001b[0m\u001b[0margs\u001b[0m\u001b[1;33m,\u001b[0m \u001b[1;33m**\u001b[0m\u001b[0mkwargs\u001b[0m\u001b[1;33m)\u001b[0m\u001b[1;33m\u001b[0m\u001b[1;33m\u001b[0m\u001b[0m\n",
      "\u001b[1;32m~\\anaconda3\\envs\\env\\lib\\site-packages\\matplotlib\\axes\\_axes.py\u001b[0m in \u001b[0;36mhist\u001b[1;34m(self, x, bins, range, density, weights, cumulative, bottom, histtype, align, orientation, rwidth, log, color, label, stacked, **kwargs)\u001b[0m\n\u001b[0;32m   6649\u001b[0m             \u001b[1;31m# this will automatically overwrite bins,\u001b[0m\u001b[1;33m\u001b[0m\u001b[1;33m\u001b[0m\u001b[1;33m\u001b[0m\u001b[0m\n\u001b[0;32m   6650\u001b[0m             \u001b[1;31m# so that each histogram uses the same bins\u001b[0m\u001b[1;33m\u001b[0m\u001b[1;33m\u001b[0m\u001b[1;33m\u001b[0m\u001b[0m\n\u001b[1;32m-> 6651\u001b[1;33m             \u001b[0mm\u001b[0m\u001b[1;33m,\u001b[0m \u001b[0mbins\u001b[0m \u001b[1;33m=\u001b[0m \u001b[0mnp\u001b[0m\u001b[1;33m.\u001b[0m\u001b[0mhistogram\u001b[0m\u001b[1;33m(\u001b[0m\u001b[0mx\u001b[0m\u001b[1;33m[\u001b[0m\u001b[0mi\u001b[0m\u001b[1;33m]\u001b[0m\u001b[1;33m,\u001b[0m \u001b[0mbins\u001b[0m\u001b[1;33m,\u001b[0m \u001b[0mweights\u001b[0m\u001b[1;33m=\u001b[0m\u001b[0mw\u001b[0m\u001b[1;33m[\u001b[0m\u001b[0mi\u001b[0m\u001b[1;33m]\u001b[0m\u001b[1;33m,\u001b[0m \u001b[1;33m**\u001b[0m\u001b[0mhist_kwargs\u001b[0m\u001b[1;33m)\u001b[0m\u001b[1;33m\u001b[0m\u001b[1;33m\u001b[0m\u001b[0m\n\u001b[0m\u001b[0;32m   6652\u001b[0m             \u001b[0mtops\u001b[0m\u001b[1;33m.\u001b[0m\u001b[0mappend\u001b[0m\u001b[1;33m(\u001b[0m\u001b[0mm\u001b[0m\u001b[1;33m)\u001b[0m\u001b[1;33m\u001b[0m\u001b[1;33m\u001b[0m\u001b[0m\n\u001b[0;32m   6653\u001b[0m         \u001b[0mtops\u001b[0m \u001b[1;33m=\u001b[0m \u001b[0mnp\u001b[0m\u001b[1;33m.\u001b[0m\u001b[0marray\u001b[0m\u001b[1;33m(\u001b[0m\u001b[0mtops\u001b[0m\u001b[1;33m,\u001b[0m \u001b[0mfloat\u001b[0m\u001b[1;33m)\u001b[0m  \u001b[1;31m# causes problems later if it's an int\u001b[0m\u001b[1;33m\u001b[0m\u001b[1;33m\u001b[0m\u001b[0m\n",
      "\u001b[1;32m<__array_function__ internals>\u001b[0m in \u001b[0;36mhistogram\u001b[1;34m(*args, **kwargs)\u001b[0m\n",
      "\u001b[1;32m~\\anaconda3\\envs\\env\\lib\\site-packages\\numpy\\lib\\histograms.py\u001b[0m in \u001b[0;36mhistogram\u001b[1;34m(a, bins, range, normed, weights, density)\u001b[0m\n\u001b[0;32m    820\u001b[0m \u001b[1;33m\u001b[0m\u001b[0m\n\u001b[0;32m    821\u001b[0m         \u001b[1;31m# Pre-compute histogram scaling factor\u001b[0m\u001b[1;33m\u001b[0m\u001b[1;33m\u001b[0m\u001b[1;33m\u001b[0m\u001b[0m\n\u001b[1;32m--> 822\u001b[1;33m         \u001b[0mnorm\u001b[0m \u001b[1;33m=\u001b[0m \u001b[0mn_equal_bins\u001b[0m \u001b[1;33m/\u001b[0m \u001b[0m_unsigned_subtract\u001b[0m\u001b[1;33m(\u001b[0m\u001b[0mlast_edge\u001b[0m\u001b[1;33m,\u001b[0m \u001b[0mfirst_edge\u001b[0m\u001b[1;33m)\u001b[0m\u001b[1;33m\u001b[0m\u001b[1;33m\u001b[0m\u001b[0m\n\u001b[0m\u001b[0;32m    823\u001b[0m \u001b[1;33m\u001b[0m\u001b[0m\n\u001b[0;32m    824\u001b[0m         \u001b[1;31m# We iterate over blocks here for two reasons: the first is that for\u001b[0m\u001b[1;33m\u001b[0m\u001b[1;33m\u001b[0m\u001b[1;33m\u001b[0m\u001b[0m\n",
      "\u001b[1;32m~\\anaconda3\\envs\\env\\lib\\site-packages\\numpy\\lib\\histograms.py\u001b[0m in \u001b[0;36m_unsigned_subtract\u001b[1;34m(a, b)\u001b[0m\n\u001b[0;32m    351\u001b[0m         \u001b[0mdt\u001b[0m \u001b[1;33m=\u001b[0m \u001b[0msigned_to_unsigned\u001b[0m\u001b[1;33m[\u001b[0m\u001b[0mdt\u001b[0m\u001b[1;33m.\u001b[0m\u001b[0mtype\u001b[0m\u001b[1;33m]\u001b[0m\u001b[1;33m\u001b[0m\u001b[1;33m\u001b[0m\u001b[0m\n\u001b[0;32m    352\u001b[0m     \u001b[1;32mexcept\u001b[0m \u001b[0mKeyError\u001b[0m\u001b[1;33m:\u001b[0m\u001b[1;33m\u001b[0m\u001b[1;33m\u001b[0m\u001b[0m\n\u001b[1;32m--> 353\u001b[1;33m         \u001b[1;32mreturn\u001b[0m \u001b[0mnp\u001b[0m\u001b[1;33m.\u001b[0m\u001b[0msubtract\u001b[0m\u001b[1;33m(\u001b[0m\u001b[0ma\u001b[0m\u001b[1;33m,\u001b[0m \u001b[0mb\u001b[0m\u001b[1;33m,\u001b[0m \u001b[0mdtype\u001b[0m\u001b[1;33m=\u001b[0m\u001b[0mdt\u001b[0m\u001b[1;33m)\u001b[0m\u001b[1;33m\u001b[0m\u001b[1;33m\u001b[0m\u001b[0m\n\u001b[0m\u001b[0;32m    354\u001b[0m     \u001b[1;32melse\u001b[0m\u001b[1;33m:\u001b[0m\u001b[1;33m\u001b[0m\u001b[1;33m\u001b[0m\u001b[0m\n\u001b[0;32m    355\u001b[0m         \u001b[1;31m# we know the inputs are integers, and we are deliberately casting\u001b[0m\u001b[1;33m\u001b[0m\u001b[1;33m\u001b[0m\u001b[1;33m\u001b[0m\u001b[0m\n",
      "\u001b[1;31mTypeError\u001b[0m: numpy boolean subtract, the `-` operator, is not supported, use the bitwise_xor, the `^` operator, or the logical_xor function instead."
     ]
    },
    {
     "data": {
      "image/png": "[encoded data removed]",
      "text/plain": [
       "<Figure size 432x288 with 1 Axes>"
      ]
     },
     "metadata": {
      "needs_background": "light"
     },
     "output_type": "display_data"
    }
   ],
   "source": [
    "%matplotlib inline\n",
    "import matplotlib.pyplot as plt\n",
    "\n",
    "for key, df in dfs.items():\n",
    "    plt.figure()    \n",
    "    plt.title(key)\n",
    "    print(df.label.hist())"
   ]
  },
  {
   "cell_type": "code",
   "execution_count": null,
   "metadata": {},
   "outputs": [],
   "source": [
    "for key, df in dfs.items():\n",
    "    plt.figure()   \n",
    "    plt.title('Splits') \n",
    "    plt.rcParams.update({'font.size': 16})\n",
    "    print(df.num_splits.hist())"
   ]
  },
  {
   "cell_type": "code",
   "execution_count": null,
   "metadata": {},
   "outputs": [],
   "source": [
    "for key, df in dfs.items():\n",
    "    plt.figure()   \n",
    "    plt.title(key) \n",
    "    plt.rcParams.update({'font.size': 16})\n",
    "    print(df.num_words.hist())"
   ]
  },
  {
   "cell_type": "code",
   "execution_count": null,
   "metadata": {},
   "outputs": [],
   "source": [
    "for key, df in dfs.items():\n",
    "    plt.figure()    \n",
    "    plt.title(key)\n",
    "    print(df.num_parag.hist())"
   ]
  },
  {
   "cell_type": "code",
   "execution_count": null,
   "metadata": {},
   "outputs": [],
   "source": [
    "for key, df in dfs.items():\n",
    "    print(key)\n",
    "    print(df.num_char.describe())\n",
    "    print('---------')"
   ]
  },
  {
   "cell_type": "code",
   "execution_count": null,
   "metadata": {},
   "outputs": [],
   "source": [
    "for key, df in dfs.items():\n",
    "    plt.figure()    \n",
    "    plt.title(key)\n",
    "    print(df.num_sent.hist())"
   ]
  },
  {
   "cell_type": "code",
   "execution_count": null,
   "metadata": {},
   "outputs": [],
   "source": [
    "sents = sent_tokenize(dfs['training'].text[0])\n",
    "for s in sents[:5]:\n",
    "    print(s)\n",
    "    print('---------------')"
   ]
  },
  {
   "cell_type": "code",
   "execution_count": null,
   "metadata": {},
   "outputs": [],
   "source": [
    "for key, df in dfs.items():\n",
    "    print(key)\n",
    "    print(df.num_sent.describe())\n",
    "    print('---------')"
   ]
  },
  {
   "cell_type": "code",
   "execution_count": 39,
   "metadata": {},
   "outputs": [
    {
     "name": "stdout",
     "output_type": "stream",
     "text": [
      "validation\n",
      "count    1492.000000\n",
      "mean       37.548928\n",
      "std        13.898777\n",
      "min         9.000000\n",
      "25%        27.000000\n",
      "50%        37.000000\n",
      "75%        46.000000\n",
      "max       216.000000\n",
      "Name: num_sent_custom, dtype: float64\n",
      "---------\n",
      "training\n",
      "count    2980.000000\n",
      "mean       38.189262\n",
      "std        13.132517\n",
      "min         8.000000\n",
      "25%        28.000000\n",
      "50%        37.000000\n",
      "75%        47.000000\n",
      "max       113.000000\n",
      "Name: num_sent_custom, dtype: float64\n",
      "---------\n"
     ]
    }
   ],
   "source": [
    "for key, df in dfs.items():\n",
    "    print(key)\n",
    "    print(df.num_sent_custom.describe())\n",
    "    print('---------')"
   ]
  },
  {
   "cell_type": "code",
   "execution_count": 11,
   "metadata": {},
   "outputs": [
    {
     "name": "stdout",
     "output_type": "stream",
     "text": [
      "training\n",
      "count    2980.000000\n",
      "mean      863.296644\n",
      "std       251.412524\n",
      "min       341.000000\n",
      "25%       673.000000\n",
      "50%       869.500000\n",
      "75%      1065.250000\n",
      "max      2212.000000\n",
      "Name: num_words, dtype: float64\n",
      "---------\n",
      "validation\n",
      "count    1492.000000\n",
      "mean      856.956434\n",
      "std       251.452905\n",
      "min       341.000000\n",
      "25%       668.750000\n",
      "50%       863.000000\n",
      "75%      1054.000000\n",
      "max      1619.000000\n",
      "Name: num_words, dtype: float64\n",
      "---------\n"
     ]
    }
   ],
   "source": [
    "for key, df in dfs.items():\n",
    "    print(key)\n",
    "    print(df.num_words.describe())\n",
    "    print('---------')"
   ]
  },
  {
   "cell_type": "code",
   "execution_count": 40,
   "metadata": {},
   "outputs": [
    {
     "data": {
      "text/plain": [
       "Text(0.5,0,'')"
      ]
     },
     "execution_count": 40,
     "metadata": {},
     "output_type": "execute_result"
    },
    {
     "data": {
      "image/png": "[encoded data removed]",
      "text/plain": [
       "<matplotlib.figure.Figure at 0x1638aa15710>"
      ]
     },
     "metadata": {},
     "output_type": "display_data"
    }
   ],
   "source": [
    "import seaborn as sns\n",
    "import numpy as np\n",
    "sns.set_style(\"whitegrid\")\n",
    "#plt.xticks(np.arange(0, 150, 5.0))\n",
    "plt.title('Sentences in a doc')\n",
    "ax = sns.boxplot(x=dfs['training'].num_sent_custom)\n",
    "plt.rcParams.update({'font.size': 16})\n",
    "ax.set_xlabel('')"
   ]
  },
  {
   "cell_type": "code",
   "execution_count": 16,
   "metadata": {},
   "outputs": [],
   "source": [
    "df = dfs['training']"
   ]
  },
  {
   "cell_type": "code",
   "execution_count": 17,
   "metadata": {},
   "outputs": [
    {
     "data": {
      "text/html": [
       "<div>\n",
       "<style scoped>\n",
       "    .dataframe tbody tr th:only-of-type {\n",
       "        vertical-align: middle;\n",
       "    }\n",
       "\n",
       "    .dataframe tbody tr th {\n",
       "        vertical-align: top;\n",
       "    }\n",
       "\n",
       "    .dataframe thead th {\n",
       "        text-align: right;\n",
       "    }\n",
       "</style>\n",
       "<table border=\"1\" class=\"dataframe\">\n",
       "  <thead>\n",
       "    <tr style=\"text-align: right;\">\n",
       "      <th></th>\n",
       "      <th>filename</th>\n",
       "      <th>label</th>\n",
       "      <th>pos</th>\n",
       "      <th>text</th>\n",
       "      <th>num_sent</th>\n",
       "      <th>num_sent_custom</th>\n",
       "      <th>num_splits</th>\n",
       "      <th>num_words</th>\n",
       "      <th>num_parag</th>\n",
       "      <th>num_char</th>\n",
       "    </tr>\n",
       "  </thead>\n",
       "  <tbody>\n",
       "    <tr>\n",
       "      <th>0</th>\n",
       "      <td>problem-1410</td>\n",
       "      <td>True</td>\n",
       "      <td>[1683, 2890]</td>\n",
       "      <td>Make up some more tasks and add them to the qu...</td>\n",
       "      <td>32</td>\n",
       "      <td>41</td>\n",
       "      <td>2</td>\n",
       "      <td>770</td>\n",
       "      <td>48</td>\n",
       "      <td>3808</td>\n",
       "    </tr>\n",
       "    <tr>\n",
       "      <th>6</th>\n",
       "      <td>problem-745</td>\n",
       "      <td>True</td>\n",
       "      <td>[1204, 3220]</td>\n",
       "      <td>There's some scientific misconceptions here: \\...</td>\n",
       "      <td>51</td>\n",
       "      <td>55</td>\n",
       "      <td>2</td>\n",
       "      <td>930</td>\n",
       "      <td>26</td>\n",
       "      <td>4497</td>\n",
       "    </tr>\n",
       "    <tr>\n",
       "      <th>7</th>\n",
       "      <td>problem-2307</td>\n",
       "      <td>True</td>\n",
       "      <td>[1448]</td>\n",
       "      <td>The battle of Thermopylae (300 Spartans) is a ...</td>\n",
       "      <td>57</td>\n",
       "      <td>57</td>\n",
       "      <td>1</td>\n",
       "      <td>1009</td>\n",
       "      <td>0</td>\n",
       "      <td>5082</td>\n",
       "    </tr>\n",
       "    <tr>\n",
       "      <th>8</th>\n",
       "      <td>problem-800</td>\n",
       "      <td>True</td>\n",
       "      <td>[1426]</td>\n",
       "      <td>Anas was a young man when the Messenger of All...</td>\n",
       "      <td>18</td>\n",
       "      <td>20</td>\n",
       "      <td>1</td>\n",
       "      <td>550</td>\n",
       "      <td>8</td>\n",
       "      <td>2769</td>\n",
       "    </tr>\n",
       "    <tr>\n",
       "      <th>9</th>\n",
       "      <td>problem-1486</td>\n",
       "      <td>True</td>\n",
       "      <td>[1574, 2470, 4046]</td>\n",
       "      <td>If my child were closer 18, maybe as young as ...</td>\n",
       "      <td>68</td>\n",
       "      <td>71</td>\n",
       "      <td>3</td>\n",
       "      <td>1050</td>\n",
       "      <td>26</td>\n",
       "      <td>5162</td>\n",
       "    </tr>\n",
       "  </tbody>\n",
       "</table>\n",
       "</div>"
      ],
      "text/plain": [
       "       filename  label                 pos  \\\n",
       "0  problem-1410   True        [1683, 2890]   \n",
       "6   problem-745   True        [1204, 3220]   \n",
       "7  problem-2307   True              [1448]   \n",
       "8   problem-800   True              [1426]   \n",
       "9  problem-1486   True  [1574, 2470, 4046]   \n",
       "\n",
       "                                                text  num_sent  \\\n",
       "0  Make up some more tasks and add them to the qu...        32   \n",
       "6  There's some scientific misconceptions here: \\...        51   \n",
       "7  The battle of Thermopylae (300 Spartans) is a ...        57   \n",
       "8  Anas was a young man when the Messenger of All...        18   \n",
       "9  If my child were closer 18, maybe as young as ...        68   \n",
       "\n",
       "   num_sent_custom  num_splits  num_words  num_parag  num_char  \n",
       "0               41           2        770         48      3808  \n",
       "6               55           2        930         26      4497  \n",
       "7               57           1       1009          0      5082  \n",
       "8               20           1        550          8      2769  \n",
       "9               71           3       1050         26      5162  "
      ]
     },
     "execution_count": 17,
     "metadata": {},
     "output_type": "execute_result"
    }
   ],
   "source": [
    "df_splits = []\n",
    "df_true = df[df.label==True]\n",
    "df_true.head()"
   ]
  },
  {
   "cell_type": "code",
   "execution_count": 18,
   "metadata": {},
   "outputs": [],
   "source": [
    "for index, row in df_true.iterrows():\n",
    "    for i, pos in enumerate(row['pos']):\n",
    "        last=0\n",
    "        if i!=0:\n",
    "            last = row['pos'][i-1]            \n",
    "        \n",
    "        df_splits.append(row['text'][last:pos])\n",
    "        \n",
    "    df_splits.append(row['text'][row['pos'][-1]:])"
   ]
  },
  {
   "cell_type": "code",
   "execution_count": 19,
   "metadata": {},
   "outputs": [
    {
     "data": {
      "text/plain": [
       "4416"
      ]
     },
     "execution_count": 19,
     "metadata": {},
     "output_type": "execute_result"
    }
   ],
   "source": [
    "len(df_splits)"
   ]
  },
  {
   "cell_type": "code",
   "execution_count": 23,
   "metadata": {},
   "outputs": [
    {
     "data": {
      "text/plain": [
       "133.8484068830026"
      ]
     },
     "execution_count": 23,
     "metadata": {},
     "output_type": "execute_result"
    }
   ],
   "source": [
    "np.std([len(word_tokenize(x)) for x in df_splits])"
   ]
  },
  {
   "cell_type": "code",
   "execution_count": 45,
   "metadata": {},
   "outputs": [],
   "source": [
    "split_sents = [len(custom_sent_tokenize(s)) for s in df_splits]"
   ]
  },
  {
   "cell_type": "code",
   "execution_count": 46,
   "metadata": {},
   "outputs": [
    {
     "data": {
      "text/plain": [
       "<matplotlib.axes._subplots.AxesSubplot at 0x1638ddd5630>"
      ]
     },
     "execution_count": 46,
     "metadata": {},
     "output_type": "execute_result"
    },
    {
     "data": {
      "image/png": "[encoded data removed]",
      "text/plain": [
       "<matplotlib.figure.Figure at 0x1638aa49e48>"
      ]
     },
     "metadata": {},
     "output_type": "display_data"
    }
   ],
   "source": [
    "sns.set_style(\"whitegrid\")\n",
    "#plt.xticks(np.arange(0, 150, 5.0))\n",
    "plt.rcParams.update({'font.size': 16})\n",
    "plt.title('Sentences in a split segment')\n",
    "sns.boxplot(x=split_sents)"
   ]
  },
  {
   "cell_type": "code",
   "execution_count": 47,
   "metadata": {},
   "outputs": [
    {
     "data": {
      "text/plain": [
       "81"
      ]
     },
     "execution_count": 47,
     "metadata": {},
     "output_type": "execute_result"
    }
   ],
   "source": [
    "max(split_sents)"
   ]
  },
  {
   "cell_type": "code",
   "execution_count": 48,
   "metadata": {},
   "outputs": [
    {
     "data": {
      "text/plain": [
       "2"
      ]
     },
     "execution_count": 48,
     "metadata": {},
     "output_type": "execute_result"
    }
   ],
   "source": [
    "min(split_sents)"
   ]
  },
  {
   "cell_type": "code",
   "execution_count": 49,
   "metadata": {},
   "outputs": [
    {
     "data": {
      "text/plain": [
       "14.325634057971014"
      ]
     },
     "execution_count": 49,
     "metadata": {},
     "output_type": "execute_result"
    }
   ],
   "source": [
    "np.mean(split_sents)"
   ]
  },
  {
   "cell_type": "code",
   "execution_count": 50,
   "metadata": {},
   "outputs": [
    {
     "data": {
      "text/plain": [
       "13.0"
      ]
     },
     "execution_count": 50,
     "metadata": {},
     "output_type": "execute_result"
    }
   ],
   "source": [
    "np.median(split_sents)"
   ]
  },
  {
   "cell_type": "code",
   "execution_count": 78,
   "metadata": {},
   "outputs": [
    {
     "data": {
      "text/plain": [
       "3.0"
      ]
     },
     "execution_count": 78,
     "metadata": {},
     "output_type": "execute_result"
    }
   ],
   "source": [
    "np.percentile(split_sents, 0.1)"
   ]
  },
  {
   "cell_type": "code",
   "execution_count": 56,
   "metadata": {},
   "outputs": [],
   "source": [
    "min_sent = [s for s in df_splits if len(custom_sent_tokenize(s)) < 4]"
   ]
  },
  {
   "cell_type": "code",
   "execution_count": 57,
   "metadata": {},
   "outputs": [
    {
     "data": {
      "text/plain": [
       "8"
      ]
     },
     "execution_count": 57,
     "metadata": {},
     "output_type": "execute_result"
    }
   ],
   "source": [
    "len(min_sent)"
   ]
  },
  {
   "cell_type": "code",
   "execution_count": 58,
   "metadata": {},
   "outputs": [
    {
     "name": "stdout",
     "output_type": "stream",
     "text": [
      "3\n",
      "This is something that both Sanders and Jackson shared, both were very good at both sports to the extent that teams were willing to let them do both even though they had to sacrifice a roster spot to a player who would not be there 100% of the time.\n",
      "-----------------------------\n",
      "It's a long road to get from the draft to the major leagues, excellent players often shortcut one or many levels of their team's farm system, but most players play for at least part of one season in the minor leagues (the last player to go straight to the bigs from the draft was Mike Leake in Cincinnati a couple of years ago) Second, a Perfecto requires that the pitcher retire every batter in the game.\n",
      "-----------------------------\n",
      "That means if the game goes 10 or longer, he must stay in the game in order to get credit for it being a perfect game.\n",
      "-----------------------------\n",
      "$$$$$$$$$$$$$$$$$$$$$$$$$$$$$$$\n",
      "3\n",
      "The other is The Conscious Mind by David Chalmers, who explains forcefully the problem and argues for dualism — though I think he goes wrong in his arguments as he presents his own view, non-reductive functionalism.\n",
      "-----------------------------\n",
      "As an analogy, imagine two mathematicians who reject each other's coordinate systems for a sphere on account of including a singularity point, such as a north pole - let's call it the \"absurdity\" of a coordinate system - and they fail to realize that you cannot \"explain\" a sphere with a single coordinate system which is not \"absurd\" - you need at least two: 4) In particular we do not know if the soul can cease to exist.\n",
      "-----------------------------\n",
      "Reasons to be confident in opinions you formulate: It seems to me that if nature is absurd, then using reductio ad absurdum in metaphysics or philosophy of mind may be wrong and misleading - but nevertheless, philosophers continue to use it - maybe as someone who is stumbling through the dark and refuses to throw away a flashlight that ran out of batteries.\n",
      "-----------------------------\n",
      "$$$$$$$$$$$$$$$$$$$$$$$$$$$$$$$\n",
      "3\n",
      "So the reasons Anglo-catholics (or at least the Anglo-catholic authoring this answer) do not come together with those who profess the supremacy of the Bishop of Rome, is that there are several areas where there is great difference of opinion about matters of the Faith and the Church.\n",
      "-----------------------------\n",
      "I would also note that since the changes in Roman Catholic theology that have occurred since World War II, (used, not because I mean to suggest that war had much to do with the changes in theology itself, but mainly because it provides a convenient marker for the period of time), and especially since the second Vatican council, do seem to make the differences between Anglo-catholics on the one hand, and Catholics, on the other, at least seem less than they once did.\n",
      "-----------------------------\n",
      "These elements have been interpreted in different ways by different architects, and by different theological emphases of various Christian groups, at different times, and in different places, taking to account local materials and customs.\n",
      "-----------------------------\n",
      "$$$$$$$$$$$$$$$$$$$$$$$$$$$$$$$\n",
      "3\n",
      "Yes, it's one of the \"rules that exist to be broken\" - if you have a good plot which requires a \"special snowflake\" at the very beginning, do it - it may be a reversal of the \"growth\" story, where a tired god seeks escape into a calm life of a common mortal, or it may be a comedy with an arrogant, handsome, rich and famous hero running face first into a situation only fit for a \"commoner\", or you may come up with a Machiavellian mind and display its nature through the progress - these are all exceptions, violations of the rule - a rule that says \"start with someone very relatable, then put them through a grinder and show what comes out\".\n",
      "-----------------------------\n",
      "As the story progresses, we observe the change of the protagonist, be it growth in strength or fall to corruption, or getting tangled with powers, or struggling to retain virtues against onslaught of temptations.\n",
      "-----------------------------\n",
      "By starting with someone \"generic\" you give yourself the most room to expand, to make the change more drastic and more meaningful.\n",
      "-----------------------------\n",
      "$$$$$$$$$$$$$$$$$$$$$$$$$$$$$$$\n",
      "3\n",
      "Keeping in mind that teachings of the Judaism is not assosciated with Propet Moses or Moosa peace be upon him or christianity to prophet Jesus or Isa peace be upon him directly as they are later formed and their inspiration contradict to the teachings of Prophet Abraham (Ibrahim).So on one side both Jews and Christians claim to follow the way of Prophet Abraham peace be upon him but are also involved in Shirk.\n",
      "-----------------------------\n",
      "All Praise to Allah Subhanahu wa Taala and blessings of Him be on Prophet Muhammad peace be upon him His family and companions As Drwael has answered I want to make an addition ,In Quran Surah Baqarah , Allah Swt says So Prophet Muhammad peace be upon him was following the way of Prophet Abraham which rejects any idea of polytheism and believing oneness of God.\n",
      "-----------------------------\n",
      "It is narrated from Ibn Abbas Ra which interpretes that some well known jews and christians from madinah gathered and did debate with Muslims on religion and claiming their religion to be best and refusing prophethood of Prophet Muhammad peace be upon him ,rejecting Quran as the holy book and asking muslims to enter into their deen or religion so Allah Swt revealed this ayah.\n",
      "-----------------------------\n",
      "$$$$$$$$$$$$$$$$$$$$$$$$$$$$$$$\n",
      "3\n",
      "Note That some calculation methods instead of using a formula for the calculation (the deviation angle) of 'isha and fajr prayer times add or subtract a fixed amount of time: Um-al-Qora uses 'isha'= maghrib + 90 min during the year with the exception of 'isha' = maghrib + 120 min during Ramadan.\n",
      "-----------------------------\n",
      "I hope you can provide me some referenced answers with a practical solution how this ghusl would/could be performed!\n",
      "-----------------------------\n",
      "If you recite some Surahs from the Koran it is better to recite at the 2nd rakaa a Surah which is smaller then the one you recite in the first rakaa and it should be after that Surah in the order of the Mushaf/Quran (this is a preference, but not a most in some Madhabs) for example you shouldn't recite in the first raka-a Surat An-Nas (114) as you only can therefore only recite it once again in the 2nd raka-a (which is no problem at all), or if you recite Surath al Ikhlass (112) you could only recite afterwards Surath An-Nas (114) or Surat al Falaq (113).\n",
      "-----------------------------\n",
      "$$$$$$$$$$$$$$$$$$$$$$$$$$$$$$$\n",
      "3\n",
      "Screenshot of Android public beta start in two days http://mrozekma.com/so-a51-android-beta-hover.png When a mod converts a post to a comment, if the post contains a link of this form: Screenshot of the above http://mrozekma.com/so-chat-reverse.png If you try and flag two comments in a row, you run into the vote rate-limiter: Screenshot of the host list http://so.mrozekma.com/chat-modify-room-host.png When creating a new chat room, it's possible to not associate it with a specific site, if you choose \"The Stack Exchange Network\" from the site list (it appears twice for some reason, but that's a separate issue): I mangled a convert to comment earlier and needed to undelete the post so I could redo it.\n",
      "-----------------------------\n",
      "When the post was converted a second time, I noticed it suddenly had a single undelete vote (it said \"undelete (1)\" on the link, and showed up in the 10k list).\n",
      "-----------------------------\n",
      "When I undeleted and converted it again it had two votes, and so on:\n",
      "-----------------------------\n",
      "$$$$$$$$$$$$$$$$$$$$$$$$$$$$$$$\n",
      "2\n",
      "When a mod converts a post to a comment, if the post contains a link of this form: If I delete normally it works fine; it's only converting to comment (and probably edit, although I didn't try) more than once that leaves behind undelete votes Screenshot of Unix private beta start mouseover http://mrozekma.com/so-a51-unix-beta-private-hover.png Screenshot of the host list http://so.mrozekma.com/chat-modify-room-host.png Screenshot of Unix public beta start mouseover http://mrozekma.com/so-a51-unix-beta-public-hover.png It's going to take users a minimum of two weeks to hit 2000, and past betas have shown that a massive number of questions get asked when the private beta starts at 0 days and when the public beta starts at 7 days.\n",
      "-----------------------------\n",
      "There are hundreds of new questions just on those two days, plus the early questions tend to define the style of the site, and nobody can edit them until weeks after they've been posted However, when editing a room, the option doesn't appear on the host list: Screenshot of the bug http://so.mrozekma.com/chat-title-bug.png\n",
      "-----------------------------\n",
      "$$$$$$$$$$$$$$$$$$$$$$$$$$$$$$$\n"
     ]
    }
   ],
   "source": [
    "for segm in min_sent:\n",
    "    sents = custom_sent_tokenize(segm)\n",
    "    print(len(sents))\n",
    "    for s in sents:\n",
    "        print(s)\n",
    "        print('-----------------------------')\n",
    "    print('$$$$$$$$$$$$$$$$$$$$$$$$$$$$$$$')"
   ]
  },
  {
   "cell_type": "code",
   "execution_count": 66,
   "metadata": {},
   "outputs": [
    {
     "data": {
      "text/plain": [
       "count    306.000000\n",
       "mean      47.055556\n",
       "std        9.601580\n",
       "min       22.000000\n",
       "25%       40.000000\n",
       "50%       46.000000\n",
       "75%       53.000000\n",
       "max       73.000000\n",
       "Name: num_sent, dtype: float64"
      ]
     },
     "execution_count": 66,
     "metadata": {},
     "output_type": "execute_result"
    }
   ],
   "source": [
    "three_splits = df[df.num_splits==3]\n",
    "three_splits.num_sent.describe()"
   ]
  },
  {
   "cell_type": "code",
   "execution_count": 11,
   "metadata": {},
   "outputs": [
    {
     "data": {
      "text/html": [
       "<div>\n",
       "<style scoped>\n",
       "    .dataframe tbody tr th:only-of-type {\n",
       "        vertical-align: middle;\n",
       "    }\n",
       "\n",
       "    .dataframe tbody tr th {\n",
       "        vertical-align: top;\n",
       "    }\n",
       "\n",
       "    .dataframe thead th {\n",
       "        text-align: right;\n",
       "    }\n",
       "</style>\n",
       "<table border=\"1\" class=\"dataframe\">\n",
       "  <thead>\n",
       "    <tr style=\"text-align: right;\">\n",
       "      <th></th>\n",
       "      <th>filename</th>\n",
       "      <th>label</th>\n",
       "      <th>pos</th>\n",
       "      <th>text</th>\n",
       "      <th>num_sent</th>\n",
       "      <th>num_sent_custom</th>\n",
       "      <th>num_splits</th>\n",
       "      <th>chars</th>\n",
       "    </tr>\n",
       "  </thead>\n",
       "  <tbody>\n",
       "    <tr>\n",
       "      <th>0</th>\n",
       "      <td>problem-1</td>\n",
       "      <td>True</td>\n",
       "      <td>[1204, 4225, 5431]</td>\n",
       "      <td>Definitely remind anyone looking at your forec...</td>\n",
       "      <td>68</td>\n",
       "      <td>70</td>\n",
       "      <td>3</td>\n",
       "      <td>6375</td>\n",
       "    </tr>\n",
       "    <tr>\n",
       "      <th>1</th>\n",
       "      <td>problem-10</td>\n",
       "      <td>True</td>\n",
       "      <td>[1198, 4386]</td>\n",
       "      <td>Assuming you'd like to be Scrum Guide complian...</td>\n",
       "      <td>47</td>\n",
       "      <td>50</td>\n",
       "      <td>2</td>\n",
       "      <td>5386</td>\n",
       "    </tr>\n",
       "    <tr>\n",
       "      <th>2</th>\n",
       "      <td>problem-100</td>\n",
       "      <td>False</td>\n",
       "      <td>[]</td>\n",
       "      <td>It's all about finding the right balance. I'd ...</td>\n",
       "      <td>32</td>\n",
       "      <td>32</td>\n",
       "      <td>0</td>\n",
       "      <td>3748</td>\n",
       "    </tr>\n",
       "    <tr>\n",
       "      <th>3</th>\n",
       "      <td>problem-1000</td>\n",
       "      <td>True</td>\n",
       "      <td>[909, 3045, 4196]</td>\n",
       "      <td>The inbox also suffers from being an unrecogni...</td>\n",
       "      <td>47</td>\n",
       "      <td>47</td>\n",
       "      <td>3</td>\n",
       "      <td>5171</td>\n",
       "    </tr>\n",
       "    <tr>\n",
       "      <th>4</th>\n",
       "      <td>problem-1001</td>\n",
       "      <td>True</td>\n",
       "      <td>[2197, 3464]</td>\n",
       "      <td>Second verse, same as the first? It still lack...</td>\n",
       "      <td>60</td>\n",
       "      <td>60</td>\n",
       "      <td>2</td>\n",
       "      <td>5808</td>\n",
       "    </tr>\n",
       "  </tbody>\n",
       "</table>\n",
       "</div>"
      ],
      "text/plain": [
       "       filename  label                 pos  \\\n",
       "0     problem-1   True  [1204, 4225, 5431]   \n",
       "1    problem-10   True        [1198, 4386]   \n",
       "2   problem-100  False                  []   \n",
       "3  problem-1000   True   [909, 3045, 4196]   \n",
       "4  problem-1001   True        [2197, 3464]   \n",
       "\n",
       "                                                text  num_sent  \\\n",
       "0  Definitely remind anyone looking at your forec...        68   \n",
       "1  Assuming you'd like to be Scrum Guide complian...        47   \n",
       "2  It's all about finding the right balance. I'd ...        32   \n",
       "3  The inbox also suffers from being an unrecogni...        47   \n",
       "4  Second verse, same as the first? It still lack...        60   \n",
       "\n",
       "   num_sent_custom  num_splits  chars  \n",
       "0               70           3   6375  \n",
       "1               50           2   5386  \n",
       "2               32           0   3748  \n",
       "3               47           3   5171  \n",
       "4               60           2   5808  "
      ]
     },
     "execution_count": 11,
     "metadata": {},
     "output_type": "execute_result"
    }
   ],
   "source": [
    "df.head()"
   ]
  },
  {
   "cell_type": "code",
   "execution_count": 10,
   "metadata": {},
   "outputs": [],
   "source": [
    "df['chars'] = [len(x) for x in df.text]"
   ]
  },
  {
   "cell_type": "code",
   "execution_count": 25,
   "metadata": {},
   "outputs": [],
   "source": [
    "df = dfs['validation']"
   ]
  },
  {
   "cell_type": "code",
   "execution_count": 27,
   "metadata": {},
   "outputs": [
    {
     "data": {
      "text/plain": [
       "Text(0,0.5,'Sentences')"
      ]
     },
     "execution_count": 27,
     "metadata": {},
     "output_type": "execute_result"
    },
    {
     "data": {
      "image/png": "[encoded data removed]",
      "text/plain": [
       "<matplotlib.figure.Figure at 0x1638acb7ef0>"
      ]
     },
     "metadata": {},
     "output_type": "display_data"
    }
   ],
   "source": [
    "import seaborn as sns\n",
    "from numpy import median, mean\n",
    "plt.rcParams.update({'font.size': 16})\n",
    "ax = sns.barplot(x=\"num_splits\", y=\"num_sent_custom\", data=dfs['training'], estimator=median)\n",
    "ax.set_xlabel('Splits')\n",
    "ax.set_ylabel('Sentences')"
   ]
  },
  {
   "cell_type": "code",
   "execution_count": 28,
   "metadata": {},
   "outputs": [
    {
     "data": {
      "text/plain": [
       "Text(0,0.5,'Sentences')"
      ]
     },
     "execution_count": 28,
     "metadata": {},
     "output_type": "execute_result"
    },
    {
     "data": {
      "image/png": "[encoded data removed]",
      "text/plain": [
       "<matplotlib.figure.Figure at 0x1638dd64128>"
      ]
     },
     "metadata": {},
     "output_type": "display_data"
    }
   ],
   "source": [
    "plt.rcParams.update({'font.size': 16})\n",
    "ax = sns.barplot(x=\"num_splits\", y=\"num_sent_custom\", data=dfs['validation'], estimator=median)\n",
    "ax.set_xlabel('Splits')\n",
    "ax.set_ylabel('Sentences')"
   ]
  },
  {
   "cell_type": "code",
   "execution_count": 59,
   "metadata": {},
   "outputs": [],
   "source": [
    "doc_sent = [custom_sent_tokenize(d) for d in df.text]"
   ]
  },
  {
   "cell_type": "code",
   "execution_count": 61,
   "metadata": {},
   "outputs": [],
   "source": [
    "from itertools import chain\n",
    "from nltk.tokenize import sent_tokenize, word_tokenize\n",
    "\n",
    "sentences = list(chain.from_iterable(doc_sent))\n",
    "words = [len(word_tokenize(s)) for s in sentences]"
   ]
  },
  {
   "cell_type": "code",
   "execution_count": 62,
   "metadata": {},
   "outputs": [
    {
     "data": {
      "text/html": [
       "<div>\n",
       "<style scoped>\n",
       "    .dataframe tbody tr th:only-of-type {\n",
       "        vertical-align: middle;\n",
       "    }\n",
       "\n",
       "    .dataframe tbody tr th {\n",
       "        vertical-align: top;\n",
       "    }\n",
       "\n",
       "    .dataframe thead th {\n",
       "        text-align: right;\n",
       "    }\n",
       "</style>\n",
       "<table border=\"1\" class=\"dataframe\">\n",
       "  <thead>\n",
       "    <tr style=\"text-align: right;\">\n",
       "      <th></th>\n",
       "      <th>num_words</th>\n",
       "      <th>text</th>\n",
       "    </tr>\n",
       "  </thead>\n",
       "  <tbody>\n",
       "    <tr>\n",
       "      <th>0</th>\n",
       "      <td>21</td>\n",
       "      <td>Definitely remind anyone looking at your forec...</td>\n",
       "    </tr>\n",
       "    <tr>\n",
       "      <th>1</th>\n",
       "      <td>10</td>\n",
       "      <td>What is the team's last 3 iteration velocity?</td>\n",
       "    </tr>\n",
       "    <tr>\n",
       "      <th>2</th>\n",
       "      <td>3</td>\n",
       "      <td>Current iteration?</td>\n",
       "    </tr>\n",
       "    <tr>\n",
       "      <th>3</th>\n",
       "      <td>4</td>\n",
       "      <td>Total project duration?</td>\n",
       "    </tr>\n",
       "    <tr>\n",
       "      <th>4</th>\n",
       "      <td>17</td>\n",
       "      <td>A highly variable velocity should prompt you t...</td>\n",
       "    </tr>\n",
       "  </tbody>\n",
       "</table>\n",
       "</div>"
      ],
      "text/plain": [
       "   num_words                                               text\n",
       "0         21  Definitely remind anyone looking at your forec...\n",
       "1         10      What is the team's last 3 iteration velocity?\n",
       "2          3                                 Current iteration?\n",
       "3          4                            Total project duration?\n",
       "4         17  A highly variable velocity should prompt you t..."
      ]
     },
     "execution_count": 62,
     "metadata": {},
     "output_type": "execute_result"
    }
   ],
   "source": [
    "df_sent = pd.DataFrame(data={'text': sentences, 'num_words': words})\n",
    "df_sent.head()"
   ]
  },
  {
   "cell_type": "code",
   "execution_count": 63,
   "metadata": {},
   "outputs": [
    {
     "data": {
      "text/plain": [
       "count    113804.000000\n",
       "mean         22.607123\n",
       "std          14.301828\n",
       "min           1.000000\n",
       "25%          13.000000\n",
       "50%          20.000000\n",
       "75%          29.000000\n",
       "max         233.000000\n",
       "Name: num_words, dtype: float64"
      ]
     },
     "execution_count": 63,
     "metadata": {},
     "output_type": "execute_result"
    }
   ],
   "source": [
    "df_sent.num_words.describe()"
   ]
  },
  {
   "cell_type": "code",
   "execution_count": 79,
   "metadata": {},
   "outputs": [
    {
     "data": {
      "text/plain": [
       "71.0"
      ]
     },
     "execution_count": 79,
     "metadata": {},
     "output_type": "execute_result"
    }
   ],
   "source": [
    "np.percentile(df_sent['num_words'], 99)"
   ]
  },
  {
   "cell_type": "code",
   "execution_count": 87,
   "metadata": {},
   "outputs": [],
   "source": [
    "max_words = df_sent[df_sent['num_words'] > 100]"
   ]
  },
  {
   "cell_type": "code",
   "execution_count": 88,
   "metadata": {},
   "outputs": [
    {
     "data": {
      "text/plain": [
       "201"
      ]
     },
     "execution_count": 88,
     "metadata": {},
     "output_type": "execute_result"
    }
   ],
   "source": [
    "len(max_words)"
   ]
  },
  {
   "cell_type": "code",
   "execution_count": 89,
   "metadata": {},
   "outputs": [
    {
     "name": "stdout",
     "output_type": "stream",
     "text": [
      "Unofficial extended version (over character limit) On the eleventh day of WinterBash Stack Overflow sent to me Eleven Chuck Yeagers, Ten Bounty Hunters, Nine Sock Puppets, Eight Lonesome Cowboys, Seven Frosties the Snowman, Six RoboCops, Five Defenders of the Realm, Four Archeologists, Johnny Three-Hats, Two Marauders, Tim Post's head and R-E-S-P-E-C-T for hitting the rep cap On the third day of WinterBash Stack Overflow sent to me Johnny Three-Hats, Two Marauders, Tim Post's head and R-E-S-P-E-C-T for hitting the rep cap On the ninth day of WinterBash Stack Overflow sent to me Nine Sock Puppets, Eight Lonesome Cowboys, Seven Frosties the Snowman, Six RoboCops, Five Defenders of the Realm, Four Archeologists, Johnny Three-Hats, Two Marauders, Tim Post's head and R-E-S-P-E-C-T for hitting the rep cap Should diamond moderators spend time in review?\n",
      "-------------------\n",
      "The relevant information is on p. 85 of the 2015/16 FIFA Laws of the Game: No it's a technical offence, a bit like persistently taking a throw-in incorrectly, which you wouldn't caution for either Actually I don't see how the striker is doing anything wrong beside being offside The principle of awarding a restart from the most advantageous field position (by playing a silent advantage) is enshrined in this piece of unrelated advice on p. 120 of the 2015/16 FIFA Laws of the Game: If this goes further, and playing the ball moves from being unsafe to an impossibility (for an unreasonable amount of time), a player is cautioned for unsporting behaviour.\n",
      "-------------------\n",
      "25 Caps: With the table sorted by Goal scoring ratio, the highest goals per international game meeting the minimum national caps is listed below: Example: Team 1, Team 2, Team 3, Team 4 are in a group, After the group stage finishes, you evaluate all four teams against A, B and C. If the criteria of those three rules has not determined a single group winner -- say Team 1 and Team 2 are tied based on A, B and C's criteria -- then the teams (Team 1 and 2, referred to as the teams concerned) need to be further evaluated by d, then E, then f, then g, if necessary.\n",
      "-------------------\n",
      "But also states: Note: I'm not sure if it can be taken as duplicate of the question power play in T20 cricket but the comment of Ben Whyall states: --------------------------------------------------------------------------------------------------- This case is now covered by the new code of laws NEW CODE OF LAWS - OCTOBER 2017, thanks to @gout for looking into this and reminding me in comment.\n",
      "-------------------\n",
      "On official limitations on radio communication there are no indications as to the language to use, so I believe that there are no restrictions in this regard There are also a lot of variants (for example to avoid matches with the same teams..) you can check on wikipedia link In the past was the ranking rules was not followed so closely: maybe there are players strong on grass and weak on clay so there where a bit of adjustments, but this way generate many controversy so now it is followed the \"rankings rules\".\n",
      "-------------------\n",
      "Disclosures Of Ownership For Federal Tax Purposes For federal income tax purposes, (1) all owners of entities organized as single member LLCs, (2) all entities taxed as partnerships under Subchapter K of Title 26 (the Internal Revenue Code) such as general partnerships, limited partnerships, and if they do not elect to be taxed as corporations: limited liability partnerships, limited liability limited partnerships, limited liability companies, and limited partnership associations, (3) all entities taxed as corporations which make elections under Subchapter S of the Internal Revenue Code, (4) all grantor trusts, (5) all simple trusts, (6) all complex trusts that make distributions to beneficiaries, (7) all private foundations, (8) all REITs, (9) all mutual funds, and (10) a C-corporations that pay dividends in a given year, must disclose their owners/beneficiaries to the IRS in connection with their annual information tax return requirements.\n",
      "-------------------\n",
      "Employment Policies Institute (a conservative think take financed by the restaurant industry lobby) says yes: https://www.epionline.org/studies/r100/ PS: Just one example (not saying this is the norm--just that it's interesting and timely), a restaurant in Seattle has recently figured out a way to raise minimum wages to $15 but not raise prices overall by increasing the cost of meals, but doing away with tipping: http://www.king5.com/story/news/local/seattle/2015/07/31/ivars-salmon-house-minimum-wage-tip-service-charge/30968531/ (so, those that used to tip generously are now actually paying less, while the cheap people out there, alas, need to pay a bit more now.\n",
      "-------------------\n",
      "And, in the end, I think Vice (a--well--Vice is Vice) sum it up succinctly: https://news.vice.com/article/what-will-happen-to-the-economy-if-we-raise-the-minimum-wage PS: Just one example (not saying this is the norm--just that it's interesting and timely), a restaurant in Seattle has recently figured out a way to raise minimum wages to $15 but not raise prices overall by increasing the cost of meals, but doing away with tipping: http://www.king5.com/story/news/local/seattle/2015/07/31/ivars-salmon-house-minimum-wage-tip-service-charge/30968531/ (so, those that used to tip generously are now actually paying less, while the cheap people out there, alas, need to pay a bit more now.\n",
      "-------------------\n",
      "For example, the New York Times quoted him on February 10, 2017 as saying: Given the fact that the federal and state governments are regulating the very same entities in parallel, have the same constituents, and often are governed in the federal case by former state government office holders whose campaigns are managed by the same political party organizations, it is much more plausible that disclosure requirements are a product of federalism and the \"race to the bottom\" mechanism of business entity and trust law which is made at the state level, rather than mostly as a consequence of bona fide policy considerations as the other answers to this question suggest.\n",
      "-------------------\n",
      "But they are a minority, and such recordings can be treated like any OTHER classified government information Same volunteers deciding your signature is \"wrong\" Please note that there is a (smaller) group of people who are very nuanced about this: they wish to combine legalizing the consumption of drugs itself, BUT at the same time, strongly increase penalties for any other crimes or even misdemeanours that may endanger other people, such as DUI ( my own personal proposal would be to exchange legalizing drugs for declaring DUI to be fully legally treated as attempted murder and any victims resulting from DUI as premeditated actual/attempted murder).\n",
      "-------------------\n",
      "A U.S. citizen whom a U.S. official could declare under penalty of perjury was affiliated with the AUMF probably could be detained in this fashion, although neither the Padilla case nor the sister Al-Marri and Hamdan cases involving non-U.S. citizens, ever finally reached the U.S. Supreme Court on the merits of the question of whether the enemy combatant doctrine can be applied within a U.S. State (the U.S. Supreme Court case of Rumsfield v. Padilla, 542 U.S. 426 limited itself to the question of the proper venue for a habeas corpus suit), which was one of the key issues before the courts in those cases.\n",
      "-------------------\n",
      "When the managers of an impeachment shall be introduced at the bar of the Senate, and shall signify that they are ready to exhibit articles of impeachment against any person, the presiding officer of the Senate shall direct the Sergeant-at-arms to make proclamation, who shall, after making proclamation, repeat the following words, viz: \"All persons are commanded to keep silence, on pain of imprisonment, while the House of Representatives is exhibiting to the Senate of the United States articles of impeachment against ;\" after which the articles shall be exhibited, and then the presiding officer of the Senate shall inform the managers that the Senate will take proper order on the subject of the impeachment, of which due notice shall be given to the House of Representatives.\n",
      "-------------------\n",
      "The Regulation of GMOs in Europe and the United States: A Case-Study of Contemporary European Regulatory Politics Differing U.S. and European Perspectives on GMOs: Political, Economic and Cultural Issues The U.S. and EU: Different Approaches Kym Anderson and Lee Ann Jackson over at AgBioForum wrote a great piece from the perspective of ratifying the difference between both sides with the results they produce: That means hospitals are effectively serving as “insurers of last resort” within the American healthcare sector by providing care to uninsured patients who cannot afford to pay their medical bills.\n",
      "-------------------\n",
      "So, Trump signed an executive order on Tuesday (28/03/2017): Presidential Executive Order on Promoting Energy Independence and Economic Growth Context Reading Man who threw boiling water on gay couple will spend 40 years in prison: With the success of PB in Porto Alegre it has stemmed to (.PDF) Note: This seems to have already started (iii) The Presidential Memorandum of November 3, 2015 (Mitigating Impacts on Natural Resources from Development and Encouraging Related Private Investment); and Kym Anderson and Lee Ann Jackson over at AgBioForum wrote a great piece from the perspective of ratifying the difference between both sides with the results they produce: Obama quietly sent $221 million to the Palestinian Authority hours before leaving office as seen in this article from Business Insider.\n",
      "-------------------\n",
      "Note: This seems to have already started Kym Anderson and Lee Ann Jackson over at AgBioForum wrote a great piece from the perspective of ratifying the difference between both sides with the results they produce: (i) Executive Order 13653 of November 1, 2013 (Preparing the United States for the Impacts of Climate Change); Background As noted in Participatory Budgeting in Brazil (.PDF) With the success of PB in Porto Alegre it has stemmed to (.PDF) Written in Comey Memo Says Trump Asked Him to End Flynn Investigation: (i) The Report of the Executive Office of the President of June 2013 (The President's Climate Action Plan); and With the withdrawal of the ACHA bill due to shortage of votes The 48-year-old wasn’t charged with a hate crime because Georgia is one of five states that do not have hate crime statutes.\n",
      "-------------------\n",
      "I’m fighting for a conscience clause rider on appropriations because I’m very worried about religious freedom… I can do that if Congress is put back in charge of appropriations, which we are because of this budget agreement.” Another theory is that people do it not merely because of the chance of changing the outcome of an election, but because it's an act of civic duty, although economist Steve Landsburg, in his popular book \"The Armchair Economist\", counters \"But that ignores the fact that voting takes time away from other more productive acts of civic duty.\n",
      "-------------------\n",
      "This is (1) because the employer group health insurance market is bigger as a share of the total private health insurance market, (2) because it is more profitable since one marketing sale to an employer results in the sale of health insurance to multiple households for a larger total premium and (3) because it is more profitable since there are fewer opportunities for adverse selection and moral hazards by prospective insureds in the employer group health insurance plan market in a world where lots of people required to get individual health insurance plans fail to do so except when they think they will need to purchase expensive health care.\n",
      "-------------------\n",
      "They also note that renunciation of citizenship won't in itself shield you from taxes, military service, or other financial obligations: Section 3201.: allow rebates under Medicare Advantage Having funds available isn't the problem, they cannot spend money that hasn't been authorized by Congress under the Antideficiency Act If you consider the \"wealthy\" to be everyone who earns more than one million per year in income or capital gains (which was a cutoff for many proposals over the last two years), can taxing their income at any level fund the current federal government spending?\n",
      "-------------------\n",
      "[1] - Ironically, many true liberals in classical liberalism sense are currently trying to re-brand things back, by reclaiming \"liberal\" label for their left-libertarian positions (one of the most notable examples is Dave Rubin), while branding former-progressives-now-called-\"liberals\" as \"progressive\" again, on the basis that current US progressive movement is claimed by many to be against many individual rights and the basis of classical liberalism “What is at stake is how to answer the potential threat Iraq represents with the risk of proliferation of WMD.\n",
      "-------------------\n",
      "The occidental dissident stated beforehand that the \"alt-lite\" will not attend because of the level of extremism: Some lawmakers have also directly stated that the goal of voter id laws is not to fight (practically non-existent) voter fraud, but to discriminate against minorities who are unlikely to vote for them: Rule of law specifically means: Apart from the possible benefits, the law requires the registration, because the US determined that RT \"conducts strategic messaging for [the] Russian government\" and \"seeks to influence politics, [and] fuel discontent in the U.S\".\n",
      "-------------------\n",
      "Comey damaged the FBI's reputation and credibility Comey usurped the DOJ's prosecutorial discretion in stating that Hillary Clinton should not be prosecuted Comey held a press conference to announce the findings of the investigation, something the FBI generally does not do It's important to note that, prior to yesterday's announcement, Comey was almost universally reviled by Democrats because the political wisdom was that Comey cost Clinton the election (see also Rosenstein's point #2) The system essentially provided \"free\" healthcare to some, with insurance and those who could pay making up the difference.\n",
      "-------------------\n",
      "Summary: They don't seem to have been presenting detailed proofs with evidence, because: this is pretty much universally accepted in the US (the idea that it was not Russian-supplied SAMs is generally dismissed as Russian propaganda), and because Congress doesn't always feel the need to formally investigate every single aspect of what goes before it (particularly when it's noncontroversial; investigation that does happen is often done informally, and it seems unlikely that anyone would object to that line because it's utterly uncontroversial here), and because an H.Res.\n",
      "-------------------\n",
      "Summary: They don't seem to have been presenting detailed proofs with evidence, because: this is pretty much universally accepted in the US (the idea that it was not Russian-supplied SAMs is generally dismissed as Russian propaganda), and because Congress doesn't always feel the need to formally investigate every single aspect of what goes before it (particularly when it's noncontroversial; investigation that does happen is often done informally, and it seems unlikely that anyone would object to that line because it's utterly uncontroversial here), and because an H.Res.\n",
      "-------------------\n",
      "Summary: They don't seem to have been presenting detailed proofs with evidence, because: this is pretty much universally accepted in the US (the idea that it was not Russian-supplied SAMs is generally dismissed as Russian propaganda), and because Congress doesn't always feel the need to formally investigate every single aspect of what goes before it (particularly when it's noncontroversial; investigation that does happen is often done informally, and it seems unlikely that anyone would object to that line because it's utterly uncontroversial here), and because an H.Res.\n",
      "-------------------\n",
      "private/public) Let's say I want to find a Private Bill before Parliament in the session of 2003-04 I would then select the bill I'm researching, in this case it would be: Ipswich Market Bill The website provides a link to the Act via the description \"This bill has received Royal Assent and the Act can be found on Her Majesty's Stationery Office site\" So all you need to do now is refine your search on that website, so for this case it would be: \"Ipswich Market\" in the title section of the search bar.\n",
      "-------------------\n",
      "), or without a vigorous opposition press, or with a slanderous and irresponsible opposition press, or which have signed up to supranational bodies outside democratic control, or which have signed up to international treaties ditto, or which make use of protected seats for women or ethnic minorities, or where the if the prime minister is one ethnic group the president is conventionally always another, or where unlimited campaign donations are allowed, or disallowed, or where significant numbers question the legitimacy of the polity holding the vote, or where voting is compulsory, or where non-citizens cannot vote, or where they can, or where there is (or is not) a second chamber or supreme court that can block popular legislation… \"Who was supporting Brexit, other than a former mayor (Boris Johnson) and the leader of a fairly small and disliked party (Nigel Farage)?\"\n",
      "-------------------\n",
      "I know it's not just based on Armor value, since I've seen this value higher on pieces of armor that contain lower armor values, and see it on non-armor pieces such as rings and amulets too Stop hitting things chasing you if the tank is hitting it as well if you want the tank to pick aggro back up Use AOE abilities if possible so monsters will re-target you after losing interest You do not pull aggro from doing more damage than another person once aggro is obtained via damage The difficulty and level of the game when you got the cache determines the quality of items inside it.\n",
      "-------------------\n",
      "The role of the House of Lords is to: However, the underlying issue is the same: in countries and states which have this system of government, where the head of state is expected to exercise what limited powers he or she has only on the advice of the government, when he or she doesn't, it can result in any of: fierce debate, governmental paralysis, fresh elections, a change in the constitution, the removal of the head of state (or the head of the head of state), or civil war.\n",
      "-------------------\n",
      "There are even more interesting or confusing cases, like: Even in the few cases where the difference in performance of one approach from the other could be measurable (say that the functions only take two cycles, and that dispatch thus doubles the cost of each function) if this code is part of the 80% of the code that takes less than 20% of the cpu time, and say that this particular piece of code takes 1% of the cpu (which is a huge amount if you consider the premise that for performance to be noticeable the function itself must take just one or two cycles!)\n",
      "-------------------\n",
      "Even in the few cases where the difference in performance of one approach from the other could be measurable (say that the functions only take two cycles, and that dispatch thus doubles the cost of each function) if this code is part of the 80% of the code that takes less than 20% of the cpu time, and say that this particular piece of code takes 1% of the cpu (which is a huge amount if you consider the premise that for performance to be noticeable the function itself must take just one or two cycles!)\n",
      "-------------------\n",
      "Basic simplification of the article: Even in the few cases where the difference in performance of one approach from the other could be measurable (say that the functions only take two cycles, and that dispatch thus doubles the cost of each function) if this code is part of the 80% of the code that takes less than 20% of the cpu time, and say that this particular piece of code takes 1% of the cpu (which is a huge amount if you consider the premise that for performance to be noticeable the function itself must take just one or two cycles!)\n",
      "-------------------\n",
      "I was quite surprised when I saw the following code compile without errors or warnings in g++-4.2: Basic simplification of the article: Even in the few cases where the difference in performance of one approach from the other could be measurable (say that the functions only take two cycles, and that dispatch thus doubles the cost of each function) if this code is part of the 80% of the code that takes less than 20% of the cpu time, and say that this particular piece of code takes 1% of the cpu (which is a huge amount if you consider the premise that for performance to be noticeable the function itself must take just one or two cycles!)\n",
      "-------------------\n",
      "Edit: \"why not GAEUnit\" -- GAEUnit is nice for its own use cases, but running dev_appserver and seeing results in my browser (or even via urllib.urlopen) is definitely not what I'm after -- I want to use a fully automated setup, suitable for running within an existing test-running framework which is based on extending unittest, and no HTTP in the way (said framework defines a \"fast\" test as one that among other thing does no sockets and minimal disk I/O -- we simulate or mock these -- so via gaeunit I could do no better than \"medium\" tests) + no convenient way to prepopulate datastore for each test (and no OO structure to help customize things).\n",
      "-------------------\n",
      "The latters seems feasible, given GAE's Python-side strong \"stubs\" architecture... but I can't believe I need to roll my own, i.e., that nobody's already written such simple-minded simulators!-) E.g., for the datastore, it looks like what I need is more or less the \"datastore on file\" stub that's already part of the SDK, plus a way to mark it readonly and easy-to-use accessors for assertions about the datastore's state; and so forth, subsystem by subsystem -- each seems to need \"just a bit more\" than what's already in the SDK, \"perched on top\" of the existing \"stubs\" architecture.\n",
      "-------------------\n",
      "It's a continuum of gray scales, not a black or white situation, and it would be utterly arbitrary to put a threshold at some given level and say that only above that level you call it \"compilation\"!-) Similarly, Python is \"a language\" in the sense of defining a class of language implementations which must all be similar in some fundamental respects (syntax, most semantics except those parts of those where they're explicitly allowed to differ) but are fully allowed to differ in just about every \"implementation\" detail -- including how they deal with the source files they're given, whether they compile the sources to some lower level forms (and, if so, which form -- and whether they save such compiled forms, to disk or elsewhere), how they execute said forms, and so forth.\n",
      "-------------------\n",
      "\"The Bible\" is \"a book\" in the sense of being a class of (actual, physical objects identified as) books; the books identified as \"copies of the Bible\" are supposed to have something fundamental in common (the contents, although even those can be in different languages, with different acceptable translations, levels of footnotes and other annotations) -- however, those books are perfectly well allowed to differ in a myriad of aspects that are not considered fundamental -- kind of binding, color of binding, font(s) used in the printing, illustrations if any, wide writable margins or not, numbers and kinds of builtin bookmarks, and so on, and so forth.\n",
      "-------------------\n",
      "Now, as I said, I can already hear voices saying things like \"Java EE is heavy, use Spring instead, learn Struts or Wicket or Stripes for the presentation layer, learn Hibernate for persistence, or not because I don't like ORM, use iBatis or straight JDBC instead (you'll see, it's cool with Spring, Spring is so cooool), and use Tomcat (and why not Jetty), or JBoss, or just forget all this and go for Grails, and bla bla bla...\".\n",
      "-------------------\n",
      "So, because I think that Java EE 6 is a big improvement over previous versions of Java EE, because it provides really nice standard APIs for all your needs (Servlet 3.0, JSF 2.0, JPA 2.0, EJB 3.1 lite, Bean Validation 1.0, CDI, etc), because these APIs are all more than decent, because there is nothing really wrong in learning them, because this is already a big task, because you have to start somewhere, I'd focus on Java EE 6 only and forget the other frameworks for now.\n",
      "-------------------\n",
      "When the text below says that an attribute on an element maps to the dimension property (or properties), it means that if the element has an attribute set, and parsing that attribute's value using the rules for parsing dimension values doesn't generate an error, then the user agent is expected to use the parsed dimension as the value for a presentational hint for properties, with the value given as a pixel length if the dimension was an integer, and with the value given as a percentage if the dimension was a percentage.\n",
      "-------------------\n",
      "In the remaining cases, let's say a template where you're outputting values that may or may not be set by a controller, you'll just have to check: For those interested, I have expanded this topic into a small article, which provides the below information in a somewhat better structured form: The Definitive Guide To PHP's isset And empty Following Dennis' hunch, I did this test: All the caller of this function sees is this: Human readable wall clock time is more complicated, and it's even more complicated by the fact that it's abbreviated and parts of it omitted in daily use.\n",
      "-------------------\n",
      "But it looks like if you go from portrait to landscape and back, the width of the navigation bar's title label gets screwed up, so what shows up as a title of, for example, \"Long Titlebar\", looks fine when you first view it in portrait orientation, looks fine when you view it in landscape (with the appropriately smaller font), but when I come back to portrait, the font correctly reverts to the larger font, but the title text itself is truncated, becoming \"Long...\" even though there's plenty of space for the full title.\n",
      "-------------------\n",
      "Putting him in a playhome (I assume this translates to 'daycare' of some form) will neither help nor hurt him in this area, as long as you're regularly interacting with him when he is at home; if you're busy (a lot of cleaning/cooking, or online education classes, or such) then it likely would help him; children learn to talk by hearing others do it, first and foremost, so if he's around people who talk more around him (both his-age and older kids, and the teachers) he'll be able to improve.\n",
      "-------------------\n",
      "Putting him in a playhome (I assume this translates to 'daycare' of some form) will neither help nor hurt him in this area, as long as you're regularly interacting with him when he is at home; if you're busy (a lot of cleaning/cooking, or online education classes, or such) then it likely would help him; children learn to talk by hearing others do it, first and foremost, so if he's around people who talk more around him (both his-age and older kids, and the teachers) he'll be able to improve.\n",
      "-------------------\n",
      "For example, a Monk can use Blinding Flash to stun all enemies in the area without damaging them, and then just hope at least 5 decide to do their tongue attack once they've recovered Using a skill like Cyclone Strike to pull a mob off a dps player will cause the monster to re-focus on me in most cases, unless they take damage from the dps player before I can do damage, or are shielded/invulnerable so I don't do damage Remove your weapons and your Secondary skill (either drag it off the toolbar, or go equip your secondary skill somewhere else and it will change to an auto-attack), and hit him with your right-mouse button (secondary).\n",
      "-------------------\n",
      "But one of the reasons I recommend this especially for the oppositional child is that once the method is explained and discussed with your son, you don't ever have to argue with him, raise your voice, or lose your cool again, you simply have to say, calmly, \"Goeffrey, that's a one\", to which he will howl and ask you what he's doing wrong (trying to get out of it; if he really doesn't know, you might need to explain, but nothing more), etc., whereupon you say, \"Goeffrey, that's a two\", and if he continues, you say, \"That's a three.\n",
      "-------------------\n",
      "ETA (again): I don't love this website as it's a disneyfamily.com site which I wouldn't consider to be the height of medical information, but they make some completely valid points about eyes and eye-rubbing in babies which I'd never really thought about before, namely that as your baby gets tired, the muscles surrounding their eyes also grow fatigued and rubbing the eyes will relieve the tension in and around the eye and eyelid (we've all done this before after working a long day, reading a lot, or spending too much time watching tv or on the computer).\n",
      "-------------------\n",
      "In which case I'd point to the principle of continuity; in that humans are alike, and thus their capacities are all alike; (I mean alike here, in the sense that all hands are alike - though of course there are differences; but no-one is born with say a mechanical claw, say); and thus the capacity of experiencing red are all alike - this of course barring exceptions and defects like synthesia, or blindness; and this also suggestively ties in with the comment by Swami Vishwananda on experimental verification.\n",
      "-------------------\n",
      "Just as a piece of warm wax can take on the shape of other objects, the mind has the capacity to take on the forms of objects in its activity of thinking and perception: In his work, The Principles of Psychology, James makes the following comments: However, that doesn't rule out the possibility of deception coming from another source, which was an idea that Descartes also entertained: If physicalism is true and determinism (at least on a Newtonian level) is true, then yes, a machine theoretically could be designed in a way you describe and thus considered a \"person\".\n",
      "-------------------\n",
      "Or consider an example from philosophy of mind - Chalmers who is a property dualist employs a reductio ad absurdum in his famous fading and dancing qualia arguments to conclude that a robot may have conscious experience identical to his own (Wittgenstein would have rejected the whole thing on account of the absence of criteria of identity, but let us ignore that subtlety) - he admits that from his point of view as a steadfast dualist, his conclusion is highly counter intuitive - but robots with a dualist kind of qualia are not just counter intuitive - they seem to be absurd since their qualia are hopelessly epiphenomenal - their qualia can have no effect on the calculation mechanism, and they therefore have no way to \"know\" their qualia - that is, Chalmers arguably uses reductio ad absurdum to reject one absurdity for another.\n",
      "-------------------\n",
      "As an analogy, imagine two mathematicians who reject each other's coordinate systems for a sphere on account of including a singularity point, such as a north pole - let's call it the \"absurdity\" of a coordinate system - and they fail to realize that you cannot \"explain\" a sphere with a single coordinate system which is not \"absurd\" - you need at least two: It is interesting that people often react badly to this speculation; both materialist and non-materialist alike are often offended and angered when presented with this idea, and I am not aware that it has ever been discussed seriously by philosophers.\n",
      "-------------------\n",
      "In fact, memory within the dream is just another aspect of dreaming; once while lucid dreaming I noticed a pleasant but out of place background music; I thought about it for a minute and then I remembered that it was the sound of my real-life TV which I forgot to turn off before going to sleep; I was quite satisfied with myself for figuring this out from within the dream world; soon after, I woke up and I was surprised that the house was totally quiet, and then I started laughing when I remembered I don't have a TV in real life.\n",
      "-------------------\n",
      "btw, you can compare the statement about explaining the mind by ... cogwheels, to the mill argument of Leibniz - http://home.datacomm.ch/kerguelen/monadology/printable.html#17 Out of my sleeve I can think of two further examples: first, you can think of the physical condition as a sort of adequate container that the universe then spontaneously fills with consciousness; or you can think of the interesting Norton's dome paradox in which an abstract ball perfectly balanced on the apex of a perfect dome, suddenly and indeterministically rolls down the dome - http://www.pitt.edu/~jdnorton/Goodies/Dome/ No one would protest if you insist that bacteria can be said to demonstrate intelligence, yet few people would claim bacteria is thinking, or that DNA is thinking.\n",
      "-------------------\n",
      "Almost every phrasing carries some impliciation like this, though: \"there has been a day where I neither rode nor drove\" suggests such days are rare; \"it is not the case that I always ride or drive\" suggests that riding or driving is the norm; \"sometimes I avoid driving and avoid riding\" again suggests rarity; \"usually I drive or ride\" suggests that sometimes (rarely) you do one but occasionally none; \"usually I avoid riding and avoid driving\" suggests that you sometimes must do at least one but usually don't.\n",
      "-------------------\n",
      "I didn't make the alphabet explicit, but Lo does not include the symbol '∨' among its symbols, so we are denied the option of simply positing the following equivalence for all substitutions of 'p', 'p′': If we let 'j' denote Joe, 'm' Mary, we'll have two possible explications of (5): one using a binary relation symbol 'S' (which holds of (x,y) just in case x is the sone of y) and one using the identity relation on the domain of individuals and the unary function symbol 's' (which refers to the unique individual that is the son of x).\n",
      "-------------------\n",
      "(I'm being deliberately harsh here for the sake of answering your question; there's merit to the thought that logic should be considered the theory of warranted psychological inference rather than ontological structure, that the semantics of logic should be captured in human and/or social language use, and that Priest's logic has a much better grasp than his classical counterparts) We have a choice to make between accepting that non-actual states of affairs can be the subjects of utterance and fleshing out some mechanism by which we speak of the facts of the matter even in error.\n",
      "-------------------\n",
      "Almost every phrasing carries some impliciation like this, though: \"there has been a day where I neither rode nor drove\" suggests such days are rare; \"it is not the case that I always ride or drive\" suggests that riding or driving is the norm; \"sometimes I avoid driving and avoid riding\" again suggests rarity; \"usually I drive or ride\" suggests that sometimes (rarely) you do one but occasionally none; \"usually I avoid riding and avoid driving\" suggests that you sometimes must do at least one but usually don't.\n",
      "-------------------\n",
      "My line on this is to say that we need to pay attention to the distinction in the semantics of TLP between \"Propositions\" (the German \"Satz\") and \"Elementary Propositions\" (\"Elementarsatz\"), and to note the theoretical difficulties in explaining how to cash out the more general notion of Proposition in terms of Truth functions over Elementary Propositions, as in section $5, without sacrificing the Picture Theory approach that makes the semantics of Elementary Propositions seem appealing Kripke's work is of particular relevance to your question of whether Bivalence is a central property of Truth, in that while the technology he introduces is widely accepted as a valuable extension of Tarski's work, some philosophers have read his strategy as an endorsement of the existence of truth value gaps, and others as simply an indication of the structure of an axiomatic theory of \"the True sentences\" which is itself a classical theory, and developed/argued against it accordingly.\n",
      "-------------------\n",
      "and we revere it so, because it calmly disdains Its clear from Rilkes letters that his angels are not the ones known from Christian Angelology but Islamic which he had learnt from his studies of the Islamic civilisation of Al-Andalus; and in fact he echos the initiation of the Prophet Muhammed in the cave of Hira into prophecy - in the act of his composition and in the first lines of the elegy; the parallels with a hadith that Khadija (Muhammeds wife) narrates, and collected by Bukhari are striking: Possibly the aesthetic notion that can resolve these questions is the notion of the sublime.\n",
      "-------------------\n",
      "So, Spinoza isn't proving Gods existence as he in fact takes it as a given, he is merely placing his understanding of the nature of God, his ontology & ethics on an efficient basis on concepts generated in the Greek tradition - substance, essence, God ; and a definition is not the same as a tautology, though they appear to have similarities (one does not normally, at least in mathematics, think of definitions and axioms as tautologies, but when we consider two propositions that can be shown to be equivalent on the basis of those definitions and axioms)\n",
      "-------------------\n",
      "[...]The schema of a pure concept of the understanding, on the contrary, is something which can never be brought into any image whatsoever, for it is nothing but the pure synthesis determined by a rule of unity according to concepts in general, a synthesis expressed by the category; it is a transcendental product of the imagination, a product which concerns the determination of inner sense in general, according to the conditions of its form (time), with respect to all representations, insofar as these representations are to be joined a priori in one concept, in accordance with the unity of apperception.\n",
      "-------------------\n",
      "Or another formulation: if it is possible for me to say that my own or another person's thoughts or perceptions are subjective, then it has to be the case that the structure of subjectivity is objective, and it is this precise structure that Kant illustrates for us in the Analytic of Concepts, specifically the transcendental deduction, and which objectively provides the conditions of possibility for experience, Kant defining experience as determinate knowledge of appearances (I think I needed a semicolon somewhere in there but I'm not sure; also, please free to correct me where you think my readings are inaccurate).\n",
      "-------------------\n",
      "the fraction of human-level civilizations that reach a posthuman stage is very close to zero; the fraction of posthuman civilizations that are interested in running ancestor-simulations is very close to zero; or the fraction of all people with our kind of experiences that are living in a simulation is very close to one Ockham's Razor would initially indeed seem to suggest that the simulation hypothesis 'requires less assumptions'; however given the degree of unknowability here it would seem as difficult to assert this unqualifiedly as it is to imagine a scientific experiment which could validate the principle.\n",
      "-------------------\n",
      "Unlike the New Athiests he is at least lacks the hubris to have: Both kinds of knowledge is natural to human beings; both kinds of knowledge and understanding have been part of human thinking from the beginning; and as it has been in the past, so it is in the present, and also the future; human beings, move from one kind of knowledge to the other, not in any simple way, since the relationship between the two is vastly complex, as Hegel points out in his Phenomenology: Sense-Certainty is only the beginning, being immediate to us as also affirmed by Al-Ghazali (The Sense-Judge and Reason-Judge) and Descartes (his cogito).\n",
      "-------------------\n",
      "Up until this point Rawls had analysed the institutions of society and not individuals; he will now go on to discuss Justice for inividuals but before doing so he commits himself to not discussing the 'natural assets' - that is the talents of a man - seeing them fixed; he won't discuss in depth the possibility of change; this of course is known as Eugenics, and Rawls will have known its implication in the Holocaust (as described by Hannah Arendt in her densely detailed book - Totalitarianism - the science of eugenics was widespread on both sides of the Atlantic); and this is the reason for his silence; his intellectual honesty pushes him to note however that:\n",
      "-------------------\n",
      "Up until this point Rawls had analysed the institutions of society and not individuals; he will now go on to discuss Justice for inividuals but before doing so he commits himself to not discussing the 'natural assets' - that is the talents of a man - seeing them fixed; he won't discuss in depth the possibility of change; this of course is known as Eugenics, and Rawls will have known its implication in the Holocaust (as described by Hannah Arendt in her densely detailed book - Totalitarianism - the science of eugenics was widespread on both sides of the Atlantic); and this is the reason for his silence; his intellectual honesty pushes him to note however that:\n",
      "-------------------\n",
      "Just as if we were painting statues and someone came up and began to blame us, saying that we weren't putting the fairest colors on the fairest parts of the animal—for the eyes, which are fairest, had not been painted purple but black—we would seem to make a sensible apology to him by saying: \"You surprising man, don't suppose we ought to paint eyes so fair that they don't even look like eyes, and the same for the other parts; but observe whether, assigning what's suitable to each of them, we make the whole fair.\n",
      "-------------------\n",
      "In The Gay Science he says something to the order of 'One must make of one's Self a work of art, carving away something here, growing something there, repurposing some mass of unavoidable ugliness elsewhere to present a more pleasant view from the distance...' (I do not have a copy here, and I cannot find it online, if someone can give me the words...) Your better option is to assign the service of the needs of those who cannot contribute to some shared base, like the government, or the kind of cultural center that the Church used to be when the tithe could be mandated.\n",
      "-------------------\n",
      "There are many suggestions on how to fix this problem over in this thread on the Audio Surf forums but what it seems to come down to is the following; Performing a partial reinstall (keeping your games) If you're certain this is not an issue with your anti-virus/internet security application and you haven't opted in to the beta, you can try one of the following to see if it resolves your problem: This window is displayed while the update is installed or verification process is running to provide feedback to you (the user) that something is actually happening, rather than staying completely silent, leading you to think that the application hasn't started.\n",
      "-------------------\n",
      "To give a concrete example, the strings of length 3: 0 heads = 1 string ({T, T, T}), 1 heads = 3 strings ({H, T, T}, {T, H, T}, {T, T, H}), 2 heads = 3 strings ({H, H, T}, {H, T, H}, {T, H, H}), 3 heads = 1 string ({H, H, H}).\n",
      "-------------------\n",
      "To give a concrete example, the strings of length 3: 0 heads = 1 string ({T, T, T}), 1 heads = 3 strings ({H, T, T}, {T, H, T}, {T, T, H}), 2 heads = 3 strings ({H, H, T}, {H, T, H}, {T, H, H}), 3 heads = 1 string ({H, H, H}).\n",
      "-------------------\n",
      "To give a concrete example, the strings of length 3: 0 heads = 1 string ({T, T, T}), 1 heads = 3 strings ({H, T, T}, {T, H, T}, {T, T, H}), 2 heads = 3 strings ({H, H, T}, {H, T, H}, {T, H, H}), 3 heads = 1 string ({H, H, H}).\n",
      "-------------------\n",
      "The issue is that, according to JTB theory, the conclusion : \"Jones owns a Ford, or Brown is in Barcelona\" appear to be knowledge because it is true (item (i)) : it's a fact that Brown is in Barcelona, and it is believed by Smith (item (ii)) and is justified by a correct use of inference rules (item (iii)) : You can see: Barry Smith (editor), John Searle, Cambridge UP (2003), page 18: Clearly (for me) the problem of induction has not been solved yet (as all interesting philosophical problems ...).\n",
      "-------------------\n",
      "Both kinds of knowledge is natural to human beings; both kinds of knowledge and understanding have been part of human thinking from the beginning; and as it has been in the past, so it is in the present, and also the future; human beings, move from one kind of knowledge to the other, not in any simple way, since the relationship between the two is vastly complex, as Hegel points out in his Phenomenology: Sense-Certainty is only the beginning, being immediate to us as also affirmed by Al-Ghazali (The Sense-Judge and Reason-Judge) and Descartes (his cogito).\n",
      "-------------------\n",
      "For example, Aristotle one of the founders of Science in the Western tradition treats evolutionary theory in his Physics and Metaphysics; as well as chance & spontaneity as causes in themselves (ie opposed to determinism); and this too, not just in Evolution but also for the universe itself - compare the contemporary debate as the universe starts as a quantum event - as a spontaneous event; as well as treating the theory of the One from a number of different perspectives - the Pythagorean, which is consonant with Plato; as well as his own, the Unmoved Mover, as well as an infinite principle, substantively and quantifiably; and which is distinguished from the notion of the All or Whole, understood as that without lack.\n",
      "-------------------\n",
      "[...]The schema of a pure concept of the understanding, on the contrary, is something which can never be brought into any image whatsoever, for it is nothing but the pure synthesis determined by a rule of unity according to concepts in general, a synthesis expressed by the category; it is a transcendental product of the imagination, a product which concerns the determination of inner sense in general, according to the conditions of its form (time), with respect to all representations, insofar as these representations are to be joined a priori in one concept, in accordance with the unity of apperception.\n",
      "-------------------\n",
      "Or another formulation: if it is possible for me to say that my own or another person's thoughts or perceptions are subjective, then it has to be the case that the structure of subjectivity is objective, and it is this precise structure that Kant illustrates for us in the Analytic of Concepts, specifically the transcendental deduction, and which objectively provides the conditions of possibility for experience, Kant defining experience as determinate knowledge of appearances (I think I needed a semicolon somewhere in there but I'm not sure; also, please free to correct me where you think my readings are inaccurate).\n",
      "-------------------\n",
      "the fraction of human-level civilizations that reach a posthuman stage is very close to zero; the fraction of posthuman civilizations that are interested in running ancestor-simulations is very close to zero; or the fraction of all people with our kind of experiences that are living in a simulation is very close to one Ockham's Razor would initially indeed seem to suggest that the simulation hypothesis 'requires less assumptions'; however given the degree of unknowability here it would seem as difficult to assert this unqualifiedly as it is to imagine a scientific experiment which could validate the principle.\n",
      "-------------------\n",
      "For one neccessarily does not entail in one's conception of an object the full semantic weight of that object, and so, in projecting this upon the object when perceived, what one perceives is therefore in some sense arbitrary (that is to say veridically flexible, because at the very least one may add more to one's conception of the meaning of the object) suggesting an isolation from the necessarily inaccessible object-in-itself- and so related to the object by useful convention of the self, just as words in their usage relate to referents by useful convention of a dialogue.\n",
      "-------------------\n",
      "Glee can be fear (both raise gooseflesh), sorrow can be joy (both make you cry), depression can be 'wretched contentment' (both submerge your sense of time and values), 'gaiety/cheer' has something in common with anger (delivering energy, focussing on obstacles and destruction), passion shares aspects with a different kind of anger (energy from wallowing in deprivations and their satisfactions)... Having them judged and blessed means we must have products of which we are proud (pictures on the fridge) and it is this pride in our work that is validated by the parent and proves our value.\n",
      "-------------------\n",
      "We can see Maimonides for some hint and: Joshua Parens, Maimonides and Spinoza: Their Conflicting Views of Human Nature, University of Chicago Press (2012) Finally, see: Steven Nadler, Spinoza's Heresy: Immortality and the Jewish Mind, Oxford UP (2001), for an account of Spinoza's view about the mind (page ix): The antithesis of \"number\" and \"numeral\" is one which is common in language, and perhaps its most familiar instance is to be found in the pair of terms \"proposition\" and \"sentence\".\n",
      "-------------------\n",
      "But each discipline is actually made up of sub-disciplines, and each of those has definite periods of its own, where its relationship to the larger theories of its embracing discipline can be in a posture which is 'prescientific' (Whatever we are doing works, so it must fit with their work, but we don't really care how the two harmonize, because we are happy for now), 'revolutionary' (Their theories challenge our groundwork, and we create a succession of bridges to or walls around our work) or 'normal' (We leave off developing our own internal theories and solve specific gaps between our sub-domain and the larger theory).\n",
      "-------------------\n",
      "But the \"methodological\" debate had no \"effective\" impact : no new scientific discoveries were made possible either by traditional logic or by Rhetoric-based \"methods\" A lot of useful material is discussed into Jonathan Barnes, Logical Matters Essays in Ancient Philosophy II (2012), Ch.3 : Logical form and logical matter (page 43-on), in particular the section on Necessity and syllogism (page 87-on) where we can find the material on the ancient debate regarding the relation between 'necessity' (the modal operator) and consequence (what is expresse in a valid argument by the word : 'therefore').\n",
      "-------------------\n",
      "Hunan - taken over politically after the Japanese invasion started Sichuan - gradually fell under central control as the wartime seat of government Yunnan - forcibly brought under control by a Nationalist army in 1945 Shanxi - fell under control in 1945 as Communists decimated warlord Yen Hsi-Shan's army Shensi - Nationalist forces garrisoned the southern regions during the war with Japan Taiwan - received from Japan after the surrender North China - some parts taken over by Nationalist forces, including Peking Manchuria - Nationalist forces secured a coastal tract, from the Shanhai Pass to Mudken The Nationalist government also extended its influence over the Guangxi Clique, and to a lesser extent other peripheral regions such as Tibet.\n",
      "-------------------\n",
      "\"The Senate and the people have placed this in honor of Julius Aurelius Zenobius and Zabdilas, the son of Dichmalchus, the son of Nassumus, commander at the time of arrival of the divine Alexander, who provided help for governor Rutilius Crispinus and his visiting expeditionary force; overseer also of the distribution of corn, a liberal man, not sparing even of his own private property, and conducting his public service with distinction, so that he has been blessed by the god Jaribolus and by Julius Priscus, the most illustrious prefect and sacred praetor, and also a great lover of his country, in the year 554.\"\n",
      "-------------------\n",
      "When they had now been fighting for more than six hours, without cessation, and not only strength, but even weapons were failing our men, and the enemy were pressing on more rigorously, and had begun to demolish the rampart and to fill up the trench, while our men were becoming exhausted, and the matter was now brought to the last extremity, P. Sextius Baculus, a centurion of the first rank, whom we have related to have been disabled by severe wounds in the engagement with the Nervii, and also C. Volusenus, a tribune of the soldiers, a man of great skill and valor, hasten to Galba, and assure him that the only hope of safety lay in making a sally, and trying the last resource.\n",
      "-------------------\n",
      "Now, therefore, be it known that I, Andrew Johnson President of the United States, by virtue of the power and authority in me vested by the Constitution and in the name of the sovereign people of the United States, do hereby proclaim and declare unconditionally and without reservation, to all and to every person who, directly or indirectly, participated in the late insurrection or rebellion a full pardon and amnesty for the offense of treason against the United States or of adhering to their enemies during the late civil war, with restoration of all rights, privileges, and immunities under the Constitution and the laws which have been made in pursuance thereof.\n",
      "-------------------\n",
      "Although the Japanese attack was unexpected in its timing, The US Navy was well aware: (a) that the Japanese were in the habit of attacking before a formal declaration of war; and (b) that a surprise attack on Pearl Harbor was both possible and likely to be devastating, having itself simulated such an attack several times over the past 15 years as outlined here Moreover, citizens who accompany an army for whatever purpose, such as sutlers (sic), editors, or reporters of journals, or contractors, if captured, may be made prisoners of war, and be detained as such.\n",
      "-------------------\n",
      "Men, or squads of men, who commit hostilities, whether by fighting, or inroads for destruction or plunder, or by raids of any kind, without commission, without being part and portion of the organized hostile army, and without sharing continuously in the war, but who do so with intermitting returns to their homes and avocations, or with the occasional assumption of the semblance of peaceful pursuits, divesting themselves of the character or appearance of soldiers - such men, or squads of men, are not public enemies, and, therefore, if captured, are not entitled to the privileges of prisoners of war, but shall be treated summarily as highway robbers or pirates\n",
      "-------------------\n",
      "Churchill himself in The Grand Alliance (page 232) lists attendance and evacuees in Greece as follows (from which my calculations give total evacuees and casualties on the last two lines): First Gulf War (explicitly about Kuwait); Second Gulf War (unfinished business from FGW); the Iran-Iraq war; U.S. entry to World War 2 (conflict over access to Indonesian oil after embargo of U.S. oil); The War of Austrian Succession (conflict over Silesian Coal), The Seven Years War (simply a continuance of the latter).\n",
      "-------------------\n",
      "The old masculine word (wer, vir) went extinct or archaic or suffered a semantic shift (Portuguese varão, male person, only used in literary register, but also barão, baron; English were, male person, now extinct); the old neutral word (homo, man) shifted to mean just male person except, but even this is going obsolete, in an abstract sense, as the name of the species) and was replaced by the Latin (grammatically feminine) word (personna -> English person, Portuguese (still grammatically feminine) pessoa), while the feminine word was kept (wyfman -> woman or replaced by euphemisms, neologisms or, like in French, just by the word for female (It.\n",
      "-------------------\n",
      "Which shows that there are regular transformations between French and Portuguese; some initial consonant in Latin morphed into \"c\" in Portuguese, Catalan, Italian, Rumanian, but into \"ch\" in French (and if we look at a map, we see that Portuguese and Rumanian are placed, respectively, at the Western and Eastern extremes of the geographical extension of Romance languages, so it isn't likely that the same innovation happened to both of them; it looks like the Latin consonant was preserved in both - and transformed in French.\n",
      "-------------------\n",
      "Person deixis: those that are used to refer to speaker and addressee (I, you, we) Place deixis: those that refer to spatial context (here, there) Time deixis: these that refer to temporal context (now, then, verb tense markers) Discourse deixis: those that refer to parts of unfolding discourse (next, below, furthermore) Social deixis: those that encode aspects of the social relationship between speaker and addressee (Her Majesty) Perceptual deixis: There's Harry I'm not sure how it works with Sign Languages (about being a natural language or not), but since you mentioned spoken languages too, I answered to that.\n",
      "-------------------\n",
      "I would say that there aren't any clear a priori definitions of IP and PP, instead there are probabilities that a grouping effect would be handled as PP in some conditions (basically, \"if the domain looks like syntactic Xmax\") and as IP in some other conditions (mostly having to do with the relevance of focus, variability in size, connection to overlays, and on the syntactic side grouping together a number of Xmax's) A good study that illustrates analysis in terms of these elements is Kanerva's 1990 Stanford dissertation Focus and phrasing in Chicheŵa phonology.\n",
      "-------------------\n",
      "Rather, the terms can roughly be translated to the more recent semantic notions of intension and extension: To make it easier for you to grasp the idea, just imagine the pluperfect proposition to be the consequent of an if-statement, like Thus, for English -- French, we only need the most adequate translation (which will be ou anyway) and can igonre the further difference between exclusive vs. inclusive or, which corresponds to semantic selection, while for English -- Finnish, we actually need the most adequate sense, so here a WSD is required.\n",
      "-------------------\n",
      "The use of the symbol ‘S’, standing for ‘sentence’ - originally, since Roman times, ‘a coherent phrase expressing a complete ‘thought’ or ‘proposition’’ - has largely been discontinued in technical accounts of syntactic structure written within Chomskian generative grammar because, at one point in its development, 'S', and its associated rule, stopped satisfying the requirements of a new theory that Chomsky considered it necessary to adopt in order to explain, instead of merely describe, the syntactic constructions of English and Human Language in general.\n",
      "-------------------\n",
      "One way to find out whether a verb appears in two homophonous forms, with and without an 'implicit argument', or, on the contrary, the two homophonous forms correspond to different lexemes (= different homophonous verbs) and there are not any 'implicit arguments' involved, is to use the 'zeugma tests', and the easiest to apply in cases like the one you cite is (rightwards= R) 'R-gapping' [recall that leftwards 'gapping', L-gapping, is disallowed in SVO languages like English] subsequent to coordination - under the assumption that the R-gapped coordinate clause will only sound natural, rather than like a pun, when the omitted second verb is the same verb that occurs as an antecedent in the first coordinate clause and thereby licenses 'R-gapping'.\n",
      "-------------------\n",
      "standing for what on?, first, that word should, if anything, be described as a 'wh-postposition', not as a 'wh-preposition', and secondly, and above all, if such a word existed in any language, its wh+Q-operator would have to 'question' just the preposition on, not its complement, and the result would not be a 'partial' wh+Q-question, as in your What did you put the toy on__?, but a polarity (= a 'yes/no') question similar in meaning to what B replies to A in the following dialogue (say, between somebody who has arrived at his shop at 8 a.m., before his shop attendant, to find all the lights on and the shop attendant supposedly in charge of closing the shop and turning them all off on leaving the day before):\n",
      "-------------------\n",
      "[Of course, seems may also be two-place, e.g., in It seems to me that Mary is an excellent teacher, but in that case it must have two 'internal' arguments, and assign a Theme role to the subordinate clause and an Experiencer role to the PP complement to me; under no circumstances can it assign an Agent role to the PP to me, because Agent is never assigned to an internal argument in complement position; Agent can only be assigned in Spec v/V position, and, of course, never by a non-agentive verb like seems].\n",
      "-------------------\n",
      "The following six Spanish sentences are different versions of the question/different questions corresponding to the unmarked declarative sentence Alguien más podría haber estado usando su ordenador (= Somebody else could have been using your computer) and all but (6) are acceptable, but how exactly are they derived under current minimalist assumptions, why is (6) excluded, and what consequences follow as to which of them is/are more ‘economical’ (and presumably ‘unmarked’) and which are less ‘economical’, ‘marked’ and reserved for special ‘informational’ uses?\n",
      "-------------------\n",
      "In my view, there is a very simple argument you can deploy to justify the claim that in He himself the head is he, not himself (assuming he himself is a single NP/DP constituent, which is a possible analysis, but not necessarily the right or only one, since himself need not appear next to he): if the contrary were true, the whole NP/DP would inherit the grammatical properties of himself, rather than those of he, would not carry nominative Case, and therefore could not be a legitimate subject of a finite clause like ...he himself could enjoy the corn.\n",
      "-------------------\n",
      "As a consequence of that difference in argument structure between try and seem, in a sentence like Mary tried [PRO to be there] a PRO is needed in the subordinate clause to discharge the Theme role projected by the predicate be there and some other argument (Mary, in this case) is also needed to discharge the Agent role assigned by try in the upper clause to its own Spec V. If you had only one argument, i.e., if you base-generated Mary as the specifier of be (there) in the subordinate clause, and then raised it into the Spec of the higher verb try, the chain formed by Mary in Spec try and its trace in Spec be (or by the two copies of Mary, under the 'Copy Theory of Movement') would receive two theta roles (Agent and Theme, respectively), the Theta Criterion would be violated, and the derivation would be ungrammatical.\n",
      "-------------------\n",
      "Of course, going any further is out of the question: even 'translating' the principles of current CG-based grammars into a framework that denies the existence of phrasal dependents (in spite of the fact that there is unquestionable evidence that natural language is structure-dependent) may well be literally impossible, as partly explained above, and as to DG's alternatively developing equivalent principles of its own to properly handle the empirical effects of constituency, allowed and disallowed displacement, correct and incorrect scope, minimality, superiority, island constraints, correct and incorrect binding, control, ellipsis, deletion and empty category effects, etc., well, I will not say it is 'impossible', but none of that remotely exists yet and everything suggests that if a proper theory of 'all that' ever comes to be developed from a strict DG point of view, it will be rather more stipulative and complex, and rather less efficient, than state-of-the art constituency-based grammars.\n",
      "-------------------\n",
      "Therefore, if X-Bar Theory was to stand, as desired, it was necessary to find a way to reanalyse the 'sentence' as a 'headed' construction, and, since S consisted of only two 'immediate constituents', the NP (functioning as the 'subject') and the VP (functioning as the 'predicate'), only two possibilities seemed available: either S was an expansion of the NP (and ultimately of N, according to the X-Bar principles), or the head of S was the VP and S was an expansion thereof, and ultimately of the finite verb.\n",
      "-------------------\n",
      "Ernst’s 2002 book, Jackendoff’s much earlier (1972) one, Ross's and other 'generative semanticists' work in the late 60's and early 70's, Beth Levin's work, Abney's dissertation, and a few other works (including those in other linguistic traditions, especially Fregean-Montagovian and Categorial Grammar, but also Dik’s and Rijhoff’s FG work on the structural levels in the clause and the NP, respectively, and Hengeveld’s recent work on Functional Discourse Grammar, however sloppy its 'LF' may be) have contributed to some extent to ground a few of those functional categories, but most remain purely stipulative (actually, most of the base-generated categories a Cinquean analysis entails do not even have an adequate descriptive name, not to mention the innumerable additional and completely ad hoc categories that must be posited if observed surface order is to be derived from a Kayne/Cinque-style account of base-generated structure).\n",
      "-------------------\n",
      "That, of course, is a problem for beginning syntax students, who must remain alert to detect when their textbook is just omitting irrelevant structure its author accepts and assumes to be there, if hidden, and when it is opting for an alternative analysis that denies the existence of that extra structure, but, in case the OP feels she is being irresponsibly played with, let me quickly add that the possible uncertainties this state of affairs may induce are far from mere ‘collateral damages’ caused by a teacher’s or a textbook author’s pedagogical strategy.\n",
      "-------------------\n",
      "By 1988, largely due to Mark Baker’s influential work on the correspondence between verb morphology and syntactic projection, the Tense and AGR components of Infl were already distinct 'nodes' in all serious work on P&P syntax, and, to the extent that, in view of the morphological structure of verbs, AGR-S arguably is structurally higher than Tense, later P&P work by Chomsky and others between 1989 and 1991 started including analyses of the predicational core of the sentence as an AGR-sP(hrase), although eventually Chomsky himself retrenched into a simpler view that reduced IP to TP, for technical reasons that need not concern us here.\n",
      "-------------------\n",
      "Hence, syntactic predicates normally or even invariably (depending on the analyses syntacticians adopt), correspond to only one type of what semanticists would call 'first-order one-place predicates', the type in which the argument that must 'saturate' the unsaturated one-place predicate to yield a 'proposition' is discharged, precisely, by the syntactic subject of the clause, but, of course, the undischarged argument of an unsaturated one-place predicate need not correspond to the subject of the clause; semantically speaking, I sent Bill__ is also a one-place first-order predicate, even though the missing argument is, syntactically, not discharged by a subject, but by a direct object (say the invitation in I sent Bill the invitation, or which in This is the invitation which I sent Bill, etc.\n",
      "-------------------\n",
      "In the case of the verb(s) give, then, if you coordinate two clauses like He gives blood and His wife gives to charity and try to 'R-gap' the second token of give, the result, He gives blood and his wife __ to charity, is obviously zeugmatic (i.e., either unnatural, or interpretable only as a joke, with the structure [He [gives [blood and his wife](= DO) to charity]]), which suggests that the two tokens of give that appear in those two clauses belong to different lexemes (= different homonymous verbs give1 and give 2), not that the first token of give is used with an 'implicit argument'.\n",
      "-------------------\n",
      "Of course, under minimalist assumptions, syntactic derivations still start from a selection of lexical items (a 'numeration', in the earliest minimalist work, a 'lexical array' in later versions, or from parallel access to the Lexicon in some alternative versions), but Minimalist Syntax, especially in its mature formulations, is no longer 'projectionist' (at least not in its programmatic statements) because the only syntactic operation it allows is (internal/external) 'Merge', and, in theory, 'Merge' is just a recursive set-forming operation subject to 'No Tampering', a principle that claims that the internal features of lexical items cannot be modified by Merge in any way.\n",
      "-------------------\n",
      "Therefore God exalted him to the highest place and gave him the name that is above every name, 10 that at the name of Jesus every knee should bow, in heaven and on earth and under the earth, 11 and every tongue acknowledge that Jesus Christ is Lord, to the glory of God the Father Additionally, the doctrine of omnipresence would seem to contradict the idea - if there is \"no where I can go to flee from your spirit,\" then it seems odd to fix God into a form - as incarnated presence in a given location (separating a locale into 'is occupied' and 'is not occupied) would inherently give form, but by suggesting there is no 'not occupied by God', the converse is in fact, validated.)\n",
      "-------------------\n",
      "God the Father Himself declared this Jesus to be his eternal Son, during the Baptism of John: When looking carefully at the name God gave himself in contrast to all the gods of Pharaoh and the other pagan nations we have a path to a clear answer: Since God determines what measure of temptation is best for the refining of our faith and increasing of our strength (Col 1:11, Rom 5:4), in some ways the Devil's depth of 'temptation' becomes irrelevant and we may not notice his attacks have gained in strength because God is making us stronger from our previous vexing and struggles.\n",
      "-------------------\n",
      "John Piper's arguments regarding Ephesians 4 and 1 Peter 3 echo Grudem's, and he finds Christ's statement to the thief as convincing evidence that Christ was in heaven between his death and resurrection.2 Elsewhere, he argues that the God-man (Jesus) had to die voluntarily, and in support of this he cites a few more: A God-man must be born with the power, obligation, and will to make the satisfaction The problem, Anselm summarizes, is that no one is capable of paying the debt except God, and only mankind has the obligation to pay it.\n",
      "-------------------\n",
      "Isaiah 61:1-6 The Spirit of the Lord GOD is upon me; because the LORD hath anointed me to preach good tidings unto the meek; he hath sent me to bind up the brokenhearted, to proclaim liberty to the captives, and the opening of the prison to them that are bound; To proclaim the acceptable year of the LORD, and the day of vengeance of our God; to comfort all that mourn; To appoint unto them that mourn in Zion, to give unto them beauty for ashes, the oil of joy for mourning, the garment of praise for the spirit of heaviness; that they might be called trees of righteousness, the planting of the LORD, that he might be glorified.\n",
      "-------------------\n",
      "I replied again, \"If I could not have proved to you from the Scriptures that one of those three is God, and is called Angel, because, as I already said, He brings messages to those to whom God the Maker of all things wishes[messages to be brought], then in regard to Him who appeared to Abraham on earth in human form in like manner as the two angels who came with Him, and who was God even before the creation of the world, it were reasonable for you to entertain the same belief as is entertained by the whole of your nation.\"\n",
      "-------------------\n",
      "For this reason God gave them over to degrading passions; for their women exchanged the natural function for that which is [a]unnatural, and in the same way also the men abandoned the natural function of the woman and burned in their desire toward one another, men with men committing indecent acts and receiving in [b]their own persons the due penalty of their error(NASB) For one thing, we have four independent sources of significant length (apart from scores of other non canonical texts), which is pretty good as far as ancient accounts for a single person goes.\n",
      "-------------------\n",
      "As the length of this answer is increasing, I will restrict here in mentioning only the names and dates when these references were made: Methodius: (Oration on Simeon and Anna 7 [A.D. 305]); Cyril of Jerusalem:(Catechetical Lectures 10:19 [A.D. 350]);Ephraim the Syrian:(Songs of Praise 1:20 [A.D. 351]); Athanasius: (The Incarnation of the Word of God 8 [A.D. 365]); Epiphanius of Salamis:(The Man Well-Anchored 75 [A.D. 374]); Ambrose of Milan:(The Virgins 2:2[7] [A.D. 377]) and many more.\n",
      "-------------------\n",
      "When the king questions them, they respond by saying: Some have also suggested that Augustine shared this view, based on a passage where he uses language from Romans 11 and calls the elect from both Jews and Gentiles \"a truer Israel,\"17 but elsewhere he emphasizes a future conversion of Jews.18 John Calvin, though apparently also seeing a future conversion of Jews, nonetheless argues that Paul's meaning with \"all Israel\" is \"the whole Israel of God,\" including both Jews and Gentiles, just as it is in Galatians 6:16.19 Here, the grief is seen as a human response to sin, and as something necessary to show his human nature, but not an example of him bearing God's wrath against sin.\n",
      "-------------------\n",
      "Generally, brakes are sold with a range of reach (usually written on the brake; this is because you have some adjustment with the pads), like 40 mm - 50 mm or whatever and are termed as short, normal, long and extra long reach (but the actual reach lengths vary based on the manufacturer and time period of manufacturing, so you need to look at the range of reach for the particular brake you're using; for example, a long reach brake today may have been a normal reach brake in the 1960s).\n",
      "-------------------\n",
      "And the next generation, your children who rise up after you, and the foreigner who comes from a far land, will say, when they see the afflictions of that land and the sicknesses with which the LORD has made it sick-- the whole land burned out with brimstone and salt, nothing sown and nothing growing, where no plant can sprout, an overthrow like that of Sodom and Gomorrah, Admah, and Zeboiim, which the LORD overthrew in his anger and wrath (Deuteronomy 29:18-23) Pope Gregory I2 and Thomas Aquinas3 take this view, and George Leo Haydock4 and the Catechism of the Catholic Church5 appear to do as well, though their language may admit alternate readings.\n",
      "-------------------\n",
      "And the next generation, your children who rise up after you, and the foreigner who comes from a far land, will say, when they see the afflictions of that land and the sicknesses with which the LORD has made it sick-- the whole land burned out with brimstone and salt, nothing sown and nothing growing, where no plant can sprout, an overthrow like that of Sodom and Gomorrah, Admah, and Zeboiim, which the LORD overthrew in his anger and wrath (Deuteronomy 29:18-23) Peter preaches a sermon and about three thousand people put their faith in Jesus.\n",
      "-------------------\n",
      "14 Both had the forces of nature obey them (the seas) Moses (Ex.14:21-22) Jesus (Mt.8:26-27) 14 But I have a few things against thee, because thou hast there them that hold the doctrine of Balaam, who taught Balac to cast a stumblingblock before the children of Israel, to eat things sacrificed unto idols, and to commit fornication.... 20 Notwithstanding I have a few things against thee, because thou sufferest that woman Jezebel, which calleth herself a prophetess, to teach and to seduce my servants to commit fornication, and to eat things sacrificed unto idols.\n",
      "-------------------\n",
      "(Assume that this person is a child that cannot hope to land the plane, that she believes in the same God as Catholics, that she intends to bring the recipients of baptism into the fullness of Christ's Church, that air pressure is lost leaving no more-competent passenger conscious, and that the would-be recipients are a large number of lapsed family members, some of which have been putting baptism off for so long that there is reason to believe that their desire for baptism is at least questionable...) The Way of the Cross is the path that Jesus took as He made His way to His crucifixion, which some people follow.\n",
      "-------------------\n",
      "Moreover, that the images of Christ, of the Virgin Mother of God, and of the other saints, are to be had and retained particularly in temples, and that due honour and veneration are to be given them; not that any divinity, or virtue, is believed to be in them, on account of which they are to be worshipped; or that anything is to be asked of them; or, that trust is to be reposed in images, as was of old done by the Gentiles who placed [Page 235] their hope in idols; but because the honour which is shown them is referred to the prototypes which those images represent; in such wise that by the images which we kiss, and before which we uncover the head, and prostrate ourselves, we adore Christ; and we venerate the saints, whose similitude they bear: as, by the decrees of Councils, and especially of the second Synod of Nicaea, has been defined against the opponents of images.\n",
      "-------------------\n",
      "The brakes are making a horrible grinding or scraping sound and/or aren't working efficiently (note: they might be just glazed so you should take them apart and see if the brake surface is glazed; if so, deglaze it with sandpaper) The brake drum lever arm is almost all the way forward and is limiting your braking performance There's a little arrow or other indicator on some brake drums by the brake lever arm which indicates that the brake lever arm is fully extended and worn You've taken the outer housing off and you can visually see that the brake surface is worn down.\n",
      "-------------------\n",
      "In his discussion of \"Persecution of Christians by those of the same name\", in which he focuses exclusively on post-Reformation persecutions of Protestants by Catholics, he mentions the Inquisition, the Dutch Revolt (not by that name), the French Wars of Religion (likewise not by that name), the English Reformation, the 1641 Irish Rebellion, and unspecified slaughters by Catholics in Scotland and Spain (although it specifies that the Spanish killings it mentions are of Jews, Muslims, and \"barbarians\", not of Christians).\n",
      "-------------------\n",
      "I would note further, that for most protestants, ending a prayer with \"In the Name of Jesus\" is exactly the same as using the full \"In the name of the Father, and of the Son, and of the Holy Spirit\", because there is One God, comprised of the three persons of the Father, the Son, and the Holy Spirit, so that whether one uses the short form (\"In the name of Our Lord Jesus Christ\") or the long form, \"In the name of the Father, and of the Son, and of the Holy Spirit\" are both saying the same thing, as either is calling on God.\n",
      "-------------------\n",
      "I would note further, that for most protestants, ending a prayer with \"In the Name of Jesus\" is exactly the same as using the full \"In the name of the Father, and of the Son, and of the Holy Spirit\", because there is One God, comprised of the three persons of the Father, the Son, and the Holy Spirit, so that whether one uses the short form (\"In the name of Our Lord Jesus Christ\") or the long form, \"In the name of the Father, and of the Son, and of the Holy Spirit\" are both saying the same thing, as either is calling on God.\n",
      "-------------------\n",
      "For it is not to be believed, that, insomuch as a priest so doth, his prayer of faith will save the sick, for then it would be a part of the faith of the church to believe, that whoever in his last moments should receive the sacrament, would be saved by faith in Christ, and this sacrament would then be the most necessary of all, for the recipient of the others may be finally impenitent, and be lost,—but so, without a doubt, may he be who receives this sacrament.\n",
      "-------------------\n",
      "For the faithful might urge with sufficient reason, that this holy apostle does not specify the last sickness, but merely says that consolation should be administered by the presbyter when any one is sick; and as it is in the nature of oil, in those parts of the world, to promote the health of the body, so he mentions this anointing; not that the oil affects the soul, but the prayer of a devout priest poured forth, hath a healing effect, so that God helps the sickness of the soul.\n",
      "-------------------\n",
      "Ultimately justification, which is \"not only the remission of sins, but also the sanctification and renewal of the interior man\"1, is a gift of the Holy Spirit: No penalty or censure is attached by the Church to conferring or receiving a second baptism (inadvertently or otherwise); however, the importance the Church places on baptizing only once can be seen in their instructions (in the Code of Canon Law) to priests on baptizing those who might possibly have been baptized before (including in another Christian community whose baptism is recognized as valid): As hinted above, the Church recognizes that there may be times when a couple wishes to ensure that sex will not result in having a child.\n",
      "-------------------\n",
      "Though it is true that sometimes it is lawful to tolerate a lesser moral evil in order to avoid a greater evil or in order to promote a greater good,\" it is never lawful, even for the gravest reasons, to do evil that good may come of it—in other words, to intend directly something which of its very nature contradicts the moral order, and which must therefore be judged unworthy of man, even though the intention is to protect or promote the welfare of an individual, of a family or of society in general.\n",
      "-------------------\n",
      "Gentiles have only to observe the http://en.m.wikipedia.org/wiki/Seven_Laws_of_Noah http://en.m.wikipedia.org/wiki/Virtuous_pagan 1257 The Lord himself affirms that Baptism is necessary for salvation.60 He also commands his disciples to proclaim the Gospel to all nations and to baptize them.61 Baptism is necessary for salvation for those to whom the Gospel has been proclaimed and who have had the possibility of asking for this sacrament.62 The Church does not know of any means other than Baptism that assures entry into eternal beatitude; this is why she takes care not to neglect the mission she has received from the Lord to see that all who can be baptized are \"reborn of water and the Spirit.\"\n",
      "-------------------\n",
      "Seventh Day Adventists believe that non Christians can get into Heaven 1257 The Lord himself affirms that Baptism is necessary for salvation.60 He also commands his disciples to proclaim the Gospel to all nations and to baptize them.61 Baptism is necessary for salvation for those to whom the Gospel has been proclaimed and who have had the possibility of asking for this sacrament.62 The Church does not know of any means other than Baptism that assures entry into eternal beatitude; this is why she takes care not to neglect the mission she has received from the Lord to see that all who can be baptized are \"reborn of water and the Spirit.\"\n",
      "-------------------\n",
      "If you are interested in doing this still (instead of buying a bike which you essentially like, and tweaking it, or having a conversion of an old frame done by your LBS), I suggest you go to your LBS, talk to them about what you want to do, take a bike which is similar to what you want, and get them to help you select which parts work for you (and you can have them install things which you don't want to buy the tools for or don't have access to, and have them check the wheel tensioning and stuff).\n",
      "-------------------\n",
      "Generally, brakes are sold with a range of reach (usually written on the brake; this is because you have some adjustment with the pads), like 40 mm - 50 mm or whatever and are termed as short, normal, long and extra long reach (but the actual reach lengths vary based on the manufacturer and time period of manufacturing, so you need to look at the range of reach for the particular brake you're using; for example, a long reach brake today may have been a normal reach brake in the 1960s).\n",
      "-------------------\n",
      "Materials rags sponges bucket filled with warm water and soap scrub brush with plastic bristles simple green or citri-solve in spray bottle lube Methods Rinse bike off with water Liberally apply soapy water to entire bike with sponge Wipe dirt off everywhere except drivetrain with sponge Wipe dirt off drivetrain with a dedicated greasy sponge spray drivetrain with degreaser wipe down drivetrain with rag rinse again apply lube to drivetrain remove excess lube with rag Notes this answer focuses on cleaning the bike, but cleaning is also a good opportunity to check the bike for mechanical issues, including worn or loose parts:\n",
      "-------------------\n",
      "Materials rags sponges bucket filled with warm water and soap scrub brush with plastic bristles simple green or citri-solve in spray bottle lube Methods Rinse bike off with water Liberally apply soapy water to entire bike with sponge Wipe dirt off everywhere except drivetrain with sponge Wipe dirt off drivetrain with a dedicated greasy sponge spray drivetrain with degreaser wipe down drivetrain with rag rinse again apply lube to drivetrain remove excess lube with rag Notes this answer focuses on cleaning the bike, but cleaning is also a good opportunity to check the bike for mechanical issues, including worn or loose parts:\n",
      "-------------------\n",
      "You want to focus on what the reader needs to know for the story to make sense (he needs to know the scene is in a park, and not in out of space; if there's going to be anything happening in or around the park's pond, you want the reader to be aware that the pond exists), and on what you can use to create atmosphere (this scene is going to be calm and serene, like the park; or: the park is wilting and poorly-kept, emphasizing the story's squalor and disorder).\n",
      "-------------------\n",
      "As far as I know, and based on what happens in the market I study and what its audience says, a sequel is, generally, similar to the previous work, being kind of a \"The New Adventures of X\", keeping the world/universe, feeling and atmosphere, but putting the same characters (or most of them) in new events, and such audience like it that way, because that way they can have again the experience they had in the previous work but now with a new story with the characters they love and some new things, very usually keeping the status quo.\n",
      "-------------------\n",
      "However, in my story, if there is a very special and rare race, it's sure that they will be extincted; if there is a bloodline that inherits a powerful ability, it's sure that such line will be broken; if there is a group of very likeable characters, it's sure that the protagonist will be unable to be with them again; if the protagonist goes to the future, it's sure he can't return; if there's a powerful artifact, it's sure that it will be destroyed; if the protagonist has special powers, it's sure he will lose them, etc.\n",
      "-------------------\n",
      "As far as I know, and based on what happens in the market I study and what its audience says, a sequel is, generally, similar to the previous work, being kind of a \"The New Adventures of X\", keeping the world/universe, feeling and atmosphere, but putting the same characters (or most of them) in new events, and such audience like it that way, because that way they can have again the experience they had in the previous work but now with a new story with the characters they love and some new things, very usually keeping the status quo.\n",
      "-------------------\n",
      "As far as I know, and based on what happens in the market I study and what its audience says, a sequel is, generally, similar to the previous work, being kind of a \"The New Adventures of X\", keeping the world/universe, feeling and atmosphere, but putting the same characters (or most of them) in new events, and such audience like it that way, because that way they can have again the experience they had in the previous work but now with a new story with the characters they love and some new things, very usually keeping the status quo.\n",
      "-------------------\n",
      "However, in my story, if there is a very special and rare race, it's sure that they will be extincted; if there is a bloodline that inherits a powerful ability, it's sure that such line will be broken; if there is a group of very likeable characters, it's sure that the protagonist will be unable to be with them again; if the protagonist goes to the future, it's sure he can't return; if there's a powerful artifact, it's sure that it will be destroyed; if the protagonist has special powers, it's sure he will lose them, etc.\n",
      "-------------------\n",
      "Yes, it's one of the \"rules that exist to be broken\" - if you have a good plot which requires a \"special snowflake\" at the very beginning, do it - it may be a reversal of the \"growth\" story, where a tired god seeks escape into a calm life of a common mortal, or it may be a comedy with an arrogant, handsome, rich and famous hero running face first into a situation only fit for a \"commoner\", or you may come up with a Machiavellian mind and display its nature through the progress - these are all exceptions, violations of the rule - a rule that says \"start with someone very relatable, then put them through a grinder and show what comes out\".\n",
      "-------------------\n",
      "This is, IMHO, overused to a fault, and few screenwriters can get away with playing this trope straight anymore; they have to either \"deconstruct\" the lampshade, making an even bigger deal about the fact that they shouldn't have to say what they're saying, or else they play with it, either putting the line at the end of the exposition as an admonishment (\"You should have known that\"), or having the character being exposited to say \"Yeah, I know, but...\" Conceptually speaking, besides these devices, how do you give your audience information that they shouldn't have to ask for if they lived in the world of the story?\n",
      "-------------------\n",
      "This is, IMHO, overused to a fault, and few screenwriters can get away with playing this trope straight anymore; they have to either \"deconstruct\" the lampshade, making an even bigger deal about the fact that they shouldn't have to say what they're saying, or else they play with it, either putting the line at the end of the exposition as an admonishment (\"You should have known that\"), or having the character being exposited to say \"Yeah, I know, but...\" When writing fiction, especially in universes other than our own such as sci-fi/fantasy genres, the reader often has to be given a piece of information about how the world works in order for what's coming up to make sense.\n",
      "-------------------\n",
      "Yes, it's one of the \"rules that exist to be broken\" - if you have a good plot which requires a \"special snowflake\" at the very beginning, do it - it may be a reversal of the \"growth\" story, where a tired god seeks escape into a calm life of a common mortal, or it may be a comedy with an arrogant, handsome, rich and famous hero running face first into a situation only fit for a \"commoner\", or you may come up with a Machiavellian mind and display its nature through the progress - these are all exceptions, violations of the rule - a rule that says \"start with someone very relatable, then put them through a grinder and show what comes out\".\n",
      "-------------------\n",
      "Sherlock ignoring John, John barely speaking to Sherlock, Mary constantly in the middle of the two of them, Sherlock claiming to openly prefer Mary to John, John assaulting Sherlock and beating him bloody, Mrs. Hudson drag-racing an Aston Martin, Mycroft vomiting in distress after seeing violence, a mysterious mind-controlling secret sister in a secret government installation who is somehow in league with Moriarty who's been dead for years, an explosion which blows two men out a second-story window without a scratch and destroys the flat but not the rug, a character leaping in front of a bullet after it's fired and having a Hamlet-length death scene when it's established that a chest shot puts you out in three seconds...\n",
      "-------------------\n",
      "As far as I know, and based on what happens in the market I study and what its audience says, a sequel is, generally, similar to the previous work, being kind of a \"The New Adventures of X\", keeping the world/universe, feeling and atmosphere, but putting the same characters (or most of them) in new events, and such audience like it that way, because that way they can have again the experience they had in the previous work but now with a new story with the characters they love and some new things, very usually keeping the status quo.\n",
      "-------------------\n",
      "However, in my story, if there is a very special and rare race, it's sure that they will be extincted; if there is a bloodline that inherits a powerful ability, it's sure that such line will be broken; if there is a group of very likeable characters, it's sure that the protagonist will be unable to be with them again; if the protagonist goes to the future, it's sure he can't return; if there's a powerful artifact, it's sure that it will be destroyed; if the protagonist has special powers, it's sure he will lose them, etc.\n",
      "-------------------\n",
      "Sherlock ignoring John, John barely speaking to Sherlock, Mary constantly in the middle of the two of them, Sherlock claiming to openly prefer Mary to John, John assaulting Sherlock and beating him bloody, Mrs. Hudson drag-racing an Aston Martin, Mycroft vomiting in distress after seeing violence, a mysterious mind-controlling secret sister in a secret government installation who is somehow in league with Moriarty who's been dead for years, an explosion which blows two men out a second-story window without a scratch and destroys the flat but not the rug, a character leaping in front of a bullet after it's fired and having a Hamlet-length death scene when it's established that a chest shot puts you out in three seconds...\n",
      "-------------------\n",
      "Yes, it's one of the \"rules that exist to be broken\" - if you have a good plot which requires a \"special snowflake\" at the very beginning, do it - it may be a reversal of the \"growth\" story, where a tired god seeks escape into a calm life of a common mortal, or it may be a comedy with an arrogant, handsome, rich and famous hero running face first into a situation only fit for a \"commoner\", or you may come up with a Machiavellian mind and display its nature through the progress - these are all exceptions, violations of the rule - a rule that says \"start with someone very relatable, then put them through a grinder and show what comes out\".\n",
      "-------------------\n",
      "Hero (BTN): 298.9 bb (VPIP: 18, PFR: 15, 3Bet Preflop: 7) SB: 117.9 bb (VPIP: 19.23, PFR: 16.92, 3Bet Preflop: 8.33, Hands: 134) BB: 101.5 bb (VPIP: 55.56, PFR: 55.56, 3Bet Preflop: 33.33, Hands: 9) UTG: 62.3 bb (VPIP: 33.33, PFR: 22.22, 3Bet Preflop: 0.00, Hands: 9) MP: 279.8 bb (VPIP: 0.00, PFR: 0.00, 3Bet Preflop: 0.00, Hands: 6) CO: 116.7 bb (VPIP: 0.00, PFR: 0.00, 3Bet Preflop: -, Hands: 2) Pre Flop: Hero is CO has 6♠ 5♠ 1 folds, MP raises to $18, Hero calls $18, 3 folds If villain keeps betting half pot all the way through the turn, he'll have very close to a pot sized bet at the river.\n",
      "-------------------\n",
      "52 - 4 - 2 = 46 cards out 9 cards left to make a flush So the odd to make the flush is 9 : 37 = 1 : 4.11 What is interesting here is you know there are no flush in your hand so the actual odds are 9 : 35 = 1 : 3.89 What bet gives your opponent exactly 0 reason to call -bet + 9/37(bet + pot) = 0 9/37 pot = (1 - 9 /37) bet 9/37 pot = 28/37 bet bet / pot = 9 / 28 = 32% You have to bet right at 1/3 of the pot for call to be a wash Your opponent should call anything up to 1/3 pot bet by you Your bet is in the pot (4/3) / (1/3) = 4 : 1 1).\n",
      "-------------------\n",
      "52 - 4 - 2 = 46 cards out 9 cards left to make a flush So the odd to make the flush is 9 : 37 = 1 : 4.11 What is interesting here is you know there are no flush in your hand so the actual odds are 9 : 35 = 1 : 3.89 What bet gives your opponent exactly 0 reason to call -bet + 9/37(bet + pot) = 0 9/37 pot = (1 - 9 /37) bet 9/37 pot = 28/37 bet bet / pot = 9 / 28 = 32% You have to bet right at 1/3 of the pot for call to be a wash Your opponent should call anything up to 1/3 pot bet by you Your bet is in the pot (4/3) / (1/3) = 4 : 1 You value greatly when an opponent doesn't realize you've polarized your range to include only strong value and air since you've obviously greatly increased your expectation with said air hands (your bluffs).\n",
      "-------------------\n",
      "Villain pushes on the river You have to call 100 to win 130 You are getting 1.3:1 You are beat by 33, 55, JJ, TT, 35, T5, J5 Some are odd hands but hero has them or is bluffing I think villain should have bet 2 times the pot so you could not lay down Villain made it too easy for you to lay down by over betting He would need to be bluffing 40% for that to be the correct call That is just not a board to bluff Based bet on the turn villain should put you on a flush or better When I first read it I said heck yes got to call But as I do the math fold seems like the way to go\n",
      "-------------------\n",
      "AA is the best head up hand Lets say bb is $2 and you can get QQ to go all in for $80 you are 80% EV = -80 + .8*(163) = $50.4 Let's say you limp to get three plus you in the pot - problem is now even against 3 decent hands you are 50% You need to get $50 each from 3 to have a better EV EV = -50 + .5*(203) = $51.5 You would need to get all three hands to invest $48 post flop to have a better EV Not going happen - three hands are not going to invest $48 more dollars each unless they hit If they hit then you go to (way) less than 50% It is easier to get $80 out of one player than $50 each out of three players Aces chance of winning goes down faster with more players than the chance of growing a big enough pot because of more players\n",
      "-------------------\n",
      "<(A)>=(35/44)*400 + (9/44)*0 = (35/44)*400 = 318 First calculate the probability that no aces are dealt to 6 players (12 cards): The probability of 1 and only 1 Ace being dealt is given by: Therefore expectation of profits = (35/44)*460 - (9/44)*60 = 353 The first approach gives the formula, Now in this scenario, it was only correct to call the initial bet of 200 on the basis that you will see 2 more cards.\n",
      "-------------------\n",
      "Expected Profits in case of loss = - 60 Similarly, for 3 Aces, we find the probability to be, <(A)> = (35/44)*(400 + 60 + 60) - 60 Therefore the probability of at least one ace being dealt is given by 1 - 0.3376 = 0.6624 = 66.24% Finally the probability that all 4 aces are dealt is given by, The accuracy of these number can be verified, by adding them together to give 66.24% - the answer to the first part of the question above.\n",
      "-------------------\n",
      "evaluate board shuffle then one player at a time get the order (hand score) record win, tie, and loss to the player Opponent same flush - one card Let's say one card and T or greater You are playing 89s You can infer that the probability of any of your opponents having had hands like AA, KK, QQ, AK, AQ is slim, so you can expect there to be a very slightly increased probability of A's, K's, and Q's appearing on the board than you would expect if you had no additional information.\n",
      "-------------------\n",
      "You can get that same number with further break down on all hands when it wins / ties did it do so as what hand (straight flush down to high card) (my app does not currently do that - going to add it) 9 diamonds flush (5 straight flush) 0 fives 3 sevens counterfeit 3 eights top pair 3 nines top pair 3 tens straight 2 jacks counterfeit This took me about 20 hours but I am a developer I moved to a new version of .NET and Visual Studio and wanted a project to practice with\n",
      "-------------------\n",
      "order the hands (hand score) gave strait flush a value of 8 down to 0 for high hand gave ace a value of 14 down to two a value of 2 in the case of a straight add the ace with a value of 1 for kickers include the made hand as part start of the kicker hand and kicker are all just two digits hand * 100000000 + kicker.0 * 1000000 + kicker.1 * 10000 + kicker.2 * 100 + kicker.3 so ace over king boat is 614130000 for flush and high card it could actually go into 5 kickers but I just let that be a tie\n",
      "-------------------\n",
      "Two common misconceptions are that 1) you can simply say Bismillah over any meat and eat it because the Prophet (saws) did so - the full hadith however states that in that case the meat came from a new Muslim tribe who may not have known of the conditions, and so the Prophet (saws) said Bismillah over it and 2) today's Ahl al-Kitab have deviated from their original religion and it's not valid to eat their food - the answer to this is that they had deviated even at the time of the Prophet (saws) and neither Allah nor His Messenger specified that they must be following their original deen, and so we can't impose that condition either.\n",
      "-------------------\n",
      "Now as per your query ,if you are saving this amount for a long time like a year has passed over it and you have reached your age of puberty then you have to figure out the month the day and the amount when it reached the nisab level,, you can calculate from zakat calculator too, and if after calculation you figure out that your zakatable valauables reaches the value of the nisab and year has passed over it then you are liable to pay the zakah whether you work or not and if you dont possess for an year then you dont need to .Your Query is useful as there are so many misconceptions among people that if head of the family is paying zakah then its enough for all.\n",
      "-------------------\n",
      "Firstly, I appreciate your endeavor for making such useful site as you remarked: In the name of Allah, the most gracious, the most merciful Secondly it won't be haram by itself, as can reach many couples to each others (by getting marriage), but the significant point is that it can be a place for haram acts as well, by relations which can be result in non-Islamic relationship by making relationship between boys and girls... And actually some or many individuals can misuse ... Shia Fiqh (jurisprudence) considers it haram even if a part of women's hair is visible.\n",
      "-------------------\n",
      "If you want you can make the sunnah after the fardh, but that will be missing the point, the Prophet may peace and blessings be upon Him made certain sunnahs at certain times, ether before or after the salaat, so it would be pointless to make a sunnah prayer that was supposed to be at the first of the salaat, you can just make the sunnahs and nafils after the salaat and maybe add on to that (meaning to add extra salat to that, Tatawu' prayer which is the same as nafil prayers, so just make extra nafil prayer if you want.)\n",
      "-------------------\n",
      "If you want you can make the sunnah after the fardh, but that will be missing the point, the Prophet may peace and blessings be upon Him made certain sunnahs at certain times, ether before or after the salaat, so it would be pointless to make a sunnah prayer that was supposed to be at the first of the salaat, you can just make the sunnahs and nafils after the salaat and maybe add on to that (meaning to add extra salat to that, Tatawu' prayer which is the same as nafil prayers, so just make extra nafil prayer if you want.)\n",
      "-------------------\n",
      "These are the times of the Prophets before you, and the time is what is between these two times.”(Abu Dawud) Now as you stated about God like attribute \"to consider alive as shirk\" so regarding this when we consider someone to be alive it is not \"Shirk\" as we are alive yet but it could be if someone claims that He is alive from the beginning and he was not created later and this is called as HAADITH(Something which was not before but created later) so Allah Swt is from beginning but no body else is like that.\n",
      "-------------------\n",
      "Only if there were Imam and one person praying beside him (on his right side with a slight backprayer), then you will have to usher him if you want to pray with them so that both of you will make a row behind Imam, else you should try to fill a gap in the last row, if there is no gap, then just start a new row (by standing in the middle so the Imam is strait in front of you) and join the prayer: [Jami` at-Tirmidhi], with other Riwayat available.\n",
      "-------------------\n",
      "Indeed Allah has set a measure for all things [Quran, 65:3] Performing prayers is one of the most important factors that will help you in avoiding going back to your old sins: Your employer has no right to prevent you from doing this and in many countries (even non-muslim countries) this is considered as discremenation in the work place therefore know your rights and excersise them if not find a new employer and Allah will help you in the process: Although sincere repentance may cause your sins to be forgiven, it isn't an easy task to attempt to remain stead fast on the righteous path and avoid sins: The first thing you need to bare in mind is that Allah is the most forgiving and he is capable of forgiving any sin as long as repentance was a sincere one: Changing the environment your in and those around you that have a bad influence on you is essential for you to remain a righteous person: Life is a struggle and one should remain strong throughout their, one cannot achieve this by their own rather by supplicating to God and relying on him after you have done all that you could possibly do: If one doesn't perform Istibra, and liquid is discharged it is deemed unclean.\n",
      "-------------------\n",
      "Although sincere repentance may cause your sins to be forgiven, it isn't an easy task to attempt to remain stead fast on the righteous path and avoid sins: Your employer has no right to prevent you from doing this and in many countries (even non-muslim countries) this is considered as discremenation in the work place therefore know your rights and excersise them if not find a new employer and Allah will help you in the process: Performing prayers is one of the most important factors that will help you in avoiding going back to your old sins: And He will provide him from (sources) he never could imagine.\n",
      "-------------------\n",
      "In Modern era there are lots of ways to figure out the timings of prayers unlike earlier era we are not only dependant on shadows and stars,lots of applications in devices ,some softwares ,these could help us in identifying correct prayer timings however if someone is in a situation when he is not aware of the time and he prays just by his own sense visualizing Sun or darkness/brightness and this was not his routine like may be one time or second so Allah Swt is Raheem could be acceptable So Martyrs are not above the level of Prophets so when they are alive how come we could not assume such about Prophets as well by the above clear hadith.\n",
      "-------------------\n",
      "(4) If the wife does not fulfill one of the above-mentioned obligations, she is termed \"rebellious\" (nashiz)[..] After that the recommends steps to stop her rebelliousness (admonition and advice, leaving the marriage bed, hitting her; attempts to stop her from rebelling are made in that order as mentioned in a number of answers on this site as well); the text is clear that she is considered rebellious and that this relieves the husband of his duty to support her, and if admonishing and advising her and not sleeping with her don't work, then he can hit her; Keller (still in m10.12) mentions the condition for hitting that: If I find the time this weekend, I'll look at Hanafi sources as well.\n",
      "-------------------\n",
      "After that the recommends steps to stop her rebelliousness (admonition and advice, leaving the marriage bed, hitting her; attempts to stop her from rebelling are made in that order as mentioned in a number of answers on this site as well); the text is clear that she is considered rebellious and that this relieves the husband of his duty to support her, and if admonishing and advising her and not sleeping with her don't work, then he can hit her; Keller (still in m10.12) mentions the condition for hitting that:\n",
      "-------------------\n",
      "on the other hand we should avoid commiting some sins (although we really interested in) if we'd like to go to the heaven, otherwise ... Prophet Muhammad (peace be upon him and his family) said: [2] -Makarem Shirazi, Naser, Ta’liqat Alaa al-Urwat al-Wuthqa, Nikah (Marriage)… According to Shia, actually in accordance with the fatwa or view of Ayatollah Khamenei (As a Marja al-Taqlid of Shia): Seemingly, according to religious law (canonically), the religion doesn't suggest to refer for the divorce directly.\n",
      "-------------------\n",
      "This is what the seera tells us was practiced during the time of the Prophet ﷺ and his companions and is also declared through this hadith: — Sahih Al-Bukhari » Book of Wills and Testaments » Hadith 2751 From the perspective of the verses in the Qur'an or hadith that refer to orphans, they are related to paternal orphans since in Islam, it is the responsibility of the father to sustain his family: Sixty Najrani Christians went to visit the Prophet in Medina, as a result, with multiple debates taking place over several days.\n",
      "-------------------\n",
      "Therefore, as a general answer to a general question we do believe that there is no mistake in Quran as it is a book revealed by the only God, the one who has created you and your parents from whom you have started to learn, the one who has created all those scientists who have raised such issues as the mistakes of God (funny but sad), the one who has created the science itself that if scientists are scientists for their discovering the fact about stars and galaxies and wild life and physics of body and fluid and electromagnetism Allah is the one who has created all those facts, if the scientists are trying to dead to travel to Mars Allah has created Mars billions of years before and has maintained it till now and after.\n",
      "-------------------\n",
      "In this hadith (attributed to 'Umar and not to the Prophet ﷺ), which was documented in several other books of hadith (e.g., Sahih Al-Bukhari, Al-Sunan Al-Kubra by Al-Nasa'i, Al-Sunan Al-Kubra by Al-Baihaqi, Sunan Ibn Majah, Musnad Abi Ya'la, Musnad Ahamd ibn Hanbal, Musnad Al-Humaidi, Musannaf Abi Shaiba, Al-Mustadrak, and others), 'Umar is predicting (and it is possible that this was based on something that 'Umar heard from the Prophet ﷺ) there would come a time when people would question the ruling of stoning adulterers.\n",
      "-------------------\n",
      "If you recite some Surahs from the Koran it is better to recite at the 2nd rakaa a Surah which is smaller then the one you recite in the first rakaa and it should be after that Surah in the order of the Mushaf/Quran (this is a preference, but not a most in some Madhabs) for example you shouldn't recite in the first raka-a Surat An-Nas (114) as you only can therefore only recite it once again in the 2nd raka-a (which is no problem at all), or if you recite Surath al Ikhlass (112) you could only recite afterwards Surath An-Nas (114) or Surat al Falaq (113).\n",
      "-------------------\n",
      "Moreover, I have heard that the Prophet (s) and Shia’s Imam always used to eat by their right hand (unless in some specific situation which had to …) In the name of Allah, the most compassionate, the most merciful Different dimensions of the concept of Ummah in the Islamic culture (in short): It is permissible to say Allah Hafiz as you asked: Even Imam Khomeini has illustrate concerning the significance of learning Arabic: To the best of my knowledge, solely a kind of Qusl (Qusl al-Jenabah) would be sufficient instead of Wudu.\n",
      "-------------------\n",
      "He may turn to become blind for the rest of his life, he may find his arms broken, he may loose even his life, all due to that simple mistake, and of course God can stop him making the mistake, and can prevent the crash happening, and can prevent the man becoming blind or disabled or killed, but once you read a newspaper there are lots of such crashes happening and all those disasters that you may know better, then you would think God (God of Christians, God of Jews, and God of Muslims) is unjust or rules of this life are unjust or what?\n",
      "-------------------\n",
      "My own system of beliefs for example was build in my family, in relation with cousins and later friends and then in thinking about our own and other cultures, all the times in past I was trying to make my system of beliefs less self-inconsistent, always modifying it based on different ideas and theories, mine or others', so that such an evolving system can never be claimed to be rigorous based on a solid ground, always one could ask a why so that I will have no answer in return, but then I came across the religion, after God was proved to me both intellectually and through my hearth I read Quran, which was claimed to be God's book, and found it from no one but God, then I had no other accuse not to accept the God's preferentials over mine, after all it is from the one who knows best, in any conflict between His ideas and mine certainly He knows what I don't know, and this is first trusting and then submitting to Allah, and Submission to Allah is the very meaning of Islam:\n",
      "-------------------\n",
      "My own system of beliefs for example was build in my family, in relation with cousins and later friends and then in thinking about our own and other cultures, all the times in past I was trying to make my system of beliefs less self-inconsistent, always modifying it based on different ideas and theories, mine or others', so that such an evolving system can never be claimed to be rigorous based on a solid ground, always one could ask a why so that I will have no answer in return, but then I came across the religion, after God was proved to me both intellectually and through my hearth I read Quran, which was claimed to be God's book, and found it from no one but God, then I had no other accuse not to accept the God's preferentials over mine, after all it is from the one who knows best, in any conflict between His ideas and mine certainly He knows what I don't know, and this is first trusting and then submitting to Allah, and Submission to Allah is the very meaning of Islam:\n",
      "-------------------\n",
      "In this hadith (attributed to 'Umar and not to the Prophet ﷺ), which was documented in several other books of hadith (e.g., Sahih Al-Bukhari, Al-Sunan Al-Kubra by Al-Nasa'i, Al-Sunan Al-Kubra by Al-Baihaqi, Sunan Ibn Majah, Musnad Abi Ya'la, Musnad Ahamd ibn Hanbal, Musnad Al-Humaidi, Musannaf Abi Shaiba, Al-Mustadrak, and others), 'Umar is predicting (and it is possible that this was based on something that 'Umar heard from the Prophet ﷺ) there would come a time when people would question the ruling of stoning adulterers.\n",
      "-------------------\n",
      "In the Holy Qur'an 3:144, it says In this hadith (attributed to 'Umar and not to the Prophet ﷺ), which was documented in several other books of hadith (e.g., Sahih Al-Bukhari, Al-Sunan Al-Kubra by Al-Nasa'i, Al-Sunan Al-Kubra by Al-Baihaqi, Sunan Ibn Majah, Musnad Abi Ya'la, Musnad Ahamd ibn Hanbal, Musnad Al-Humaidi, Musannaf Abi Shaiba, Al-Mustadrak, and others), 'Umar is predicting (and it is possible that this was based on something that 'Umar heard from the Prophet ﷺ) there would come a time when people would question the ruling of stoning adulterers.\n",
      "-------------------\n",
      "Allah, the Exalted, describes the father's reception of the news about the birth of a daughter: (And they say: What is in the bellies of such cattle (whether milk or fetus) is for the male alone, and forbidden from our females, however, if it was born dead, then all have shares therein...) (6:139 Quran) It was narrated from Anas that: The Prophet (ﷺ) said: \"I passed by the grave of Musa, peace be upon him, and he was praying in his grave.\n",
      "-------------------\n",
      "(These countries from Asia are Afghanistan,Bangladesh,Brunei,India,Indonesia,Pakistan,Malaysia,Sirilanka,Uzbekistan,,,,From Middle East are Bahrain,Iraq,Iran,Jordan,Kuwait,lebanon,Iraq,Palestine,Syria,UAE,Yemen,Except for SaudiaArab,Qatar,Israil all eleven out of 14 Arab countries officially celebrate Mawlid or Milad.From Africa Egypt,Algeria,Mali,Libiya,Morocco,Mauritania,Niger,Nigeria,Senegal,binin,Barkinafaso,Comoros,Cameron,Djibouti,Eritria,CoteDilwoire,Ethiopia,gambia,Ghana,Guinea,Sierraleone,Somalia,Sudan,tanzania, Togo,Tunisia,,,,Other Than these Fiji and Guyana also officially celebrate Birth of our beloved Prophet Muhammad peace be upon him.So more than 85% of world Islamic population Celebrate and recieve blessings of Allah Swt.\n",
      "-------------------\n",
      "Eating pork is Haram in Islam and helping in a sin is prohibited in the holy Quran: http://makarem.ir/websites/english/ http://www.al-islam.org/laws/ http://moshavereh.porsemani.ir/content/%D8%AE%D9%88%D8%A7%D8%B3%D8%AA%DA%AF%D8%A7%D8%B1%DB%8C-%D8%AF%D8%B1-%D8%AF%D8%A7%D9%86%D8%B4%DA%AF%D8%A7%D9%87 also it causes: 1- daughter find a negative view about boy.\n",
      "-------------------\n",
      "If you want you can make the sunnah after the fardh, but that will be missing the point, the Prophet may peace and blessings be upon Him made certain sunnahs at certain times, ether before or after the salaat, so it would be pointless to make a sunnah prayer that was supposed to be at the first of the salaat, you can just make the sunnahs and nafils after the salaat and maybe add on to that (meaning to add extra salat to that, Tatawu' prayer which is the same as nafil prayers, so just make extra nafil prayer if you want.)\n",
      "-------------------\n",
      "— Al-Mu'jam as-Saghīr, hadith 606 — NOTE: My own translation, so treat with care: For the sake of mentioning other opinions about Ibn Humaid, some scholars considered him weak but without further elaborations (e.g., Ad-Dāraqutni, Ibn Hajar, Adh-Dhahabi, and Al-Bukhāri), other scholars considered some of his hadiths acceptable — depending on whom said hadiths were narrated through — (e.g., Ibn Hibbān and Ibn Hanbal), while others considered him acceptable at large (e.g., Abu Ya'lā, Yahya ibn Ma'īn, Ja'far ibn Yamīn at-Tayālisi, Mohammad ibn Yahyā adh-Dhohli).\n",
      "-------------------\n",
      "- you probably did not make sin neither by your behavior, because, even if it was incorrect behviour, as soon as you did not know, you are not sinful for your that behaviour, and you are not probably sinful for not knowing that at first place because that is quite advanced topic and you could not know so much things, and also it is probably even a disagreement among different islamic scholars, so several different resulting opinions looks quite right do different scholars and you need to know quite much to have your own opinion.\n",
      "-------------------\n",
      "- you probably did not make sin neither by your behavior, because, even if it was incorrect behviour, as soon as you did not know, you are not sinful for your that behaviour, and you are not probably sinful for not knowing that at first place because that is quite advanced topic and you could not know so much things, and also it is probably even a disagreement among different islamic scholars, so several different resulting opinions looks quite right do different scholars and you need to know quite much to have your own opinion.\n",
      "-------------------\n",
      "- you probably did not make sin neither by your behavior, because, even if it was incorrect behviour, as soon as you did not know, you are not sinful for your that behaviour, and you are not probably sinful for not knowing that at first place because that is quite advanced topic and you could not know so much things, and also it is probably even a disagreement among different islamic scholars, so several different resulting opinions looks quite right do different scholars and you need to know quite much to have your own opinion.\n",
      "-------------------\n",
      "- you probably did not make sin neither by your behavior, because, even if it was incorrect behviour, as soon as you did not know, you are not sinful for your that behaviour, and you are not probably sinful for not knowing that at first place because that is quite advanced topic and you could not know so much things, and also it is probably even a disagreement among different islamic scholars, so several different resulting opinions looks quite right do different scholars and you need to know quite much to have your own opinion.\n",
      "-------------------\n",
      "- you probably did not make sin neither by your behavior, because, even if it was incorrect behviour, as soon as you did not know, you are not sinful for your that behaviour, and you are not probably sinful for not knowing that at first place because that is quite advanced topic and you could not know so much things, and also it is probably even a disagreement among different islamic scholars, so several different resulting opinions looks quite right do different scholars and you need to know quite much to have your own opinion.\n",
      "-------------------\n",
      "This is in brief because next worldly manifestations of perfection are not natural things, but through association we tend to think of next worldly things accounted in scriptures as natural things that have been somehow stretched beyond their normal limits, and this way of thinking in combination with some common anti-religious or anti-Islamic prejudices (such as the assumption that those accounts result from salacious aspirations of a backward tribal society) result in the kind of knee-jerk interpretations that renders those accounts sound ridiculous, but these assumptions are far removed from the highly intellectual interpretations of Muslim traditional meta-physicians and mystics .\n",
      "-------------------\n",
      "This is in brief because next worldly manifestations of perfection are not natural things, but through association we tend to think of next worldly things accounted in scriptures as natural things that have been somehow stretched beyond their normal limits, and this way of thinking in combination with some common anti-religious or anti-Islamic prejudices (such as the assumption that those accounts result from salacious aspirations of a backward tribal society) result in the kind of knee-jerk interpretations that renders those accounts sound ridiculous, but these assumptions are far removed from the highly intellectual interpretations of Muslim traditional meta-physicians and mystics .\n",
      "-------------------\n",
      "This is in brief because next worldly manifestations of perfection are not natural things, but through association we tend to think of next worldly things accounted in scriptures as natural things that have been somehow stretched beyond their normal limits, and this way of thinking in combination with some common anti-religious or anti-Islamic prejudices (such as the assumption that those accounts result from salacious aspirations of a backward tribal society) result in the kind of knee-jerk interpretations that renders those accounts sound ridiculous, but these assumptions are far removed from the highly intellectual interpretations of Muslim traditional meta-physicians and mystics .\n",
      "-------------------\n",
      "Screenshot of Android public beta start in two days http://mrozekma.com/so-a51-android-beta-hover.png When a mod converts a post to a comment, if the post contains a link of this form: Screenshot of the above http://mrozekma.com/so-chat-reverse.png If you try and flag two comments in a row, you run into the vote rate-limiter: Screenshot of the host list http://so.mrozekma.com/chat-modify-room-host.png When creating a new chat room, it's possible to not associate it with a specific site, if you choose \"The Stack Exchange Network\" from the site list (it appears twice for some reason, but that's a separate issue): I mangled a convert to comment earlier and needed to undelete the post so I could redo it.\n",
      "-------------------\n",
      "When a mod converts a post to a comment, if the post contains a link of this form: If I delete normally it works fine; it's only converting to comment (and probably edit, although I didn't try) more than once that leaves behind undelete votes Screenshot of Unix private beta start mouseover http://mrozekma.com/so-a51-unix-beta-private-hover.png Screenshot of the host list http://so.mrozekma.com/chat-modify-room-host.png Screenshot of Unix public beta start mouseover http://mrozekma.com/so-a51-unix-beta-public-hover.png It's going to take users a minimum of two weeks to hit 2000, and past betas have shown that a massive number of questions get asked when the private beta starts at 0 days and when the public beta starts at 7 days.\n",
      "-------------------\n",
      "Just click the upvote button again to undo: But my flag summary shows that I've managed to flag a question twice (I didn't realise I had): If there is anything you can edit in the post, do so (unless it is too minor); this will lift the restriction (once your suggested edit is approved) I have reviewed 950 suggested edits, but when I expanded the Reviewer Stats on an edit I reviewed, I see that I've approved 524 edits and rejected 326 - a total of 850, not 950. http://api.stackoverflow.com/1.1/users/90691/comments?sort=votes I'm keeping a consistent ~10% rejection rate on my suggested edits (not that I agree with some of these rejections):\n",
      "-------------------\n"
     ]
    }
   ],
   "source": [
    "for text in max_words.text:\n",
    "    print(text)\n",
    "    print('-------------------')"
   ]
  },
  {
   "cell_type": "code",
   "execution_count": null,
   "metadata": {},
   "outputs": [],
   "source": []
  }
 ],
 "metadata": {
  "kernelspec": {
   "display_name": "Python 3",
   "language": "python",
   "name": "python3"
  },
  "language_info": {
   "codemirror_mode": {
    "name": "ipython",
    "version": 3
   },
   "file_extension": ".py",
   "mimetype": "text/x-python",
   "name": "python",
   "nbconvert_exporter": "python",
   "pygments_lexer": "ipython3",
   "version": "3.8.8"
  }
 },
 "nbformat": 4,
 "nbformat_minor": 2
}
