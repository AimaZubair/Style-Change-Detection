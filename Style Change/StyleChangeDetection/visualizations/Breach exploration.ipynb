{
 "cells": [
  {
   "cell_type": "code",
   "execution_count": 20,
   "metadata": {},
   "outputs": [],
   "source": [
    "import os\n",
    "import json\n",
    "\n",
    "def get_data(folder_name):\n",
    "    x = []\n",
    "    y = []\n",
    "    positions = []\n",
    "    file_names = []\n",
    "\n",
    "    for file in os.listdir(folder_name):\n",
    "        if file.endswith(\".txt\"):\n",
    "            file_name = os.path.join(folder_name, file[:-4])\n",
    "\n",
    "            file_text = open(file_name + '.txt', encoding='utf8')\n",
    "            try:\n",
    "                file_truth = open(file_name + '.truth', encoding='utf8')\n",
    "\n",
    "                try:\n",
    "                    text = file_text.read()\n",
    "                    truth = json.load(file_truth)\n",
    "                    truth_changes = len(truth['borders']) > 0\n",
    "                    truth_positions = truth['borders']\n",
    "\n",
    "                    x.append(text)\n",
    "                    y.append(truth_changes)\n",
    "                    positions.append(truth_positions)\n",
    "                    file_names.append(file[:-4])\n",
    "                finally:\n",
    "                    file_truth.close()\n",
    "            finally:\n",
    "                file_text.close()\n",
    "\n",
    "    return x, y, positions, file_names"
   ]
  },
  {
   "cell_type": "code",
   "execution_count": 21,
   "metadata": {},
   "outputs": [],
   "source": [
    "BREACH_DIR = '../data/breach'\n",
    "\n",
    "X, y, positions, file_names = get_data(BREACH_DIR)"
   ]
  },
  {
   "cell_type": "code",
   "execution_count": 22,
   "metadata": {},
   "outputs": [],
   "source": [
    "import pandas as pd\n",
    "df = pd.DataFrame(data={'text': X, 'label': y, 'filename': file_names, 'pos':positions})"
   ]
  },
  {
   "cell_type": "code",
   "execution_count": 23,
   "metadata": {},
   "outputs": [],
   "source": [
    "from nltk.tokenize import sent_tokenize, word_tokenize\n",
    "df['num_words'] = [len(word_tokenize(x)) for x in df.text]"
   ]
  },
  {
   "cell_type": "code",
   "execution_count": 25,
   "metadata": {},
   "outputs": [
    {
     "data": {
      "text/plain": [
       "count     187.000000\n",
       "mean     1823.572193\n",
       "std      1066.682718\n",
       "min       161.000000\n",
       "25%      1071.000000\n",
       "50%      1715.000000\n",
       "75%      2447.000000\n",
       "max      5724.000000\n",
       "Name: num_words, dtype: float64"
      ]
     },
     "execution_count": 25,
     "metadata": {},
     "output_type": "execute_result"
    }
   ],
   "source": [
    "df.num_words.describe()"
   ]
  },
  {
   "cell_type": "code",
   "execution_count": 26,
   "metadata": {},
   "outputs": [
    {
     "data": {
      "text/plain": [
       "4.194444444444445"
      ]
     },
     "execution_count": 26,
     "metadata": {},
     "output_type": "execute_result"
    }
   ],
   "source": [
    "df.label.tolist().count(True)/df.label.tolist().count(False)"
   ]
  },
  {
   "cell_type": "code",
   "execution_count": 27,
   "metadata": {},
   "outputs": [
    {
     "data": {
      "text/plain": [
       "0.1925133689839572"
      ]
     },
     "execution_count": 27,
     "metadata": {},
     "output_type": "execute_result"
    }
   ],
   "source": [
    "df.label.tolist().count(False)/len(df.label.tolist())"
   ]
  },
  {
   "cell_type": "code",
   "execution_count": 28,
   "metadata": {},
   "outputs": [
    {
     "ename": "TypeError",
     "evalue": "numpy boolean subtract, the `-` operator, is not supported, use the bitwise_xor, the `^` operator, or the logical_xor function instead.",
     "output_type": "error",
     "traceback": [
      "\u001b[1;31m---------------------------------------------------------------------------\u001b[0m",
      "\u001b[1;31mKeyError\u001b[0m                                  Traceback (most recent call last)",
      "\u001b[1;32m~\\anaconda3\\envs\\env\\lib\\site-packages\\numpy\\lib\\histograms.py\u001b[0m in \u001b[0;36m_unsigned_subtract\u001b[1;34m(a, b)\u001b[0m\n\u001b[0;32m    350\u001b[0m     \u001b[1;32mtry\u001b[0m\u001b[1;33m:\u001b[0m\u001b[1;33m\u001b[0m\u001b[1;33m\u001b[0m\u001b[0m\n\u001b[1;32m--> 351\u001b[1;33m         \u001b[0mdt\u001b[0m \u001b[1;33m=\u001b[0m \u001b[0msigned_to_unsigned\u001b[0m\u001b[1;33m[\u001b[0m\u001b[0mdt\u001b[0m\u001b[1;33m.\u001b[0m\u001b[0mtype\u001b[0m\u001b[1;33m]\u001b[0m\u001b[1;33m\u001b[0m\u001b[1;33m\u001b[0m\u001b[0m\n\u001b[0m\u001b[0;32m    352\u001b[0m     \u001b[1;32mexcept\u001b[0m \u001b[0mKeyError\u001b[0m\u001b[1;33m:\u001b[0m\u001b[1;33m\u001b[0m\u001b[1;33m\u001b[0m\u001b[0m\n",
      "\u001b[1;31mKeyError\u001b[0m: <class 'numpy.bool_'>",
      "\nDuring handling of the above exception, another exception occurred:\n",
      "\u001b[1;31mTypeError\u001b[0m                                 Traceback (most recent call last)",
      "\u001b[1;32m<ipython-input-28-3c4d9839aecc>\u001b[0m in \u001b[0;36m<module>\u001b[1;34m\u001b[0m\n\u001b[0;32m      1\u001b[0m \u001b[0mget_ipython\u001b[0m\u001b[1;33m(\u001b[0m\u001b[1;33m)\u001b[0m\u001b[1;33m.\u001b[0m\u001b[0mrun_line_magic\u001b[0m\u001b[1;33m(\u001b[0m\u001b[1;34m'matplotlib'\u001b[0m\u001b[1;33m,\u001b[0m \u001b[1;34m'inline'\u001b[0m\u001b[1;33m)\u001b[0m\u001b[1;33m\u001b[0m\u001b[1;33m\u001b[0m\u001b[0m\n\u001b[0;32m      2\u001b[0m \u001b[1;32mimport\u001b[0m \u001b[0mmatplotlib\u001b[0m\u001b[1;33m.\u001b[0m\u001b[0mpyplot\u001b[0m \u001b[1;32mas\u001b[0m \u001b[0mplt\u001b[0m\u001b[1;33m\u001b[0m\u001b[1;33m\u001b[0m\u001b[0m\n\u001b[1;32m----> 3\u001b[1;33m \u001b[0mdf\u001b[0m\u001b[1;33m.\u001b[0m\u001b[0mlabel\u001b[0m\u001b[1;33m.\u001b[0m\u001b[0mhist\u001b[0m\u001b[1;33m(\u001b[0m\u001b[1;33m)\u001b[0m\u001b[1;33m\u001b[0m\u001b[1;33m\u001b[0m\u001b[0m\n\u001b[0m",
      "\u001b[1;32m~\\anaconda3\\envs\\env\\lib\\site-packages\\pandas\\plotting\\_core.py\u001b[0m in \u001b[0;36mhist_series\u001b[1;34m(self, by, ax, grid, xlabelsize, xrot, ylabelsize, yrot, figsize, bins, backend, legend, **kwargs)\u001b[0m\n\u001b[0;32m     83\u001b[0m     \"\"\"\n\u001b[0;32m     84\u001b[0m     \u001b[0mplot_backend\u001b[0m \u001b[1;33m=\u001b[0m \u001b[0m_get_plot_backend\u001b[0m\u001b[1;33m(\u001b[0m\u001b[0mbackend\u001b[0m\u001b[1;33m)\u001b[0m\u001b[1;33m\u001b[0m\u001b[1;33m\u001b[0m\u001b[0m\n\u001b[1;32m---> 85\u001b[1;33m     return plot_backend.hist_series(\n\u001b[0m\u001b[0;32m     86\u001b[0m         \u001b[0mself\u001b[0m\u001b[1;33m,\u001b[0m\u001b[1;33m\u001b[0m\u001b[1;33m\u001b[0m\u001b[0m\n\u001b[0;32m     87\u001b[0m         \u001b[0mby\u001b[0m\u001b[1;33m=\u001b[0m\u001b[0mby\u001b[0m\u001b[1;33m,\u001b[0m\u001b[1;33m\u001b[0m\u001b[1;33m\u001b[0m\u001b[0m\n",
      "\u001b[1;32m~\\anaconda3\\envs\\env\\lib\\site-packages\\pandas\\plotting\\_matplotlib\\hist.py\u001b[0m in \u001b[0;36mhist_series\u001b[1;34m(self, by, ax, grid, xlabelsize, xrot, ylabelsize, yrot, figsize, bins, legend, **kwds)\u001b[0m\n\u001b[0;32m    336\u001b[0m         \u001b[1;32mif\u001b[0m \u001b[0mlegend\u001b[0m\u001b[1;33m:\u001b[0m\u001b[1;33m\u001b[0m\u001b[1;33m\u001b[0m\u001b[0m\n\u001b[0;32m    337\u001b[0m             \u001b[0mkwds\u001b[0m\u001b[1;33m[\u001b[0m\u001b[1;34m\"label\"\u001b[0m\u001b[1;33m]\u001b[0m \u001b[1;33m=\u001b[0m \u001b[0mself\u001b[0m\u001b[1;33m.\u001b[0m\u001b[0mname\u001b[0m\u001b[1;33m\u001b[0m\u001b[1;33m\u001b[0m\u001b[0m\n\u001b[1;32m--> 338\u001b[1;33m         \u001b[0max\u001b[0m\u001b[1;33m.\u001b[0m\u001b[0mhist\u001b[0m\u001b[1;33m(\u001b[0m\u001b[0mvalues\u001b[0m\u001b[1;33m,\u001b[0m \u001b[0mbins\u001b[0m\u001b[1;33m=\u001b[0m\u001b[0mbins\u001b[0m\u001b[1;33m,\u001b[0m \u001b[1;33m**\u001b[0m\u001b[0mkwds\u001b[0m\u001b[1;33m)\u001b[0m\u001b[1;33m\u001b[0m\u001b[1;33m\u001b[0m\u001b[0m\n\u001b[0m\u001b[0;32m    339\u001b[0m         \u001b[1;32mif\u001b[0m \u001b[0mlegend\u001b[0m\u001b[1;33m:\u001b[0m\u001b[1;33m\u001b[0m\u001b[1;33m\u001b[0m\u001b[0m\n\u001b[0;32m    340\u001b[0m             \u001b[0max\u001b[0m\u001b[1;33m.\u001b[0m\u001b[0mlegend\u001b[0m\u001b[1;33m(\u001b[0m\u001b[1;33m)\u001b[0m\u001b[1;33m\u001b[0m\u001b[1;33m\u001b[0m\u001b[0m\n",
      "\u001b[1;32m~\\anaconda3\\envs\\env\\lib\\site-packages\\matplotlib\\__init__.py\u001b[0m in \u001b[0;36minner\u001b[1;34m(ax, data, *args, **kwargs)\u001b[0m\n\u001b[0;32m   1445\u001b[0m     \u001b[1;32mdef\u001b[0m \u001b[0minner\u001b[0m\u001b[1;33m(\u001b[0m\u001b[0max\u001b[0m\u001b[1;33m,\u001b[0m \u001b[1;33m*\u001b[0m\u001b[0margs\u001b[0m\u001b[1;33m,\u001b[0m \u001b[0mdata\u001b[0m\u001b[1;33m=\u001b[0m\u001b[1;32mNone\u001b[0m\u001b[1;33m,\u001b[0m \u001b[1;33m**\u001b[0m\u001b[0mkwargs\u001b[0m\u001b[1;33m)\u001b[0m\u001b[1;33m:\u001b[0m\u001b[1;33m\u001b[0m\u001b[1;33m\u001b[0m\u001b[0m\n\u001b[0;32m   1446\u001b[0m         \u001b[1;32mif\u001b[0m \u001b[0mdata\u001b[0m \u001b[1;32mis\u001b[0m \u001b[1;32mNone\u001b[0m\u001b[1;33m:\u001b[0m\u001b[1;33m\u001b[0m\u001b[1;33m\u001b[0m\u001b[0m\n\u001b[1;32m-> 1447\u001b[1;33m             \u001b[1;32mreturn\u001b[0m \u001b[0mfunc\u001b[0m\u001b[1;33m(\u001b[0m\u001b[0max\u001b[0m\u001b[1;33m,\u001b[0m \u001b[1;33m*\u001b[0m\u001b[0mmap\u001b[0m\u001b[1;33m(\u001b[0m\u001b[0msanitize_sequence\u001b[0m\u001b[1;33m,\u001b[0m \u001b[0margs\u001b[0m\u001b[1;33m)\u001b[0m\u001b[1;33m,\u001b[0m \u001b[1;33m**\u001b[0m\u001b[0mkwargs\u001b[0m\u001b[1;33m)\u001b[0m\u001b[1;33m\u001b[0m\u001b[1;33m\u001b[0m\u001b[0m\n\u001b[0m\u001b[0;32m   1448\u001b[0m \u001b[1;33m\u001b[0m\u001b[0m\n\u001b[0;32m   1449\u001b[0m         \u001b[0mbound\u001b[0m \u001b[1;33m=\u001b[0m \u001b[0mnew_sig\u001b[0m\u001b[1;33m.\u001b[0m\u001b[0mbind\u001b[0m\u001b[1;33m(\u001b[0m\u001b[0max\u001b[0m\u001b[1;33m,\u001b[0m \u001b[1;33m*\u001b[0m\u001b[0margs\u001b[0m\u001b[1;33m,\u001b[0m \u001b[1;33m**\u001b[0m\u001b[0mkwargs\u001b[0m\u001b[1;33m)\u001b[0m\u001b[1;33m\u001b[0m\u001b[1;33m\u001b[0m\u001b[0m\n",
      "\u001b[1;32m~\\anaconda3\\envs\\env\\lib\\site-packages\\matplotlib\\axes\\_axes.py\u001b[0m in \u001b[0;36mhist\u001b[1;34m(self, x, bins, range, density, weights, cumulative, bottom, histtype, align, orientation, rwidth, log, color, label, stacked, **kwargs)\u001b[0m\n\u001b[0;32m   6649\u001b[0m             \u001b[1;31m# this will automatically overwrite bins,\u001b[0m\u001b[1;33m\u001b[0m\u001b[1;33m\u001b[0m\u001b[1;33m\u001b[0m\u001b[0m\n\u001b[0;32m   6650\u001b[0m             \u001b[1;31m# so that each histogram uses the same bins\u001b[0m\u001b[1;33m\u001b[0m\u001b[1;33m\u001b[0m\u001b[1;33m\u001b[0m\u001b[0m\n\u001b[1;32m-> 6651\u001b[1;33m             \u001b[0mm\u001b[0m\u001b[1;33m,\u001b[0m \u001b[0mbins\u001b[0m \u001b[1;33m=\u001b[0m \u001b[0mnp\u001b[0m\u001b[1;33m.\u001b[0m\u001b[0mhistogram\u001b[0m\u001b[1;33m(\u001b[0m\u001b[0mx\u001b[0m\u001b[1;33m[\u001b[0m\u001b[0mi\u001b[0m\u001b[1;33m]\u001b[0m\u001b[1;33m,\u001b[0m \u001b[0mbins\u001b[0m\u001b[1;33m,\u001b[0m \u001b[0mweights\u001b[0m\u001b[1;33m=\u001b[0m\u001b[0mw\u001b[0m\u001b[1;33m[\u001b[0m\u001b[0mi\u001b[0m\u001b[1;33m]\u001b[0m\u001b[1;33m,\u001b[0m \u001b[1;33m**\u001b[0m\u001b[0mhist_kwargs\u001b[0m\u001b[1;33m)\u001b[0m\u001b[1;33m\u001b[0m\u001b[1;33m\u001b[0m\u001b[0m\n\u001b[0m\u001b[0;32m   6652\u001b[0m             \u001b[0mtops\u001b[0m\u001b[1;33m.\u001b[0m\u001b[0mappend\u001b[0m\u001b[1;33m(\u001b[0m\u001b[0mm\u001b[0m\u001b[1;33m)\u001b[0m\u001b[1;33m\u001b[0m\u001b[1;33m\u001b[0m\u001b[0m\n\u001b[0;32m   6653\u001b[0m         \u001b[0mtops\u001b[0m \u001b[1;33m=\u001b[0m \u001b[0mnp\u001b[0m\u001b[1;33m.\u001b[0m\u001b[0marray\u001b[0m\u001b[1;33m(\u001b[0m\u001b[0mtops\u001b[0m\u001b[1;33m,\u001b[0m \u001b[0mfloat\u001b[0m\u001b[1;33m)\u001b[0m  \u001b[1;31m# causes problems later if it's an int\u001b[0m\u001b[1;33m\u001b[0m\u001b[1;33m\u001b[0m\u001b[0m\n",
      "\u001b[1;32m<__array_function__ internals>\u001b[0m in \u001b[0;36mhistogram\u001b[1;34m(*args, **kwargs)\u001b[0m\n",
      "\u001b[1;32m~\\anaconda3\\envs\\env\\lib\\site-packages\\numpy\\lib\\histograms.py\u001b[0m in \u001b[0;36mhistogram\u001b[1;34m(a, bins, range, normed, weights, density)\u001b[0m\n\u001b[0;32m    820\u001b[0m \u001b[1;33m\u001b[0m\u001b[0m\n\u001b[0;32m    821\u001b[0m         \u001b[1;31m# Pre-compute histogram scaling factor\u001b[0m\u001b[1;33m\u001b[0m\u001b[1;33m\u001b[0m\u001b[1;33m\u001b[0m\u001b[0m\n\u001b[1;32m--> 822\u001b[1;33m         \u001b[0mnorm\u001b[0m \u001b[1;33m=\u001b[0m \u001b[0mn_equal_bins\u001b[0m \u001b[1;33m/\u001b[0m \u001b[0m_unsigned_subtract\u001b[0m\u001b[1;33m(\u001b[0m\u001b[0mlast_edge\u001b[0m\u001b[1;33m,\u001b[0m \u001b[0mfirst_edge\u001b[0m\u001b[1;33m)\u001b[0m\u001b[1;33m\u001b[0m\u001b[1;33m\u001b[0m\u001b[0m\n\u001b[0m\u001b[0;32m    823\u001b[0m \u001b[1;33m\u001b[0m\u001b[0m\n\u001b[0;32m    824\u001b[0m         \u001b[1;31m# We iterate over blocks here for two reasons: the first is that for\u001b[0m\u001b[1;33m\u001b[0m\u001b[1;33m\u001b[0m\u001b[1;33m\u001b[0m\u001b[0m\n",
      "\u001b[1;32m~\\anaconda3\\envs\\env\\lib\\site-packages\\numpy\\lib\\histograms.py\u001b[0m in \u001b[0;36m_unsigned_subtract\u001b[1;34m(a, b)\u001b[0m\n\u001b[0;32m    351\u001b[0m         \u001b[0mdt\u001b[0m \u001b[1;33m=\u001b[0m \u001b[0msigned_to_unsigned\u001b[0m\u001b[1;33m[\u001b[0m\u001b[0mdt\u001b[0m\u001b[1;33m.\u001b[0m\u001b[0mtype\u001b[0m\u001b[1;33m]\u001b[0m\u001b[1;33m\u001b[0m\u001b[1;33m\u001b[0m\u001b[0m\n\u001b[0;32m    352\u001b[0m     \u001b[1;32mexcept\u001b[0m \u001b[0mKeyError\u001b[0m\u001b[1;33m:\u001b[0m\u001b[1;33m\u001b[0m\u001b[1;33m\u001b[0m\u001b[0m\n\u001b[1;32m--> 353\u001b[1;33m         \u001b[1;32mreturn\u001b[0m \u001b[0mnp\u001b[0m\u001b[1;33m.\u001b[0m\u001b[0msubtract\u001b[0m\u001b[1;33m(\u001b[0m\u001b[0ma\u001b[0m\u001b[1;33m,\u001b[0m \u001b[0mb\u001b[0m\u001b[1;33m,\u001b[0m \u001b[0mdtype\u001b[0m\u001b[1;33m=\u001b[0m\u001b[0mdt\u001b[0m\u001b[1;33m)\u001b[0m\u001b[1;33m\u001b[0m\u001b[1;33m\u001b[0m\u001b[0m\n\u001b[0m\u001b[0;32m    354\u001b[0m     \u001b[1;32melse\u001b[0m\u001b[1;33m:\u001b[0m\u001b[1;33m\u001b[0m\u001b[1;33m\u001b[0m\u001b[0m\n\u001b[0;32m    355\u001b[0m         \u001b[1;31m# we know the inputs are integers, and we are deliberately casting\u001b[0m\u001b[1;33m\u001b[0m\u001b[1;33m\u001b[0m\u001b[1;33m\u001b[0m\u001b[0m\n",
      "\u001b[1;31mTypeError\u001b[0m: numpy boolean subtract, the `-` operator, is not supported, use the bitwise_xor, the `^` operator, or the logical_xor function instead."
     ]
    },
    {
     "data": {
      "image/png": "[encoded data removed]",
      "text/plain": [
       "<Figure size 432x288 with 1 Axes>"
      ]
     },
     "metadata": {
      "needs_background": "light"
     },
     "output_type": "display_data"
    }
   ],
   "source": [
    "%matplotlib inline\n",
    "import matplotlib.pyplot as plt\n",
    "df.label.hist()"
   ]
  },
  {
   "cell_type": "code",
   "execution_count": 29,
   "metadata": {},
   "outputs": [
    {
     "data": {
      "text/plain": [
       "<AxesSubplot:>"
      ]
     },
     "execution_count": 29,
     "metadata": {},
     "output_type": "execute_result"
    },
    {
     "data": {
      "image/png": "[encoded data removed]",
      "text/plain": [
       "<Figure size 432x288 with 1 Axes>"
      ]
     },
     "metadata": {
      "needs_background": "light"
     },
     "output_type": "display_data"
    }
   ],
   "source": [
    "df['num_splits'] = [len(x) for x in df.pos]\n",
    "df.num_splits.hist()"
   ]
  },
  {
   "cell_type": "code",
   "execution_count": 30,
   "metadata": {},
   "outputs": [
    {
     "data": {
      "text/plain": [
       "count    187.000000\n",
       "mean       2.951872\n",
       "std        2.323983\n",
       "min        0.000000\n",
       "25%        1.000000\n",
       "50%        3.000000\n",
       "75%        4.000000\n",
       "max        7.000000\n",
       "Name: num_splits, dtype: float64"
      ]
     },
     "execution_count": 30,
     "metadata": {},
     "output_type": "execute_result"
    }
   ],
   "source": [
    "df.num_splits.describe()"
   ]
  },
  {
   "cell_type": "code",
   "execution_count": 31,
   "metadata": {},
   "outputs": [
    {
     "data": {
      "text/plain": [
       "count      187.000000\n",
       "mean      9902.614973\n",
       "std       5961.197490\n",
       "min        832.000000\n",
       "25%       5533.000000\n",
       "50%       8880.000000\n",
       "75%      13319.500000\n",
       "max      31848.000000\n",
       "Name: num_char, dtype: float64"
      ]
     },
     "execution_count": 31,
     "metadata": {},
     "output_type": "execute_result"
    }
   ],
   "source": [
    "df['num_char'] = [len(x) for x in df.text]\n",
    "df.num_char.describe()"
   ]
  },
  {
   "cell_type": "code",
   "execution_count": 32,
   "metadata": {},
   "outputs": [],
   "source": [
    "from nltk.tokenize import sent_tokenize\n",
    "def get_sentences(text, wordFilter=None):\n",
    "    sentences = []\n",
    "    paragraphs = [p for p in text.split('\\n') if p]\n",
    "    for paragraph in paragraphs:\n",
    "        if wordFilter:\n",
    "            sentences.extend([wordFilter(s) for s in sent_tokenize(paragraph)])\n",
    "        else:\n",
    "            sentences.extend(sent_tokenize(paragraph))\n",
    "\n",
    "    return sentences"
   ]
  },
  {
   "cell_type": "code",
   "execution_count": 33,
   "metadata": {},
   "outputs": [],
   "source": [
    "s = get_sentences(df.text[0])"
   ]
  },
  {
   "cell_type": "code",
   "execution_count": 34,
   "metadata": {},
   "outputs": [
    {
     "name": "stdout",
     "output_type": "stream",
     "text": [
      "Obama's motherreturned to Hawaii in 1972 for five years, and then in 1977 wentback to Indonesia, where she worked as an anthropological fieldworker.\n",
      "---------------\n",
      "She stayed there most of the rest of her life, returning toHawaii in 1994.\n",
      "---------------\n",
      "She died of ovarian cancer in 1995.\n",
      "---------------\n",
      "Of his early childhood, Obamahas recalled, \"That my father looked nothing like the people aroundme that he was black as pitch, my mother white as milk barelyregistered in my mind.\"\n",
      "---------------\n",
      "In his 1995 memoir, he described hisstruggles as a young adult to reconcile social perceptions of hismultiracial heritage.\n",
      "---------------\n",
      "He wrote that he used alcohol, marijuana, andcocaine during his teenage years to \"push questions of who I wasout of my mind.\"\n",
      "---------------\n",
      "During the elections for the Presidency, Obamaidentified his high-school drug use as his greatest moralfailure.\n",
      "---------------\n",
      "After returning to the UnitedStates, he attended Punahou School from the fifth grade until hisgraduation from high school in 1979.\n",
      "---------------\n",
      "Someof his fellow students at Punahou School later told the Honolulu Star-Bulletin that Obama was mature for his age, and that he sometimesattended college parties and other events in order to associatewith African American students and military service people.\n",
      "---------------\n",
      "Following high school, Obama moved to Los Angelesin 1979 to attend Occidental College.\n",
      "---------------\n",
      "After two years hetransferred in 1981 to Columbia University in New York City, wherehe majored in political science with a specialization in international relations .\n",
      "---------------\n",
      "Obama graduated with a B.A.\n",
      "---------------\n",
      "from Columbia in1983.\n",
      "---------------\n",
      "After that Obama worked atBusiness International Corporation and New York Public InterestResearch Group.\n",
      "---------------\n",
      "After four years in New York City, Obama moved toChicago to work as a community organizer.\n",
      "---------------\n",
      "He worked for three yearsfrom June 1985 to May 1988 as director of the DevelopingCommunities Project (DCP), a church-based community organizationoriginally comprising eight Catholic parishes in Greater Roseland(Roseland, West Pullman, and Riverdale) on Chicago's far SouthSide.\n",
      "---------------\n",
      "During his three years as the DCP's director, its staff grewfrom 1 to 13 and its annual budget grew from $70,000 to $400,000,with accomplishments including helping set up a job trainingprogram, a college preparatory tutoring program, and a tenants'rights organization in Altgeld Gardens.\n",
      "---------------\n",
      "Obama also worked as aconsultant and instructor for the Gamaliel Foundation, a communityorganizing institute.\n",
      "---------------\n",
      "Obama's election as the firstblack president of the Harvard Law Review gained national mediaattention and led to a publishing contract and advance for a bookabout race relations.\n",
      "---------------\n",
      "In an effort to recruit him to their faculty,the University of Chicago Law School provided Obama with afellowship and an office to work on his book.\n",
      "---------------\n",
      "He originally plannedto finish the book in one year, but it took much longer as the bookevolved into a personal memoir.\n",
      "---------------\n",
      "In order to work withoutinterruptions, Obama and his wife, Michelle, traveled to Bali wherehe wrote for several months.\n",
      "---------------\n",
      "The manuscript was finally publishedin mid-1995 as Dreams from My Father.\n",
      "---------------\n",
      "Obama directed IllinoisProject Vote from April to October 1992, a voter registrationdrive, officially nonpartisan, that helped Carol Moseley Braunbecome the first black woman ever elected to the Senate.\n",
      "---------------\n",
      "He headedup a staff of 10 and 700 volunteers that achieved its goal of400,000 registered African Americans in the state, leading Crain'sChicago Business to name Obama to its 1993 list of \"40 under Forty\"powers to be.\n",
      "---------------\n",
      "Although fundraising was not required for theposition when Obama was recruited for the job, he started an activecampaign to raise money for the project.\n",
      "---------------\n",
      "According to Sandy Newman,who founded Project Vote, Obama \"raised more money than any of ourstate directors had ever done.\n",
      "---------------\n",
      "He did a great job of enlisting abroad spectrum of organizations and people, including many who didnot get along well with one another.\"\n",
      "---------------\n",
      "Obama was elected to the IllinoisSenate in 1996, succeeding State Senator Alice Palmer as Senatorfrom Illinois's 13th District, which then spanned Chicago SouthSide neighborhoods from Hyde Park-Kenwood south to South Shore andwest to Chicago Lawn.\n",
      "---------------\n",
      "Once elected, Obama gained bipartisan supportfor legislation reforming ethics and health care laws.\n",
      "---------------\n",
      "He sponsoreda law increasing tax credits for low-income workers, negotiatedwelfare reform, and promoted increased subsidies for childcare.\n",
      "---------------\n",
      "In2001, as co-chairman of the bipartisan Joint Committee onAdministrative Rules, Obama supported Republican Governor Ryan'spayday loan regulations and predatory mortgage lending regulationsaimed at averting home foreclosures.\n",
      "---------------\n",
      "Obama was reelected to the Illinois Senate in1998, defeating Republican Yesse Yehudah in the general election,and was reelected again in 2002.\n",
      "---------------\n",
      "In 2000, he lost a Democraticprimary run for the U.S. House of Representatives to four-termincumbent Bobby Rush by a margin of two to one.\n",
      "---------------\n",
      "In January 2003, Obama became chairman of theIllinois Senate's Health and Human Services Committee whenDemocrats, after a decade in the minority, regained a majority.\n",
      "---------------\n",
      "Hesponsored and led unanimous, bipartisan passage of legislation tomonitor racial profiling by requiring police to record the race ofdrivers they detained and legislation making Illinois the firststate to mandate videotaping of homicide interrogations.\n",
      "---------------\n",
      "During his2004 general election campaign for U.S. Senate, policerepresentatives credited Obama for his active engagement withpolice organizations in enacting death penalty reforms.\n",
      "---------------\n",
      "Obamaresigned from the Illinois Senate in November 2004 following hiselection to the U.S. Senate.\n",
      "---------------\n",
      "In mid-2002, Obama began considering a run for theU.S.\n",
      "---------------\n",
      "Senate; he enlisted political strategist David Axelrod thatfall and formally announced his candidacy in January 2003.Decisions by Republican incumbent Peter Fitzgerald and hisDemocratic predecessor Carol Moseley Braun not to contest the racelaunched wide-open Democratic and Republican primary contestsinvolving fifteen candidates.\n",
      "---------------\n",
      "Obama's candidacy was boosted byAxelrod's advertising campaign featuring images of the late ChicagoMayor Harold Washingtonand an endorsement by the daughter of thelate Paul Simon, former U.S.\n",
      "---------------\n",
      "Senator for Illinois.\n",
      "---------------\n",
      "He received over52% of the vote in the March 2004 primary, emerging 29% ahead ofhis nearest Democratic rival.\n",
      "---------------\n",
      "In July 2004, Obama wrote and delivered thekeynote address at the 2004 Democratic National Convention inBoston, Massachusetts.\n",
      "---------------\n",
      "After describing his maternal grandfather'sexperiences as a World War II veteran and a beneficiary of the NewDeal's FHA and G.I.\n",
      "---------------\n",
      "Bill programs, Obama spoke about changing theU.S.\n",
      "---------------\n",
      "government's economic and social priorities.\n",
      "---------------\n",
      "He questioned theBush administration's management of the Iraq War and highlightedAmerica's obligations to its soldiers.\n",
      "---------------\n",
      "Drawing examples from U.S.history, he criticized heavily partisan views of the electorate andasked Americans to find unity in diversity, saying, \"There is not aliberal America and a conservative America; there's the UnitedStates of America.\"\n",
      "---------------\n",
      "Though it was not televised by the three majorbroadcast news networks, a combined 9.1 million viewers watching onPBS, CNN, MSNBC, Fox News and C-SPANsaw Obama's speech, which was ahighlight of the convention and confirmed his status as theDemocratic Party's brightest new star.\n",
      "---------------\n",
      "Obama's expected opponent in the general election,Republican primary winner Jack Ryan, withdrew from the race in June2004.\n",
      "---------------\n",
      "Two months later and less than three months before ElectionDay, Alan Keyes accepted the Illinois Republican Party's nominationto replace Ryan.\n",
      "---------------\n",
      "A long-time resident of Maryland, Keyesestablished legal residency in Illinois with the nomination.\n",
      "---------------\n",
      "In theNovember 2004 general election, Obama received 70% of the vote toKeyes' 27%, the largest victory margin for a statewide race inIllinois history.\n",
      "---------------\n",
      "Obama was sworn in as a senator on January 4,2005.\n",
      "---------------\n",
      "Obama was the fifth African-American Senator in U.S. history,and the third to have been popularly elected.\n",
      "---------------\n",
      "He was the onlySenate member of the Congressional Black Caucus.\n",
      "---------------\n",
      "CQ Weekly, anonpartisan publication, characterized him as a \"loyal Democrat\"based on analysis of all Senate votes in 2005-2007.\n",
      "---------------\n",
      "The NationalJournal ranked him as the \"most liberal\" senator based on anassessment of selected votes during 2007; in 2005 he was rankedsixteenth most liberal, and in 2006 he was ranked tenth.\n",
      "---------------\n",
      "In 2008,Congress.org ranked him as the eleventh most powerful Senator.Obama announced on November 13, 2008 that he would resign hissenate seat on November 16, 2008, before the start of the lame-ducksession, to focus on his transition period for the presidency.\n",
      "---------------\n",
      "Thisenabled him to avoid the conflict of dual roles as President-electand Senator in the lame duck session of Congress, which no sittingmember of Congress had faced since Warren Harding.\n",
      "---------------\n",
      "Obama voted in favor of the Energy Policy Act of2005 and cosponsored the Secure America and Orderly ImmigrationAct.\n",
      "---------------\n",
      "In September 2006, Obama supported a related bill, theSecureFence Act.\n",
      "---------------\n",
      "Obama introduced two initiatives bearing his name:Lugar-Obama, which expanded the Nunn-Lugar cooperative threatreduction concept to conventional weapons, and the Coburn-ObamaTransparency Act, which authorized the establishment ofUSAspending.gov, a web search engine on federal spending.\n",
      "---------------\n",
      "On June3, 2008, Senator Obama, along with Senators Thomas R. Carper, TomCoburn, and John McCain, introduced follow-up legislation:Strengthening Transparency and Accountability in Federal SpendingAct of 2008.\n",
      "---------------\n",
      "Obama sponsored legislation that would haverequired nuclear plant owners to notify state and local authoritiesof radioactive leaks, but the bill failed to pass in the fullSenate after being heavily modified in committee.\n",
      "---------------\n",
      "Obama is nothostile to tort reform and voted for the Class Action Fairness Actof 2005 and the FISA Amendments Act of 2008 which grants immunityfrom civil liability to telecommunications companies complicit withNSA warrantless wiretapping operations.\n",
      "---------------\n",
      "In December 2006, President Bush signed into lawthe Democratic Republic of the Congo Relief, Security, andDemocracy Promotion Act, marking the first federal legislation tobe enacted with Obama as its primary sponsor.\n",
      "---------------\n",
      "In January 2007,Obama and Senator Feingold introduced a corporate jet provision tothe Honest Leadership and Open Government Act, which was signedinto law in September 2007.\n",
      "---------------\n",
      "Obama also introduced DeceptivePractices and Voter Intimidation Prevention Act, a bill tocriminalize deceptive practices in federal elections and the IraqWar De-Escalation Act of 2007, neither of which have been signedinto law.\n",
      "---------------\n",
      "Later in 2007, Obama sponsored an amendment to theDefense Authorization Act adding safeguards for personalitydisorder military discharges.\n",
      "---------------\n",
      "This amendment passed the full Senatein the spring of 2008.\n",
      "---------------\n",
      "He sponsored the Iran Sanctions Enabling Actsupporting divestment of state pension funds from Iran's oil andgas industry, which has not passed committee, and co-sponsoredlegislation to reduce risks of nuclear terrorism.\n",
      "---------------\n",
      "Obama alsosponsored a Senate amendment to the State Children's HealthInsurance Programproviding one year of job protection for familymembers caring for soldiers with combat-relatedinjuries.\n",
      "---------------\n",
      "On February 10, 2007, Obama announced hiscandidacy for President of the United States in front of the OldState Capitol building in Springfield, Illinois.\n",
      "---------------\n",
      "The choice of theannouncement site was symbolic because it was also where AbrahamLincoln delivered his historic \"House Divided\" speech in 1858.Throughout the campaign, Obama emphasized the issues of rapidlyending the Iraq War, increasing energy independence and providinguniversal health care.\n",
      "---------------\n",
      "During both the primary process and the generalelection, Obama's campaign set numerous fundraising records,particularly in the quantity of small donations.\n",
      "---------------\n",
      "On June 19, Obamabecame the first major-party presidential candidate to turn downpublic financing in the general election since the system wascreated in 1976.\n",
      "---------------\n",
      "A large number of candidates initially entered theDemocratic Party presidential primaries.\n",
      "---------------\n",
      "After a few initialcontests, the field narrowed to a contest between Obama andSenatorHillary Clinton, with each winning some states and the raceremaining close throughout the primary process.\n",
      "---------------\n",
      "On May 31, theDemocratic National Committee agreed to seat all of the disputedMichigan and Florida delegates at the national convention, eachwith a half-vote, narrowing Obama's delegate lead.\n",
      "---------------\n",
      "On June 3, withall states counted, Obama passed the threshold to become thepresumptive nominee.\n",
      "---------------\n",
      "On that day, he gave a victory speech in St.Paul, Minnesota.\n",
      "---------------\n",
      "Clinton suspended her campaign and endorsed him onJune 7.\n",
      "---------------\n",
      "From that point on, he campaigned for the general electionrace against Senator John McCain, the Republicannominee.\n",
      "---------------\n",
      "On August 23, 2008, Obama announced that he hadselected Delaware Senator Joe Biden as his vice presidentialrunning mate.\n",
      "---------------\n",
      "At the Democratic National Convention in Denver,Colorado, Obama's former rival Hillary Clinton gave a speech insupport of Obama's candidacy and later called for Obama to benominated by acclamation as the Democratic presidential candidate.On August 28, Obama delivered a speech to 84,000 supporters inDenver.\n",
      "---------------\n",
      "During the speech, which was viewed by over 38 millionpeople worldwide, he accepted his party's nomination and presentedhis policy goals.\n",
      "---------------\n",
      "After McCain was nominated as the Republicanpresidential candidate, there were three presidential debatesbetween Obama and McCain in September and October 2008.\n",
      "---------------\n",
      "InNovember, Obama won the presidency with 53% of the popular vote anda wide electoral vote margin.\n",
      "---------------\n",
      "His election sparked streetcelebrations in numerous cities in the United States andabroad.\n",
      "---------------\n",
      "On November 4, 2008, Barack Obama defeated JohnMcCain in the general election with 365 electoral votes to McCain's173 and became the first African American to be elected Presidentof the United States.\n",
      "---------------\n",
      "In his victory speech, delivered before acrowd of hundreds of thousands of his supporters in Chicago's GrantPark, Obama proclaimed that \"change has come to America\".\n",
      "---------------\n",
      "OnJanuary 8, 2009, a joint session of the U.S. Congress certified theElectoral College votes, officially declaring that Obama waselected President.\n",
      "---------------\n",
      "At Princeton, she challenged the teachingmethodology for French because she felt that it should be moreconversational.\n",
      "---------------\n",
      "As part of her requirements for graduation, shewrote a thesis entitled, \"Princeton-Educated Blacks and the BlackCommunity.\"\n",
      "---------------\n",
      "She obtained her Juris Doctor (J.D.)\n",
      "---------------\n",
      "degree fromHarvard Law School in 1988.\n",
      "---------------\n",
      "While at Harvard, she participated inpolitical demonstrations advocating the hiring of professors whoare members of minorities.\n",
      "---------------\n",
      "She is the third First Lady with apostgraduate degree, following Hillary Rodham Clinton and LauraBush.\n",
      "---------------\n",
      "In July 2008, Obama accepted the invitation to become anhonorary member of the 100-year-old black sorority Alpha KappaAlpha, which had no active undergraduate chapter at Princeton whenshe attended.\n",
      "---------------\n",
      "She met Barack Obama when they were among veryfew African Americans at their law firm, Sidley Austin, and she wasassigned to mentor him while he was a summer associate.\n",
      "---------------\n",
      "Theirrelationship started with a business lunch and then acommunityorganization meeting where he first impressed her.\n",
      "---------------\n",
      "The couple'sfirst date was to the Spike Lee movie Do the Right Thing.\n",
      "---------------\n",
      "Thecouple married in October 1992.\n",
      "---------------\n",
      "He was kicked out of high school forpunching the principal.\n",
      "---------------\n",
      "With his marriage to Obama's grandmother,Dunham settled into a respectable life as a furniture salesman.\n",
      "---------------\n",
      "Buthe never lost his itch for adventure, moving his family from Kansasto Texas to Washington state and finally to Hawaii.\n",
      "---------------\n",
      "Barack Obama's Irish links tothe Kearney family from Moneygall Co. Offaly came to light lastyear, apart from the obvious interest of a link to a USpresidential candidate, the story of the Kearney family ofMoneygall is a fascinating story in itself.\n",
      "---------------\n",
      "The Kearney family history, as researched by Eneclann, isinteresting, because it illustrates over five generations, a familyhistory that was not untypical in Ireland, but which we don't oftenconsider as a typical emigrant story.\n",
      "---------------\n",
      "TheKearney family, were probably Gaelic Irish in origin, based on thefamily name, and the probable place of origin is Tipperary.\n",
      "---------------\n",
      "They were Church of Ireland, andt hey were skilled artisans, who prosper inthe 18th Century.\n",
      "---------------\n",
      "One branch of the family do extremely well;Michael Kearney, (Obama's 6th great-granduncle) becomes embroiledin the Dublin city politics of the day and John Kearney who wouldbe a distant cousin of Obama's, went on to become the Provost ofTrinity College Dublin, and later Bishop of Ossory.\n",
      "---------------\n",
      "As the 19th Century progresses the family linefrom which Obama descends fails to prosper and they emigrate to theUS.\n",
      "---------------\n"
     ]
    }
   ],
   "source": [
    "for sent in s:\n",
    "    print(sent)\n",
    "    print('---------------')"
   ]
  },
  {
   "cell_type": "code",
   "execution_count": null,
   "metadata": {},
   "outputs": [],
   "source": []
  }
 ],
 "metadata": {
  "kernelspec": {
   "display_name": "Python 3",
   "language": "python",
   "name": "python3"
  },
  "language_info": {
   "codemirror_mode": {
    "name": "ipython",
    "version": 3
   },
   "file_extension": ".py",
   "mimetype": "text/x-python",
   "name": "python",
   "nbconvert_exporter": "python",
   "pygments_lexer": "ipython3",
   "version": "3.8.8"
  }
 },
 "nbformat": 4,
 "nbformat_minor": 2
}
